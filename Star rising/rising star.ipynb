{
 "cells": [
  {
   "cell_type": "code",
   "execution_count": 9,
   "metadata": {},
   "outputs": [
    {
     "name": "stdout",
     "output_type": "stream",
     "text": [
      "A.D. 1998-Aug-10 03:39:42.1724 UTC 0\n",
      "A.D. 1998-Aug-10 14:28:07.0083 UTC 1\n",
      "Mon 10 07:39 MST sets\n",
      "Mon 10 18:28 MST rises\n"
     ]
    }
   ],
   "source": [
    "from skyfield.api import N, Star, W, wgs84, load\n",
    "from skyfield.almanac import find_discrete, risings_and_settings, sunrise_sunset\n",
    "\n",
    "from pytz import timezone\n",
    "\n",
    "ts = load.timescale()\n",
    "t0 = ts.utc(1998, 8, 10)\n",
    "t1 = ts.utc(1998, 8, 11)\n",
    "\n",
    "moab = wgs84.latlon(27.3314, 88.6138, elevation_m = 1650)\n",
    "eph = load('de421.bsp')\n",
    "gc = Star(ra_hours=(0, 13, 0), dec_degrees=(15, 11, 0))\n",
    "\n",
    "f = risings_and_settings(eph, gc, moab)\n",
    "tz = timezone(\"Indian/Mahe\")\n",
    "tf, y = find_discrete(t0,t1,f)\n",
    "for i,j in zip(tf, y):\n",
    "    print(i.utc_jpl(),j)\n",
    "for t, updown in zip(*find_discrete(t0, t1, f)):\n",
    "    print(t.astimezone(tz).strftime('%a %d %H:%M'), 'MST',\n",
    "          'rises' if updown else 'sets')"
   ]
  },
  {
   "cell_type": "code",
   "execution_count": 13,
   "metadata": {},
   "outputs": [
    {
     "data": {
      "text/plain": [
       "<Time tt=2459256.9366612127>"
      ]
     },
     "execution_count": 13,
     "metadata": {},
     "output_type": "execute_result"
    }
   ],
   "source": [
    "t = load.timescale().now()\n",
    "t"
   ]
  },
  {
   "cell_type": "code",
   "execution_count": 11,
   "metadata": {},
   "outputs": [
    {
     "ename": "NameError",
     "evalue": "name 'gg' is not defined",
     "output_type": "error",
     "traceback": [
      "\u001b[1;31m---------------------------------------------------------------------------\u001b[0m",
      "\u001b[1;31mNameError\u001b[0m                                 Traceback (most recent call last)",
      "\u001b[1;32m<ipython-input-11-f5354f42cf76>\u001b[0m in \u001b[0;36m<module>\u001b[1;34m\u001b[0m\n\u001b[0;32m      1\u001b[0m \u001b[0mts\u001b[0m \u001b[1;33m=\u001b[0m \u001b[0mload\u001b[0m\u001b[1;33m.\u001b[0m\u001b[0mtimescale\u001b[0m\u001b[1;33m(\u001b[0m\u001b[1;33m)\u001b[0m\u001b[1;33m\u001b[0m\u001b[1;33m\u001b[0m\u001b[0m\n\u001b[0;32m      2\u001b[0m \u001b[0mtn\u001b[0m \u001b[1;33m=\u001b[0m \u001b[0mts\u001b[0m\u001b[1;33m.\u001b[0m\u001b[0mutc\u001b[0m\u001b[1;33m(\u001b[0m\u001b[1;36m1930\u001b[0m\u001b[1;33m,\u001b[0m \u001b[1;36m2\u001b[0m\u001b[1;33m,\u001b[0m \u001b[1;36m12\u001b[0m\u001b[1;33m,\u001b[0m \u001b[1;36m11\u001b[0m\u001b[1;33m)\u001b[0m\u001b[1;33m\u001b[0m\u001b[1;33m\u001b[0m\u001b[0m\n\u001b[1;32m----> 3\u001b[1;33m \u001b[0mdirection\u001b[0m \u001b[1;33m=\u001b[0m \u001b[0mgg\u001b[0m\u001b[1;33m.\u001b[0m\u001b[0mat\u001b[0m\u001b[1;33m(\u001b[0m\u001b[0mtn\u001b[0m\u001b[1;33m)\u001b[0m\u001b[1;33m.\u001b[0m\u001b[0mfrom_altaz\u001b[0m\u001b[1;33m(\u001b[0m\u001b[0malt_degrees\u001b[0m\u001b[1;33m=\u001b[0m \u001b[1;36m0\u001b[0m\u001b[1;33m,\u001b[0m \u001b[0maz_degrees\u001b[0m\u001b[1;33m=\u001b[0m\u001b[1;36m180\u001b[0m\u001b[1;33m)\u001b[0m\u001b[1;33m\u001b[0m\u001b[1;33m\u001b[0m\u001b[0m\n\u001b[0m\u001b[0;32m      4\u001b[0m \u001b[1;33m\u001b[0m\u001b[0m\n\u001b[0;32m      5\u001b[0m \u001b[0mra\u001b[0m\u001b[1;33m,\u001b[0m \u001b[0mdec\u001b[0m\u001b[1;33m,\u001b[0m \u001b[0mdistance\u001b[0m \u001b[1;33m=\u001b[0m \u001b[0mdirection\u001b[0m\u001b[1;33m.\u001b[0m\u001b[0mradec\u001b[0m\u001b[1;33m(\u001b[0m\u001b[1;33m)\u001b[0m\u001b[1;33m\u001b[0m\u001b[1;33m\u001b[0m\u001b[0m\n",
      "\u001b[1;31mNameError\u001b[0m: name 'gg' is not defined"
     ]
    }
   ],
   "source": [
    "ts = load.timescale()\n",
    "tn = ts.utc(1930, 2, 12, 11)\n",
    "direction = gg.at(tn).from_altaz(alt_degrees= 0, az_degrees=180)\n",
    "\n",
    "ra, dec, distance = direction.radec()\n",
    "print(ra.hours * 360 / 24)\n",
    "print(dec)\n",
    "print(distance)"
   ]
  },
  {
   "cell_type": "code",
   "execution_count": 12,
   "metadata": {},
   "outputs": [
    {
     "ename": "NameError",
     "evalue": "name 'gg' is not defined",
     "output_type": "error",
     "traceback": [
      "\u001b[1;31m---------------------------------------------------------------------------\u001b[0m",
      "\u001b[1;31mNameError\u001b[0m                                 Traceback (most recent call last)",
      "\u001b[1;32m<ipython-input-12-ead0ef3f0b5b>\u001b[0m in \u001b[0;36m<module>\u001b[1;34m\u001b[0m\n\u001b[0;32m      1\u001b[0m \u001b[0mearth\u001b[0m \u001b[1;33m=\u001b[0m \u001b[0meph\u001b[0m\u001b[1;33m[\u001b[0m\u001b[1;34m'earth'\u001b[0m\u001b[1;33m]\u001b[0m\u001b[1;33m\u001b[0m\u001b[1;33m\u001b[0m\u001b[0m\n\u001b[0;32m      2\u001b[0m \u001b[0mgangtok\u001b[0m \u001b[1;33m=\u001b[0m \u001b[0mearth\u001b[0m \u001b[1;33m+\u001b[0m \u001b[0mmoab\u001b[0m\u001b[1;33m\u001b[0m\u001b[1;33m\u001b[0m\u001b[0m\n\u001b[1;32m----> 3\u001b[1;33m \u001b[0maries\u001b[0m \u001b[1;33m=\u001b[0m \u001b[0mgg\u001b[0m\u001b[1;33m.\u001b[0m\u001b[0mat\u001b[0m\u001b[1;33m(\u001b[0m\u001b[0mtn\u001b[0m\u001b[1;33m)\u001b[0m\u001b[1;33m.\u001b[0m\u001b[0mobserve\u001b[0m\u001b[1;33m(\u001b[0m\u001b[0mgc\u001b[0m\u001b[1;33m)\u001b[0m\u001b[1;33m\u001b[0m\u001b[1;33m\u001b[0m\u001b[0m\n\u001b[0m\u001b[0;32m      4\u001b[0m \u001b[0mra\u001b[0m\u001b[1;33m,\u001b[0m \u001b[0mdec\u001b[0m\u001b[1;33m,\u001b[0m \u001b[0mdist\u001b[0m \u001b[1;33m=\u001b[0m \u001b[0maries\u001b[0m\u001b[1;33m.\u001b[0m\u001b[0mradec\u001b[0m\u001b[1;33m(\u001b[0m\u001b[1;33m)\u001b[0m\u001b[1;33m\u001b[0m\u001b[1;33m\u001b[0m\u001b[0m\n\u001b[0;32m      5\u001b[0m \u001b[0mprint\u001b[0m\u001b[1;33m(\u001b[0m\u001b[0mra\u001b[0m\u001b[1;33m)\u001b[0m\u001b[1;33m\u001b[0m\u001b[1;33m\u001b[0m\u001b[0m\n",
      "\u001b[1;31mNameError\u001b[0m: name 'gg' is not defined"
     ]
    }
   ],
   "source": [
    "earth = eph['earth']\n",
    "gangtok = earth + moab\n",
    "aries = gg.at(tn).observe(gc)\n",
    "ra, dec, dist = aries.radec()\n",
    "print(ra)"
   ]
  },
  {
   "cell_type": "code",
   "execution_count": 27,
   "metadata": {},
   "outputs": [
    {
     "ename": "NameError",
     "evalue": "name 'direction' is not defined",
     "output_type": "error",
     "traceback": [
      "\u001b[1;31m---------------------------------------------------------------------------\u001b[0m",
      "\u001b[1;31mNameError\u001b[0m                                 Traceback (most recent call last)",
      "\u001b[1;32m<ipython-input-27-f2ae77df599e>\u001b[0m in \u001b[0;36m<module>\u001b[1;34m\u001b[0m\n\u001b[0;32m      1\u001b[0m \u001b[1;33m\u001b[0m\u001b[0m\n\u001b[0;32m      2\u001b[0m \u001b[0mhorizon\u001b[0m \u001b[1;33m=\u001b[0m \u001b[0mgangtok\u001b[0m\u001b[1;33m.\u001b[0m\u001b[0mat\u001b[0m\u001b[1;33m(\u001b[0m\u001b[0mtime\u001b[0m\u001b[1;33m)\u001b[0m\u001b[1;33m.\u001b[0m\u001b[0mfrom_altaz\u001b[0m\u001b[1;33m(\u001b[0m\u001b[0malt_degrees\u001b[0m \u001b[1;33m=\u001b[0m \u001b[1;36m0\u001b[0m\u001b[1;33m,\u001b[0m \u001b[0maz_degrees\u001b[0m \u001b[1;33m=\u001b[0m \u001b[1;36m180\u001b[0m\u001b[1;33m)\u001b[0m\u001b[1;33m\u001b[0m\u001b[1;33m\u001b[0m\u001b[0m\n\u001b[1;32m----> 3\u001b[1;33m \u001b[0mra\u001b[0m\u001b[1;33m,\u001b[0m \u001b[0mdec\u001b[0m\u001b[1;33m,\u001b[0m \u001b[0mdist\u001b[0m \u001b[1;33m=\u001b[0m \u001b[0mdirection\u001b[0m\u001b[1;33m.\u001b[0m\u001b[0mradec\u001b[0m\u001b[1;33m(\u001b[0m\u001b[1;33m)\u001b[0m\u001b[1;33m\u001b[0m\u001b[1;33m\u001b[0m\u001b[0m\n\u001b[0m\u001b[0;32m      4\u001b[0m \u001b[0mAs\u001b[0m \u001b[1;33m=\u001b[0m \u001b[0mra\u001b[0m\u001b[1;33m.\u001b[0m\u001b[0mhours\u001b[0m \u001b[1;33m*\u001b[0m \u001b[1;36m360\u001b[0m \u001b[1;33m/\u001b[0m \u001b[1;36m24\u001b[0m\u001b[1;33m\u001b[0m\u001b[1;33m\u001b[0m\u001b[0m\n\u001b[0;32m      5\u001b[0m \u001b[1;31m#     return As\u001b[0m\u001b[1;33m\u001b[0m\u001b[1;33m\u001b[0m\u001b[1;33m\u001b[0m\u001b[0m\n",
      "\u001b[1;31mNameError\u001b[0m: name 'direction' is not defined"
     ]
    }
   ],
   "source": [
    "\n",
    "horizon = gangtok.at(time).from_altaz(alt_degrees = 0, az_degrees = 180)\n",
    "ra, dec, dist = direction.radec()\n",
    "As = ra.hours * 360 / 24\n",
    "#     return As"
   ]
  },
  {
   "cell_type": "code",
   "execution_count": 73,
   "metadata": {},
   "outputs": [
    {
     "data": {
      "text/plain": [
       "35.91500298672314"
      ]
     },
     "execution_count": 73,
     "metadata": {},
     "output_type": "execute_result"
    }
   ],
   "source": [
    "tn = ts.utc(1930, 2, 12, 11)\n",
    "rising(tn)"
   ]
  },
  {
   "cell_type": "code",
   "execution_count": 29,
   "metadata": {},
   "outputs": [
    {
     "name": "stdout",
     "output_type": "stream",
     "text": [
      "<Time tt=2458849.5392192346>\n",
      "[1 0]\n"
     ]
    }
   ],
   "source": [
    "t0 = ts.utc(2020, 1, 1, 0)\n",
    "t1 = ts.utc(2020, 1, 1, 23)\n",
    "t, y = find_discrete(t0, t1, sunrise_sunset(eph, moab))\n",
    "\n",
    "print(t[0])\n",
    "print(y)"
   ]
  },
  {
   "cell_type": "code",
   "execution_count": 34,
   "metadata": {},
   "outputs": [],
   "source": [
    "sun = eph['sun']\n",
    "earth = eph['earth']\n",
    "gangtok = earth + moab\n",
    "time = ts.utc(2020, 1, 1, 5, 55)"
   ]
  },
  {
   "cell_type": "code",
   "execution_count": 22,
   "metadata": {},
   "outputs": [],
   "source": [
    "suns = gangtok.at(time).observe(sun).apparent()"
   ]
  },
  {
   "cell_type": "code",
   "execution_count": 17,
   "metadata": {},
   "outputs": [
    {
     "name": "stdout",
     "output_type": "stream",
     "text": [
      "18h 42m 32.55s\n"
     ]
    }
   ],
   "source": [
    "ra, dec, dist = suns.radec()\n",
    "print(ra)"
   ]
  },
  {
   "cell_type": "code",
   "execution_count": 19,
   "metadata": {},
   "outputs": [
    {
     "name": "stdout",
     "output_type": "stream",
     "text": [
      "115deg 38' 47.4\"\n"
     ]
    }
   ],
   "source": [
    "alt, az, distance = suns.altaz()\n",
    "print(az)"
   ]
  },
  {
   "cell_type": "code",
   "execution_count": 23,
   "metadata": {},
   "outputs": [
    {
     "name": "stdout",
     "output_type": "stream",
     "text": [
      "18h 43m 27.28s\n"
     ]
    }
   ],
   "source": [
    "ra, dec, dist = suns.radec()\n",
    "print(ra)"
   ]
  },
  {
   "cell_type": "code",
   "execution_count": 24,
   "metadata": {},
   "outputs": [
    {
     "name": "stdout",
     "output_type": "stream",
     "text": [
      "175deg 53' 53.2\"\n"
     ]
    }
   ],
   "source": [
    "alt, az, distance = suns.altaz()\n",
    "print(az)"
   ]
  },
  {
   "cell_type": "code",
   "execution_count": 41,
   "metadata": {},
   "outputs": [
    {
     "name": "stdout",
     "output_type": "stream",
     "text": [
      "A.D. 2020-Jan-01 05:03:05.2503 UTC\n",
      "Azimuth 113deg 01' 38.6\"\n",
      "Altitude 64deg 23' 01.3\"\n"
     ]
    }
   ],
   "source": [
    "As = Star(ra_hours=(0, 13, 0), dec_degrees=(15, 11, 0))\n",
    "t0 = ts.utc(2020, 1, 1, 0)\n",
    "t1 = ts.utc(2020, 1, 1, 23)\n",
    "f = risings_and_settings(eph, As, moab)\n",
    "tf, y = find_discrete(t0,t1,f)\n",
    "for i,j in zip(tf, y):\n",
    "    if(j == 1):\n",
    "        riset = i\n",
    "print(riset.utc_jpl())\n",
    "gangtok = earth + moab\n",
    "tr = ts.utc(2020, 1, 1, 10)\n",
    "rise = gangtok.at(tr).observe(As).apparent()\n",
    "alt, az, distance = rise.altaz()\n",
    "print('Azimuth',az)\n",
    "print('Altitude',alt)"
   ]
  },
  {
   "cell_type": "code",
   "execution_count": null,
   "metadata": {},
   "outputs": [],
   "source": []
  }
 ],
 "metadata": {
  "kernelspec": {
   "display_name": "Python 3",
   "language": "python",
   "name": "python3"
  },
  "language_info": {
   "codemirror_mode": {
    "name": "ipython",
    "version": 3
   },
   "file_extension": ".py",
   "mimetype": "text/x-python",
   "name": "python",
   "nbconvert_exporter": "python",
   "pygments_lexer": "ipython3",
   "version": "3.7.2"
  }
 },
 "nbformat": 4,
 "nbformat_minor": 2
}
