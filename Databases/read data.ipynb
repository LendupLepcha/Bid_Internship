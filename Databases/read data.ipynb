{
 "cells": [
  {
   "cell_type": "code",
   "execution_count": 1,
   "metadata": {},
   "outputs": [],
   "source": [
    "import psycopg2"
   ]
  },
  {
   "cell_type": "code",
   "execution_count": 2,
   "metadata": {},
   "outputs": [],
   "source": [
    "database = 'bid'\n",
    "user = 'postgres'\n",
    "password = 'lendup123'"
   ]
  },
  {
   "cell_type": "code",
   "execution_count": 40,
   "metadata": {},
   "outputs": [],
   "source": [
    "connection = psycopg2.connect(database=database, user=user, password=password)\n",
    "cursor = connection.cursor()"
   ]
  },
  {
   "cell_type": "code",
   "execution_count": 36,
   "metadata": {},
   "outputs": [],
   "source": []
  },
  {
   "cell_type": "code",
   "execution_count": 41,
   "metadata": {},
   "outputs": [],
   "source": [
    "create_table = \"CREATE TABLE testing_members (id SERIAL PRIMARY KEY, name VARCHAR (25) NOT NULL)\"\n",
    "cursor.execute(create_table)"
   ]
  },
  {
   "cell_type": "code",
   "execution_count": 38,
   "metadata": {},
   "outputs": [],
   "source": []
  },
  {
   "cell_type": "code",
   "execution_count": 43,
   "metadata": {},
   "outputs": [
    {
     "name": "stdout",
     "output_type": "stream",
     "text": [
      "1 Python\n",
      "2 C\n",
      "3 JavaScript\n",
      "4 React\n",
      "5 Django\n"
     ]
    }
   ],
   "source": [
    "testing_members = ['Python', 'C', 'JavaScript', 'React', 'Django']\n",
    "# query to populate the table testing_members\n",
    "for testing_member in testing_members:\n",
    "    populate_db = f\"INSERT INTO testing_members (name) VALUES ('{testing_member}')\"\n",
    "    cursor.execute(populate_db)\n",
    "   # saving the changes to the database\n",
    "    connection.commit()\n",
    "   # query to fetch all\n",
    "fetch_all = \"SELECT * FROM testing_members\"\n",
    "cursor.execute(fetch_all)\n",
    "   # fetching all the rows\n",
    "rows = cursor.fetchall()\n",
    "   # printing the data\n",
    "for row in rows:\n",
    "    print(f\"{row[0]} {row[1]}\")\n",
    "      # closing the connection\n",
    "connection.close()\n",
    "    "
   ]
  },
  {
   "cell_type": "code",
   "execution_count": null,
   "metadata": {},
   "outputs": [],
   "source": []
  }
 ],
 "metadata": {
  "kernelspec": {
   "display_name": "Python 3",
   "language": "python",
   "name": "python3"
  },
  "language_info": {
   "codemirror_mode": {
    "name": "ipython",
    "version": 3
   },
   "file_extension": ".py",
   "mimetype": "text/x-python",
   "name": "python",
   "nbconvert_exporter": "python",
   "pygments_lexer": "ipython3",
   "version": "3.7.2"
  }
 },
 "nbformat": 4,
 "nbformat_minor": 2
}
