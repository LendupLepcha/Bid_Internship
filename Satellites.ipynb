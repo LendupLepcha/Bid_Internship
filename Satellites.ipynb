{
 "cells": [
  {
   "cell_type": "markdown",
   "metadata": {},
   "source": [
    "# Loading satellites to program"
   ]
  },
  {
   "cell_type": "code",
   "execution_count": 1,
   "metadata": {},
   "outputs": [
    {
     "name": "stderr",
     "output_type": "stream",
     "text": [
      "\r",
      "[#################################] 100% stations.txt\n"
     ]
    },
    {
     "name": "stdout",
     "output_type": "stream",
     "text": [
      "Loaded 69 satellites\n"
     ]
    }
   ],
   "source": [
    "from skyfield.api import load, wgs84\n",
    "\n",
    "stations_url = 'http://celestrak.com/NORAD/elements/stations.txt'\n",
    "satellites = load.tle_file(stations_url)\n",
    "print('Loaded', len(satellites), 'satellites')"
   ]
  },
  {
   "cell_type": "markdown",
   "metadata": {},
   "source": [
    "# making a dictionary with name as their key"
   ]
  },
  {
   "cell_type": "code",
   "execution_count": 3,
   "metadata": {},
   "outputs": [],
   "source": [
    "\n",
    "by_name = {sat.name: sat for sat in satellites}\n"
   ]
  },
  {
   "cell_type": "code",
   "execution_count": 25,
   "metadata": {},
   "outputs": [
    {
     "name": "stdout",
     "output_type": "stream",
     "text": [
      "ISS (ZARYA) catalog #25544 epoch 2021-01-20 05:38:49 UTC\n"
     ]
    }
   ],
   "source": [
    "# Lookup by name\n",
    "satellite = by_name['ISS (ZARYA)']\n",
    "print(satellite)\n"
   ]
  },
  {
   "cell_type": "code",
   "execution_count": 49,
   "metadata": {},
   "outputs": [
    {
     "name": "stdout",
     "output_type": "stream",
     "text": [
      "ISS (ZARYA)\n",
      "KESTREL EYE IIM (KE2M)\n",
      "DELLINGR (RBLE)\n",
      "TEMPEST-D\n",
      "RADSAT-G\n",
      "AEROCUBE 12A\n",
      "AEROCUBE 12B\n",
      "LEMUR-2-VU\n",
      "LEMUR-2-ALEXANDER\n",
      "LEMUR-2-YUASA\n",
      "LEMUR-2-TOMHENDERSON\n",
      "1998-067PN\n",
      "1998-067PP\n",
      "STARS-ME\n",
      "ISS DEB (SEDA-AP)\n",
      "CATSAT-2\n",
      "DELPHINI\n",
      "UNITE\n",
      "CATSAT-1\n",
      "ISS DEB\n",
      "RAAVANA-1\n",
      "UGUISU\n",
      "NEPALISAT-1\n",
      "SPOOQY-1\n",
      "RED-EYE 1 (PINOT)\n",
      "IOD-1 GEMS\n",
      "SWIATOWID\n",
      "KRAKSAT\n",
      "VCC A\n",
      "ENTRYSAT\n",
      "VCC C\n",
      "VCC B\n",
      "RWASAT-1\n",
      "AQT-D\n",
      "NARSSCUBE-1\n",
      "STPSAT-4\n",
      "HARP\n",
      "1998-067RA\n",
      "PHOENIX\n",
      "1998-067RC\n",
      "CRYOCUBE\n",
      "AZTECHSAT-1\n",
      "RADSAT-U\n",
      "QARMAN\n",
      "SORTIE\n",
      "ICS-EF (ISS DEB)\n",
      "PROGRESS-MS 14\n",
      "G-SAT\n",
      "QUETZAL-1\n",
      "RED-EYE 2 (MERLOT)\n",
      "RED-EYE 3 (CABERNET)\n",
      "DEMI\n",
      "TECHEDSAT 10\n",
      "PROGRESS-MS 15\n",
      "CYGNUS NG-14\n",
      "SOYUZ-MS 17\n",
      "CREW DRAGON 1\n",
      "SPOC\n",
      "BOBCAT-1\n",
      "NEUTRON-1\n",
      "1998-067RU\n",
      "LEMUR-2-BAXTER-OLIVER\n",
      "LEMUR-2-DJARA\n",
      "DESCENT\n"
     ]
    }
   ],
   "source": [
    "for i in by_name:\n",
    "    print(i)"
   ]
  },
  {
   "cell_type": "markdown",
   "metadata": {},
   "source": [
    "# Making their number as key"
   ]
  },
  {
   "cell_type": "code",
   "execution_count": 19,
   "metadata": {},
   "outputs": [
    {
     "name": "stdout",
     "output_type": "stream",
     "text": [
      "ISS (ZARYA) catalog #25544 epoch 2021-01-20 05:38:49 UTC\n"
     ]
    }
   ],
   "source": [
    "by_number = {sat.model.satnum: sat for sat in satellites}\n",
    "satellite = by_number[25544]\n",
    "print(satellite)"
   ]
  },
  {
   "cell_type": "markdown",
   "metadata": {},
   "source": [
    "# Perform queries"
   ]
  },
  {
   "cell_type": "code",
   "execution_count": 16,
   "metadata": {},
   "outputs": [
    {
     "name": "stderr",
     "output_type": "stream",
     "text": [
      "\r",
      "[#################################] 100% tle-CATNR-25544.txt\n"
     ]
    },
    {
     "name": "stdout",
     "output_type": "stream",
     "text": [
      "[<EarthSatellite ISS (ZARYA) catalog #25544 epoch 2021-01-20 05:38:49 UTC>]\n"
     ]
    }
   ],
   "source": [
    "n = 25544 #Satllite number\n",
    "url = 'https://celestrak.com/satcat/tle.php?CATNR={}'.format(n)\n",
    "filename = 'tle-CATNR-{}.txt'.format(n)\n",
    "satellites = load.tle_file(url, filename=filename, reload=True)\n",
    "print(satellites)"
   ]
  },
  {
   "cell_type": "code",
   "execution_count": 20,
   "metadata": {},
   "outputs": [
    {
     "name": "stdout",
     "output_type": "stream",
     "text": [
      "A.D. 2021-Jan-20 05:38:49.3230 UTC\n"
     ]
    }
   ],
   "source": [
    "print(satellite.epoch.utc_jpl())"
   ]
  },
  {
   "cell_type": "markdown",
   "metadata": {},
   "source": [
    "# Loading form Strings"
   ]
  },
  {
   "cell_type": "code",
   "execution_count": 22,
   "metadata": {},
   "outputs": [
    {
     "name": "stdout",
     "output_type": "stream",
     "text": [
      "ISS (ZARYA) catalog #25544 epoch 2014-01-20 22:23:04 UTC\n"
     ]
    }
   ],
   "source": [
    "from skyfield.api import EarthSatellite\n",
    "\n",
    "ts = load.timescale()\n",
    "line1 = '1 25544U 98067A   14020.93268519  .00009878  00000-0  18200-3 0  5082'\n",
    "line2 = '2 25544  51.6498 109.4756 0003572  55.9686 274.8005 15.49815350868473'\n",
    "satellite = EarthSatellite(line1, line2, 'ISS (ZARYA)', ts)\n",
    "print(satellite)"
   ]
  },
  {
   "cell_type": "markdown",
   "metadata": {},
   "source": [
    "## Checking epoch"
   ]
  },
  {
   "cell_type": "code",
   "execution_count": 40,
   "metadata": {},
   "outputs": [
    {
     "name": "stdout",
     "output_type": "stream",
     "text": [
      "A.D. 2021-Jan-20 05:38:49.3230 UTC\n"
     ]
    }
   ],
   "source": [
    "print(satellite.epoch.utc_jpl())"
   ]
  },
  {
   "cell_type": "markdown",
   "metadata": {},
   "source": [
    "## Rise and set of satellite"
   ]
  },
  {
   "cell_type": "code",
   "execution_count": 38,
   "metadata": {},
   "outputs": [
    {
     "name": "stdout",
     "output_type": "stream",
     "text": [
      "2021 Jan 20 11:25:36 rise above 30°\n",
      "2021 Jan 20 11:27:01 culminate\n",
      "2021 Jan 20 11:28:27 set below 30°\n",
      "2021 Jan 20 19:36:58 rise above 30°\n",
      "2021 Jan 20 19:38:20 culminate\n",
      "2021 Jan 20 19:39:42 set below 30°\n"
     ]
    }
   ],
   "source": [
    "bluffton = wgs84.latlon(+27.3314, +88.6138)\n",
    "t0 = ts.utc(2021, 1, 20)\n",
    "t1 = ts.utc(2021, 1, 21)\n",
    "t, events = satellite.find_events(bluffton, t0, t1, altitude_degrees=30.0)\n",
    "for ti, event in zip(t, events):\n",
    "    name = ('rise above 30°', 'culminate', 'set below 30°')[event]\n",
    "    print(ti.utc_strftime('%Y %b %d %H:%M:%S'), name)"
   ]
  },
  {
   "cell_type": "markdown",
   "metadata": {},
   "source": [
    "## position of satellite"
   ]
  },
  {
   "cell_type": "code",
   "execution_count": 39,
   "metadata": {},
   "outputs": [
    {
     "name": "stdout",
     "output_type": "stream",
     "text": [
      "[-2708.99494262  4072.17310385  4711.43050537]\n"
     ]
    }
   ],
   "source": [
    "t = ts.now()\n",
    "\n",
    "geocentric = satellite.at(t)\n",
    "print(geocentric.position.km) # x,y,z coordinates from Earths center as reference"
   ]
  },
  {
   "cell_type": "code",
   "execution_count": 42,
   "metadata": {},
   "outputs": [
    {
     "name": "stdout",
     "output_type": "stream",
     "text": [
      "Latitude: 44deg 02' 43.9\"\n",
      "Longitude: -149deg 43' 45.0\"\n",
      "Elevation (m): 423240\n"
     ]
    }
   ],
   "source": [
    "subpoint = wgs84.subpoint(geocentric)\n",
    "print('Latitude:', subpoint.latitude)\n",
    "print('Longitude:', subpoint.longitude)\n",
    "print('Elevation (m):', int(subpoint.elevation.m))"
   ]
  },
  {
   "cell_type": "code",
   "execution_count": 43,
   "metadata": {},
   "outputs": [
    {
     "name": "stdout",
     "output_type": "stream",
     "text": [
      "Sum of 2 vectors:\n",
      " Reversed Geodetic WGS84 latitude 27deg 19' 53.0\" N longitude 88deg 36' 49.7\" E -> 399 EARTH\n",
      " EarthSatellite 399 EARTH -> ISS (ZARYA) catalog #25544 epoch 2021-01-20 05:38:49 UTC\n"
     ]
    }
   ],
   "source": [
    "difference = satellite - bluffton\n",
    "print(difference)"
   ]
  },
  {
   "cell_type": "code",
   "execution_count": 45,
   "metadata": {},
   "outputs": [
    {
     "name": "stdout",
     "output_type": "stream",
     "text": [
      "[-8381.27357517  3867.43264488  1811.97149357]\n"
     ]
    }
   ],
   "source": [
    "topocentric = difference.at(t)\n",
    "print(topocentric.position.km)"
   ]
  },
  {
   "cell_type": "markdown",
   "metadata": {},
   "source": [
    "## topocentric position using altitude and azimuth coordinates"
   ]
  },
  {
   "cell_type": "code",
   "execution_count": 46,
   "metadata": {},
   "outputs": [
    {
     "name": "stdout",
     "output_type": "stream",
     "text": [
      "-43deg 40' 24.2\"\n",
      "37deg 46' 27.4\"\n",
      "9406 km\n"
     ]
    }
   ],
   "source": [
    "\n",
    "alt, az, distance = topocentric.altaz()\n",
    "\n",
    "if alt.degrees > 0:\n",
    "    print('The ISS is above the horizon')\n",
    "\n",
    "print(alt)\n",
    "print(az)\n",
    "print(int(distance.km), 'km')"
   ]
  },
  {
   "cell_type": "markdown",
   "metadata": {},
   "source": [
    "## if satellite is in sunlight"
   ]
  },
  {
   "cell_type": "code",
   "execution_count": 68,
   "metadata": {},
   "outputs": [
    {
     "name": "stdout",
     "output_type": "stream",
     "text": [
      "[False  True  True  True False False]\n"
     ]
    }
   ],
   "source": [
    "eph = load('de421.bsp')\n",
    "satellite = by_name['RED-EYE 3 (CABERNET)']\n",
    "\n",
    "two_hours = ts.utc(2021, 1, 20, 11, range(0, 120, 20))\n",
    "sunlit = satellite.at(two_hours).is_sunlit(eph)\n",
    "print(sunlit)"
   ]
  },
  {
   "cell_type": "code",
   "execution_count": 54,
   "metadata": {},
   "outputs": [
    {
     "name": "stdout",
     "output_type": "stream",
     "text": [
      "A.D. 2021-Jan-20 04:16:54.4253 UTC\n"
     ]
    }
   ],
   "source": [
    "print(satellite.epoch.utc_jpl())"
   ]
  },
  {
   "cell_type": "code",
   "execution_count": 66,
   "metadata": {},
   "outputs": [
    {
     "data": {
      "text/plain": [
       "'2021-01-20 11:26:09 UTC'"
      ]
     },
     "execution_count": 66,
     "metadata": {},
     "output_type": "execute_result"
    }
   ],
   "source": [
    "ts.now().utc_strftime(format='%Y-%m-%d %H:%M:%S UTC')\n"
   ]
  },
  {
   "cell_type": "code",
   "execution_count": 56,
   "metadata": {},
   "outputs": [
    {
     "data": {
      "text/plain": [
       "<Time tt=1721027.5004882407>"
      ]
     },
     "execution_count": 56,
     "metadata": {},
     "output_type": "execute_result"
    }
   ],
   "source": [
    "ts.utc(0,0,0)"
   ]
  },
  {
   "cell_type": "code",
   "execution_count": 71,
   "metadata": {},
   "outputs": [
    {
     "name": "stdout",
     "output_type": "stream",
     "text": [
      "2021-01-20 11:00  RED-EYE 3 (CABERNET) is in shadow\n",
      "2021-01-20 11:20  RED-EYE 3 (CABERNET) is in sunlight\n",
      "2021-01-20 11:40  RED-EYE 3 (CABERNET) is in sunlight\n",
      "2021-01-20 12:00  RED-EYE 3 (CABERNET) is in sunlight\n",
      "2021-01-20 12:20  RED-EYE 3 (CABERNET) is in shadow\n",
      "2021-01-20 12:40  RED-EYE 3 (CABERNET) is in shadow\n"
     ]
    }
   ],
   "source": [
    "two_hours = ts.utc(2021, 1, 20, 11, range(0, 120, 20))\n",
    "for ti, sunlit_i in zip(two_hours, sunlit):\n",
    "    print('{}  {} is in {}'.format(\n",
    "        ti.utc_strftime('%Y-%m-%d %H:%M'),satellite.name,'sunlight' if sunlit_i else 'shadow'))"
   ]
  },
  {
   "cell_type": "markdown",
   "metadata": {},
   "source": [
    "# Find whether the Earth blocks a satellite’s view"
   ]
  },
  {
   "cell_type": "code",
   "execution_count": 73,
   "metadata": {},
   "outputs": [
    {
     "name": "stdout",
     "output_type": "stream",
     "text": [
      "[ True False False False  True  True]\n"
     ]
    }
   ],
   "source": [
    "ph = load('de421.bsp')\n",
    "earth, venus = eph['earth'], eph['venus']\n",
    "satellite = by_name['RED-EYE 3 (CABERNET)']\n",
    "\n",
    "two_hours = ts.utc(2021, 1, 20, 11, range(0, 120, 20))\n",
    "p = (earth + satellite).at(two_hours).observe(venus).apparent()\n",
    "sunlit = p.is_behind_earth()\n",
    "print(sunlit)"
   ]
  },
  {
   "cell_type": "code",
   "execution_count": null,
   "metadata": {},
   "outputs": [],
   "source": []
  }
 ],
 "metadata": {
  "kernelspec": {
   "display_name": "Python 3",
   "language": "python",
   "name": "python3"
  },
  "language_info": {
   "codemirror_mode": {
    "name": "ipython",
    "version": 3
   },
   "file_extension": ".py",
   "mimetype": "text/x-python",
   "name": "python",
   "nbconvert_exporter": "python",
   "pygments_lexer": "ipython3",
   "version": "3.7.2"
  }
 },
 "nbformat": 4,
 "nbformat_minor": 2
}
