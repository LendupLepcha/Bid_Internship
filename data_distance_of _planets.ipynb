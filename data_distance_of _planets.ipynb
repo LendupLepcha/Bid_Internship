{
 "cells": [
  {
   "cell_type": "code",
   "execution_count": 3,
   "metadata": {},
   "outputs": [],
   "source": [
    "from skyfield.api import load, wgs84, Angle\n",
    "import pickle\n",
    "from skyfield.api import  Topos\n",
    "from skyfield.positionlib import ICRF"
   ]
  },
  {
   "cell_type": "code",
   "execution_count": 9,
   "metadata": {},
   "outputs": [],
   "source": [
    "planets=[\n",
    "    'mercury barycenter',\n",
    "    'venus barycenter',\n",
    "    'mars barycenter',\n",
    "    'jupiter barycenter',\n",
    "    'saturn barycenter',\n",
    "    'uranus barycenter',\n",
    "    'neptune barycenter',\n",
    "]\n",
    "ts = load.timescale()\n",
    "time_p = ts.utc(2018, 1, range(1,365*3+2),12,20)"
   ]
  },
  {
   "cell_type": "code",
   "execution_count": 10,
   "metadata": {},
   "outputs": [
    {
     "data": {
      "text/plain": [
       "'A.D. 2020-Dec-31 12:20:00.0000 UTC'"
      ]
     },
     "execution_count": 10,
     "metadata": {},
     "output_type": "execute_result"
    }
   ],
   "source": [
    "time_p[365*3].utc_jpl()"
   ]
  },
  {
   "cell_type": "code",
   "execution_count": 11,
   "metadata": {},
   "outputs": [],
   "source": [
    "eph = load('de421.bsp')"
   ]
  },
  {
   "cell_type": "code",
   "execution_count": 10,
   "metadata": {},
   "outputs": [
    {
     "ename": "KeyError",
     "evalue": "\"kernel 'de421.bsp' is missing 'JUPITER' - the targets it supports are: 0 SOLAR SYSTEM BARYCENTER, 1 MERCURY BARYCENTER, 2 VENUS BARYCENTER, 3 EARTH BARYCENTER, 4 MARS BARYCENTER, 5 JUPITER BARYCENTER, 6 SATURN BARYCENTER, 7 URANUS BARYCENTER, 8 NEPTUNE BARYCENTER, 9 PLUTO BARYCENTER, 10 SUN, 199 MERCURY, 399 EARTH, 299 VENUS, 301 MOON, 499 MARS\"",
     "output_type": "error",
     "traceback": [
      "\u001b[1;31m---------------------------------------------------------------------------\u001b[0m",
      "\u001b[1;31mKeyError\u001b[0m                                  Traceback (most recent call last)",
      "\u001b[1;32m<ipython-input-10-1ed2b88e791d>\u001b[0m in \u001b[0;36m<module>\u001b[1;34m\u001b[0m\n\u001b[0;32m      1\u001b[0m \u001b[0mP\u001b[0m\u001b[1;33m=\u001b[0m\u001b[1;33m[\u001b[0m\u001b[1;33m]\u001b[0m\u001b[1;33m\u001b[0m\u001b[1;33m\u001b[0m\u001b[0m\n\u001b[0;32m      2\u001b[0m \u001b[1;32mfor\u001b[0m \u001b[0mi\u001b[0m \u001b[1;32min\u001b[0m \u001b[0mplanets\u001b[0m\u001b[1;33m:\u001b[0m\u001b[1;33m\u001b[0m\u001b[1;33m\u001b[0m\u001b[0m\n\u001b[1;32m----> 3\u001b[1;33m     \u001b[0mP\u001b[0m\u001b[1;33m.\u001b[0m\u001b[0mappend\u001b[0m\u001b[1;33m(\u001b[0m\u001b[0meph\u001b[0m\u001b[1;33m[\u001b[0m\u001b[0mi\u001b[0m\u001b[1;33m]\u001b[0m\u001b[1;33m)\u001b[0m\u001b[1;33m\u001b[0m\u001b[1;33m\u001b[0m\u001b[0m\n\u001b[0m",
      "\u001b[1;32mc:\\python3\\lib\\site-packages\\skyfield\\jpllib.py\u001b[0m in \u001b[0;36m__getitem__\u001b[1;34m(self, target)\u001b[0m\n\u001b[0;32m    165\u001b[0m     \u001b[1;32mdef\u001b[0m \u001b[0m__getitem__\u001b[0m\u001b[1;33m(\u001b[0m\u001b[0mself\u001b[0m\u001b[1;33m,\u001b[0m \u001b[0mtarget\u001b[0m\u001b[1;33m)\u001b[0m\u001b[1;33m:\u001b[0m\u001b[1;33m\u001b[0m\u001b[1;33m\u001b[0m\u001b[0m\n\u001b[0;32m    166\u001b[0m         \u001b[1;34m\"\"\"Return a vector function for computing the location of `target`.\"\"\"\u001b[0m\u001b[1;33m\u001b[0m\u001b[1;33m\u001b[0m\u001b[0m\n\u001b[1;32m--> 167\u001b[1;33m         \u001b[0mtarget\u001b[0m \u001b[1;33m=\u001b[0m \u001b[0mself\u001b[0m\u001b[1;33m.\u001b[0m\u001b[0mdecode\u001b[0m\u001b[1;33m(\u001b[0m\u001b[0mtarget\u001b[0m\u001b[1;33m)\u001b[0m\u001b[1;33m\u001b[0m\u001b[1;33m\u001b[0m\u001b[0m\n\u001b[0m\u001b[0;32m    168\u001b[0m         \u001b[0msegments\u001b[0m \u001b[1;33m=\u001b[0m \u001b[0mself\u001b[0m\u001b[1;33m.\u001b[0m\u001b[0msegments\u001b[0m\u001b[1;33m\u001b[0m\u001b[1;33m\u001b[0m\u001b[0m\n\u001b[0;32m    169\u001b[0m         \u001b[0msegment_dict\u001b[0m \u001b[1;33m=\u001b[0m \u001b[0mdict\u001b[0m\u001b[1;33m(\u001b[0m\u001b[1;33m(\u001b[0m\u001b[0msegment\u001b[0m\u001b[1;33m.\u001b[0m\u001b[0mtarget\u001b[0m\u001b[1;33m,\u001b[0m \u001b[0msegment\u001b[0m\u001b[1;33m)\u001b[0m \u001b[1;32mfor\u001b[0m \u001b[0msegment\u001b[0m \u001b[1;32min\u001b[0m \u001b[0msegments\u001b[0m\u001b[1;33m)\u001b[0m\u001b[1;33m\u001b[0m\u001b[1;33m\u001b[0m\u001b[0m\n",
      "\u001b[1;32mc:\\python3\\lib\\site-packages\\skyfield\\jpllib.py\u001b[0m in \u001b[0;36mdecode\u001b[1;34m(self, name)\u001b[0m\n\u001b[0;32m    160\u001b[0m             raise KeyError('kernel {0!r} is missing {1!r} -'\n\u001b[0;32m    161\u001b[0m                            \u001b[1;34m' the targets it supports are: {2}'\u001b[0m\u001b[1;33m\u001b[0m\u001b[1;33m\u001b[0m\u001b[0m\n\u001b[1;32m--> 162\u001b[1;33m                            .format(self.filename, name, targets))\n\u001b[0m\u001b[0;32m    163\u001b[0m         \u001b[1;32mreturn\u001b[0m \u001b[0mcode\u001b[0m\u001b[1;33m\u001b[0m\u001b[1;33m\u001b[0m\u001b[0m\n\u001b[0;32m    164\u001b[0m \u001b[1;33m\u001b[0m\u001b[0m\n",
      "\u001b[1;31mKeyError\u001b[0m: \"kernel 'de421.bsp' is missing 'JUPITER' - the targets it supports are: 0 SOLAR SYSTEM BARYCENTER, 1 MERCURY BARYCENTER, 2 VENUS BARYCENTER, 3 EARTH BARYCENTER, 4 MARS BARYCENTER, 5 JUPITER BARYCENTER, 6 SATURN BARYCENTER, 7 URANUS BARYCENTER, 8 NEPTUNE BARYCENTER, 9 PLUTO BARYCENTER, 10 SUN, 199 MERCURY, 399 EARTH, 299 VENUS, 301 MOON, 499 MARS\""
     ]
    }
   ],
   "source": [
    "# earth = eph['earth']\n",
    "# gangtok = earth + wgs84.latlon()\n",
    "# P=[]\n",
    "# for i in planets:\n",
    "#     P.append(eph[i])"
   ]
  },
  {
   "cell_type": "code",
   "execution_count": 12,
   "metadata": {},
   "outputs": [],
   "source": [
    "earth = eph['earth']\n",
    "moon = eph['moon']\n",
    "gangtok = earth + wgs84.latlon( 27.3314 , 88.6138)\n",
    "gg = gangtok.at(time_p)\n",
    "P=[]\n",
    "for i in planets:\n",
    "    P.append(eph[i])"
   ]
  },
  {
   "cell_type": "code",
   "execution_count": 13,
   "metadata": {},
   "outputs": [],
   "source": [
    "astro = gg.observe(P[0])\n",
    "ra, dec, dist = astro.radec()"
   ]
  },
  {
   "cell_type": "code",
   "execution_count": 27,
   "metadata": {},
   "outputs": [
    {
     "ename": "ValueError",
     "evalue": "choose a specific Angle unit to iterate over\n\nInstead of iterating over this Angle object, try iterating over one of\nits unit-specific arrays like .degrees, .hours, or .radians, or else over\nthe output of one of its methods like .hstr(), .dstr(), .arcminutes(),\n.arcseconds(), or .mas().  For all of the possibilities see:\nhttps://rhodesmill.org/skyfield/api-units.html#skyfield.units.Angle",
     "output_type": "error",
     "traceback": [
      "\u001b[1;31m---------------------------------------------------------------------------\u001b[0m",
      "\u001b[1;31mValueError\u001b[0m                                Traceback (most recent call last)",
      "\u001b[1;32m<ipython-input-27-7627e4278d29>\u001b[0m in \u001b[0;36m<module>\u001b[1;34m\u001b[0m\n\u001b[1;32m----> 1\u001b[1;33m \u001b[1;32mfor\u001b[0m \u001b[0mi\u001b[0m\u001b[1;33m,\u001b[0m\u001b[0mj\u001b[0m \u001b[1;32min\u001b[0m \u001b[0mzip\u001b[0m\u001b[1;33m(\u001b[0m\u001b[0mra\u001b[0m\u001b[1;33m,\u001b[0m\u001b[0mdec\u001b[0m\u001b[1;33m)\u001b[0m\u001b[1;33m:\u001b[0m\u001b[1;33m\u001b[0m\u001b[1;33m\u001b[0m\u001b[0m\n\u001b[0m\u001b[0;32m      2\u001b[0m     \u001b[0mprint\u001b[0m\u001b[1;33m(\u001b[0m\u001b[0mi\u001b[0m\u001b[1;33m,\u001b[0m\u001b[1;34m'  :  '\u001b[0m\u001b[1;33m,\u001b[0m\u001b[0mj\u001b[0m\u001b[1;33m)\u001b[0m\u001b[1;33m\u001b[0m\u001b[1;33m\u001b[0m\u001b[0m\n",
      "\u001b[1;32mc:\\python3\\lib\\site-packages\\skyfield\\units.py\u001b[0m in \u001b[0;36m__iter__\u001b[1;34m(self)\u001b[0m\n\u001b[0;32m    275\u001b[0m \u001b[0mthe\u001b[0m \u001b[0moutput\u001b[0m \u001b[0mof\u001b[0m \u001b[0mone\u001b[0m \u001b[0mof\u001b[0m \u001b[0mits\u001b[0m \u001b[0mmethods\u001b[0m \u001b[0mlike\u001b[0m \u001b[1;33m.\u001b[0m\u001b[0mhstr\u001b[0m\u001b[1;33m(\u001b[0m\u001b[1;33m)\u001b[0m\u001b[1;33m,\u001b[0m \u001b[1;33m.\u001b[0m\u001b[0mdstr\u001b[0m\u001b[1;33m(\u001b[0m\u001b[1;33m)\u001b[0m\u001b[1;33m,\u001b[0m \u001b[1;33m.\u001b[0m\u001b[0marcminutes\u001b[0m\u001b[1;33m(\u001b[0m\u001b[1;33m)\u001b[0m\u001b[1;33m,\u001b[0m\u001b[1;33m\u001b[0m\u001b[1;33m\u001b[0m\u001b[0m\n\u001b[0;32m    276\u001b[0m \u001b[1;33m.\u001b[0m\u001b[0marcseconds\u001b[0m\u001b[1;33m(\u001b[0m\u001b[1;33m)\u001b[0m\u001b[1;33m,\u001b[0m \u001b[1;32mor\u001b[0m \u001b[1;33m.\u001b[0m\u001b[0mmas\u001b[0m\u001b[1;33m(\u001b[0m\u001b[1;33m)\u001b[0m\u001b[1;33m.\u001b[0m  \u001b[0mFor\u001b[0m \u001b[0mall\u001b[0m \u001b[0mof\u001b[0m \u001b[0mthe\u001b[0m \u001b[0mpossibilities\u001b[0m \u001b[0msee\u001b[0m\u001b[1;33m:\u001b[0m\u001b[1;33m\u001b[0m\u001b[1;33m\u001b[0m\u001b[0m\n\u001b[1;32m--> 277\u001b[1;33m \u001b[0mhttps\u001b[0m\u001b[1;33m:\u001b[0m\u001b[1;33m//\u001b[0m\u001b[0mrhodesmill\u001b[0m\u001b[1;33m.\u001b[0m\u001b[0morg\u001b[0m\u001b[1;33m/\u001b[0m\u001b[0mskyfield\u001b[0m\u001b[1;33m/\u001b[0m\u001b[0mapi\u001b[0m\u001b[1;33m-\u001b[0m\u001b[0munits\u001b[0m\u001b[1;33m.\u001b[0m\u001b[0mhtml\u001b[0m\u001b[1;31m#skyfield.units.Angle''')\u001b[0m\u001b[1;33m\u001b[0m\u001b[1;33m\u001b[0m\u001b[0m\n\u001b[0m\u001b[0;32m    278\u001b[0m \u001b[1;33m\u001b[0m\u001b[0m\n\u001b[0;32m    279\u001b[0m     \u001b[1;32mdef\u001b[0m \u001b[0mhms\u001b[0m\u001b[1;33m(\u001b[0m\u001b[0mself\u001b[0m\u001b[1;33m,\u001b[0m \u001b[0mwarn\u001b[0m\u001b[1;33m=\u001b[0m\u001b[1;32mTrue\u001b[0m\u001b[1;33m)\u001b[0m\u001b[1;33m:\u001b[0m\u001b[1;33m\u001b[0m\u001b[1;33m\u001b[0m\u001b[0m\n",
      "\u001b[1;31mValueError\u001b[0m: choose a specific Angle unit to iterate over\n\nInstead of iterating over this Angle object, try iterating over one of\nits unit-specific arrays like .degrees, .hours, or .radians, or else over\nthe output of one of its methods like .hstr(), .dstr(), .arcminutes(),\n.arcseconds(), or .mas().  For all of the possibilities see:\nhttps://rhodesmill.org/skyfield/api-units.html#skyfield.units.Angle"
     ]
    }
   ],
   "source": [
    "for i,j in zip(ra,dec):\n",
    "    print(i,'  :  ',j)\n"
   ]
  },
  {
   "cell_type": "code",
   "execution_count": 14,
   "metadata": {},
   "outputs": [
    {
     "data": {
      "text/plain": [
       "<Angle -20h 59m 22.43s>"
      ]
     },
     "execution_count": 14,
     "metadata": {},
     "output_type": "execute_result"
    }
   ],
   "source": [
    "Angle(hours=dec.degrees[0])"
   ]
  },
  {
   "cell_type": "code",
   "execution_count": 14,
   "metadata": {},
   "outputs": [],
   "source": [
    "a=dec.degrees[0]"
   ]
  },
  {
   "cell_type": "code",
   "execution_count": 15,
   "metadata": {},
   "outputs": [
    {
     "data": {
      "text/plain": [
       "dtype('float64')"
      ]
     },
     "execution_count": 15,
     "metadata": {},
     "output_type": "execute_result"
    }
   ],
   "source": [
    "a.dtype"
   ]
  },
  {
   "cell_type": "code",
   "execution_count": 15,
   "metadata": {},
   "outputs": [
    {
     "data": {
      "text/plain": [
       "dtype('float64')"
      ]
     },
     "execution_count": 15,
     "metadata": {},
     "output_type": "execute_result"
    }
   ],
   "source": [
    "dist.au[0].dtype"
   ]
  },
  {
   "cell_type": "code",
   "execution_count": 16,
   "metadata": {},
   "outputs": [
    {
     "name": "stdout",
     "output_type": "stream",
     "text": [
      " one planet done \n",
      " one planet done \n",
      " one planet done \n",
      " one planet done \n",
      " one planet done \n",
      " one planet done \n",
      " one planet done \n"
     ]
    }
   ],
   "source": [
    "planet_c_dist = {}\n",
    "\n",
    "for planet, p_name in zip(P, planets):\n",
    "    print(\" one planet done \")\n",
    "    astronometric = gg.observe(planet)\n",
    "    ra, dec, dist = astronometric.radec()\n",
    "    eph_planet = {'ra' : ra, \n",
    "                  'dec' : dec,\n",
    "                 'distance' : dist}\n",
    "    planet_c_dist[p_name[:-11]]= eph_planet"
   ]
  },
  {
   "cell_type": "code",
   "execution_count": 17,
   "metadata": {},
   "outputs": [
    {
     "data": {
      "text/plain": [
       "{'mercury': {'ra': <Angle 1096 values from 17h 09m 27.56s to 19h 13m 18.09s>,\n",
       "  'dec': <Angle 1096 values from -20deg 59' 22.4\" to -24deg 28' 34.6\">,\n",
       "  'distance': <Distance [1.00926328 1.02941738 1.04906638 ... 1.40905158 1.4017431  1.39376231] au>},\n",
       " 'venus': {'ra': <Angle 1096 values from 18h 39m 00.27s to 17h 14m 37.60s>,\n",
       "  'dec': <Angle 1096 values from -23deg 37' 34.2\" to -22deg 20' 49.0\">,\n",
       "  'distance': <Distance [1.70935294 1.70970206 1.71001342 ... 1.55084945 1.55449411 1.55810178] au>},\n",
       " 'mars': {'ra': <Angle 1096 values from 14h 48m 13.81s to 01h 38m 25.09s>,\n",
       "  'dec': <Angle 1096 values from -15deg 15' 19.6\" to +11deg 09' 15.1\">,\n",
       "  'distance': <Distance [1.95123244 1.94245181 1.93363884 ... 0.87616114 0.88512952 0.89413609] au>},\n",
       " 'jupiter': {'ra': <Angle 1096 values from 14h 58m 29.29s to 20h 19m 06.41s>,\n",
       "  'dec': <Angle 1096 values from -15deg 50' 24.4\" to -20deg 06' 06.5\">,\n",
       "  'distance': <Distance [5.95131386 5.93800267 5.92455631 ... 5.97934442 5.98538465 5.99122774] au>},\n",
       " 'saturn': {'ra': <Angle 1096 values from 18h 05m 13.77s to 20h 14m 25.84s>,\n",
       "  'dec': <Angle 1096 values from -22deg 32' 07.2\" to -20deg 14' 56.5\">,\n",
       "  'distance': <Distance [11.03288214 11.02993632 11.02673425 ... 10.88443143 10.89078299\n",
       "   10.89689217] au>},\n",
       " 'uranus': {'ra': <Angle 1096 values from 01h 30m 56.28s to 02h 17m 21.31s>,\n",
       "  'dec': <Angle 1096 values from +08deg 53' 52.5\" to +13deg 15' 48.1\">,\n",
       "  'distance': <Distance [19.64954123 19.66628691 19.68309794 ... 19.28328133 19.29842229\n",
       "   19.31370433] au>},\n",
       " 'neptune': {'ra': <Angle 1096 values from 22h 53m 46.36s to 23h 18m 12.81s>,\n",
       "  'dec': <Angle 1096 values from -08deg 01' 45.9\" to -05deg 40' 09.9\">,\n",
       "  'distance': <Distance [30.41084307 30.4259291  30.44086707 ... 30.24601858 30.26228937\n",
       "   30.27845464] au>}}"
      ]
     },
     "execution_count": 17,
     "metadata": {},
     "output_type": "execute_result"
    }
   ],
   "source": [
    "planet_c_dist"
   ]
  },
  {
   "cell_type": "code",
   "execution_count": 18,
   "metadata": {},
   "outputs": [
    {
     "data": {
      "text/plain": [
       "'A.D. 2018-Jan-01 12:20:00.0000 UTC'"
      ]
     },
     "execution_count": 18,
     "metadata": {},
     "output_type": "execute_result"
    }
   ],
   "source": [
    "time_p[0].utc_jpl()"
   ]
  },
  {
   "cell_type": "code",
   "execution_count": 19,
   "metadata": {},
   "outputs": [
    {
     "data": {
      "text/plain": [
       "<Time tt=2458466.0146896294>"
      ]
     },
     "execution_count": 19,
     "metadata": {},
     "output_type": "execute_result"
    }
   ],
   "source": [
    "time_p[346]"
   ]
  },
  {
   "cell_type": "code",
   "execution_count": 107,
   "metadata": {},
   "outputs": [
    {
     "name": "stdout",
     "output_type": "stream",
     "text": [
      "<Time tt=2459561.500800741>\n"
     ]
    }
   ],
   "source": [
    "nx = ts.utc(2021,12,13)\n",
    "print(nx)"
   ]
  },
  {
   "cell_type": "code",
   "execution_count": 20,
   "metadata": {},
   "outputs": [
    {
     "name": "stdout",
     "output_type": "stream",
     "text": [
      "<Time tt=2458170.0146896294>\n"
     ]
    }
   ],
   "source": [
    "time_p_list = list(time_p)\n",
    "print(time_p_list[50])"
   ]
  },
  {
   "cell_type": "code",
   "execution_count": 105,
   "metadata": {},
   "outputs": [
    {
     "name": "stdout",
     "output_type": "stream",
     "text": [
      "346\n"
     ]
    }
   ],
   "source": [
    "n = time_p_list.index(nx)\n",
    "print(n)"
   ]
  },
  {
   "cell_type": "code",
   "execution_count": 179,
   "metadata": {
    "scrolled": true
   },
   "outputs": [
    {
     "data": {
      "text/plain": [
       "array([ 1.6532545 ,  1.68030836,  1.70770009,  1.73542369,  1.76347362,\n",
       "        1.79184475,  1.8205323 ,  1.8495318 ,  1.87883894,  1.90844952,\n",
       "        1.93835928,  1.96856388,  1.99905877,  2.02983915,  2.06090005,\n",
       "        2.09223634,  2.12384281,  2.15571422,  2.18784541,  2.22023132,\n",
       "        2.25286698,  2.28574759,  2.31886847,  2.35222509,  2.38581306,\n",
       "        2.41962818,  2.45366641,  2.48792396,  2.52239728,  2.55708313,\n",
       "        2.59197862,  2.62708118,  2.66238859,  2.69789889,  2.73361035,\n",
       "        2.76952137,  2.80563044,  2.84193599,  2.8784364 ,  2.91512989,\n",
       "        2.95201448,  2.989088  ,  3.02634807,  3.06379212,  3.10141741,\n",
       "        3.13922111,  3.17720033,  3.21535213,  3.25367358,  3.29216176,\n",
       "        3.33081375,  3.3696267 ,  3.40859775,  3.44772411,  3.48700304,\n",
       "        3.52643188,  3.56600813,  3.60572943,  3.6455937 ,  3.68559909,\n",
       "        3.72574402,  3.76602718,  3.80644739,  3.84700359,  3.88769471,\n",
       "        3.92851962,  3.96947706,  4.0105656 ,  4.05178364,  4.09312937,\n",
       "        4.13460079,  4.17619571,  4.21791178,  4.25974651,  4.30169729,\n",
       "        4.34376143,  4.38593615,  4.42821865,  4.47060608,  4.51309557,\n",
       "        4.55568422,  4.59836914,  4.64114743,  4.68401621,  4.72697268,\n",
       "        4.77001415,  4.8131381 ,  4.85634222,  4.89962446,  4.94298304,\n",
       "        4.98641636,  5.02992293,  5.07350129,  5.11714994,  5.16086723,\n",
       "        5.20465138,  5.24850044,  5.29241228,  5.33638463,  5.38041507,\n",
       "        5.42450104,  5.46863988,  5.51282879,  5.55706493,  5.60134536,\n",
       "        5.6456671 ,  5.69002713,  5.73442241,  5.77884988,  5.82330647,\n",
       "        5.86778914,  5.91229484,  5.95682062,  6.00136358,  6.045921  ,\n",
       "        6.09049036,  6.13506939,  6.1796561 ,  6.22424874,  6.26884577,\n",
       "        6.31344571,  6.35804711,  6.40264845,  6.4472481 ,  6.49184431,\n",
       "        6.53643521,  6.58101883,  6.62559311,  6.6701559 ,  6.71470499,\n",
       "        6.75923809,  6.80375289,  6.84824702,  6.8927181 ,  6.93716371,\n",
       "        6.98158145,  7.0259689 ,  7.0703237 ,  7.11464348,  7.15892593,\n",
       "        7.20316883,  7.24737004,  7.29152758,  7.33563964,  7.37970469,\n",
       "        7.42372142,  7.46768883,  7.51160614,  7.55547271,  7.59928801,\n",
       "        7.64305148,  7.68676251,  7.73042041,  7.77402442,  7.81757371,\n",
       "        7.86106738,  7.90450448,  7.94788402,  7.991205  ,  8.03446636,\n",
       "        8.07766705,  8.12080598,  8.16388205,  8.20689417,  8.24984124,\n",
       "        8.2927222 ,  8.335536  ,  8.37828165,  8.42095824,  8.46356494,\n",
       "        8.50610105,  8.54856605,  8.5909596 ,  8.6332816 ,  8.6755322 ,\n",
       "        8.71771175,  8.75982079,  8.80185994,  8.8438299 ,  8.88573132,\n",
       "        8.92756481,  8.96933091,  9.0110301 ,  9.05266282,  9.09422945,\n",
       "        9.13573033,  9.17716578,  9.21853608,  9.25984148,  9.30108223,\n",
       "        9.34225851,  9.38337051,  9.42441838,  9.46540227,  9.50632235,\n",
       "        9.54717881,  9.58797188,  9.62870189,  9.66936925,  9.70997452,\n",
       "        9.75051841,  9.79100181,  9.83142581,  9.87179166,  9.91210077,\n",
       "        9.95235467,  9.99255492, 10.03270311, 10.07280079, 10.11284946,\n",
       "       10.15285055, 10.19280546, 10.23271553, 10.27258204, 10.31240624,\n",
       "       10.35218935, 10.39193254, 10.43163694, 10.47130364, 10.51093367,\n",
       "       10.55052803, 10.59008767, 10.62961352, 10.6691065 , 10.70856757,\n",
       "       10.74799774, 10.7873981 , 10.82676986, 10.86611436, 10.90543307,\n",
       "       10.94472763, 10.98399981, 11.02325151, 11.0624847 , 11.10170145,\n",
       "       11.14090382, 11.18009387, 11.21927364, 11.25844511, 11.2976102 ,\n",
       "       11.33677082, 11.37592878, 11.41508589, 11.45424388, 11.49340447,\n",
       "       11.5325693 , 11.57173997, 11.610918  , 11.65010487, 11.68930197,\n",
       "       11.72851064, 11.76773218, 11.80696789, 11.84621911, 11.88548722,\n",
       "       11.92477374, 11.96408029, 12.00340861, 12.04276057, 12.08213819,\n",
       "       12.12154354, 12.16097881, 12.20044624, 12.23994808, 12.27948661,\n",
       "       12.31906409, 12.35868273, 12.39834472, 12.4380522 , 12.47780727,\n",
       "       12.51761197, 12.5574683 , 12.5973782 , 12.63734357, 12.67736623,\n",
       "       12.71744795, 12.75759038, 12.79779512, 12.83806364, 12.87839735,\n",
       "       12.9187976 , 12.95926575, 12.99980318, 13.04041138, 13.08109194,\n",
       "       13.12184657, 13.1626771 , 13.20358548, 13.24457372, 13.28564393,\n",
       "       13.32679823, 13.3680388 , 13.40936781, 13.45078741, 13.49229976,\n",
       "       13.53390695, 13.57561105, 13.61741406, 13.65931793, 13.70132457,\n",
       "       13.7434358 , 13.78565337, 13.82797898, 13.87041421, 13.91296056,\n",
       "       13.95561937, 13.99839188, 14.04127919, 14.08428228, 14.12740206,\n",
       "       14.17063942, 14.2139953 , 14.25747072, 14.30106682, 14.34478486,\n",
       "       14.38862617, 14.43259218, 14.47668434, 14.52090416, 14.56525313,\n",
       "       14.60973273, 14.65434443, 14.69908965, 14.74396979, 14.78898617,\n",
       "       14.83414004, 14.87943258, 14.92486488, 14.97043795, 15.01615267,\n",
       "       15.06200984, 15.10801012, 15.15415402, 15.20044191, 15.24687396,\n",
       "       15.29345015, 15.34017029, 15.38703401, 15.43404083, 15.48119025,\n",
       "       15.52848179, 15.57591505, 15.62348974, 15.67120564, 15.7190626 ,\n",
       "       15.7670605 , 15.81519924, 15.86347867, 15.91189865, 15.96045896,\n",
       "       16.00915933, 16.05799945, 16.10697892, 16.15609724, 16.20535386,\n",
       "       16.25474807, 16.30427907, 16.35394594, 16.4037476 , 16.45368281,\n",
       "       16.50375017, 16.55394808, 16.60427474, 16.65472811, 16.70530593])"
      ]
     },
     "execution_count": 179,
     "metadata": {},
     "output_type": "execute_result"
    }
   ],
   "source": [
    "planet_c_dist['mars']['ra'].hours\n"
   ]
  },
  {
   "cell_type": "code",
   "execution_count": 19,
   "metadata": {},
   "outputs": [],
   "source": [
    "file = open('position_of_planets_from_Gangtok_pov_20to22.pkl', 'ab')\n",
    "op= pickle.dump( planet_c_dist ,file )"
   ]
  },
  {
   "cell_type": "code",
   "execution_count": 131,
   "metadata": {},
   "outputs": [],
   "source": [
    "nn = open('position_of_planets_from_Gangtok_pov.pkl','rb')"
   ]
  },
  {
   "cell_type": "code",
   "execution_count": 132,
   "metadata": {},
   "outputs": [],
   "source": [
    "nnn = pickle.load(nn)"
   ]
  },
  {
   "cell_type": "code",
   "execution_count": 21,
   "metadata": {},
   "outputs": [],
   "source": [
    "f1 = {\n",
    "    'dist_radec':planet_c_dist,\n",
    "    'time_p':time_p_list\n",
    "}"
   ]
  },
  {
   "cell_type": "code",
   "execution_count": 22,
   "metadata": {},
   "outputs": [],
   "source": [
    "ff = open('planet_position_with_time_18_20.pkl', 'ab')\n",
    "pickle.dump(f1, ff)"
   ]
  },
  {
   "cell_type": "code",
   "execution_count": 24,
   "metadata": {
    "scrolled": true
   },
   "outputs": [
    {
     "ename": "NameError",
     "evalue": "name 'nnn' is not defined",
     "output_type": "error",
     "traceback": [
      "\u001b[1;31m---------------------------------------------------------------------------\u001b[0m",
      "\u001b[1;31mNameError\u001b[0m                                 Traceback (most recent call last)",
      "\u001b[1;32m<ipython-input-24-cd416bc48656>\u001b[0m in \u001b[0;36m<module>\u001b[1;34m\u001b[0m\n\u001b[1;32m----> 1\u001b[1;33m \u001b[0mnnn\u001b[0m\u001b[1;33m[\u001b[0m\u001b[1;34m'mars'\u001b[0m\u001b[1;33m]\u001b[0m\u001b[1;33m\u001b[0m\u001b[1;33m\u001b[0m\u001b[0m\n\u001b[0m",
      "\u001b[1;31mNameError\u001b[0m: name 'nnn' is not defined"
     ]
    }
   ],
   "source": [
    "nnn['mars']"
   ]
  },
  {
   "cell_type": "code",
   "execution_count": 172,
   "metadata": {},
   "outputs": [],
   "source": [
    "def find_loc_planet(time , pname, eph2):\n",
    "    \n",
    "    t = time_p_list.index(time)\n",
    "    print(pname,':',t)\n",
    "    print('ra   : ',Angle(hours = eph2[pname]['ra'].hours[t]))\n",
    "    print('dec  : ',Angle(degrees = eph2[pname]['dec'].degrees[t]))\n",
    "    print('dist : ',eph2[pname]['distance'].au[t],' au')\n",
    "    "
   ]
  },
  {
   "cell_type": "code",
   "execution_count": 173,
   "metadata": {},
   "outputs": [
    {
     "name": "stdout",
     "output_type": "stream",
     "text": [
      "venus : 24\n",
      "ra   :  19h 27m 40.14s\n",
      "dec  :  -22deg 15' 56.1\"\n",
      "dist :  1.6344986183604815  au\n"
     ]
    }
   ],
   "source": [
    "ti = ts.utc(2021,1,25)\n",
    "find_loc_planet(ti  , 'venus', nnn)"
   ]
  },
  {
   "cell_type": "code",
   "execution_count": 174,
   "metadata": {},
   "outputs": [
    {
     "data": {
      "text/plain": [
       "<Angle 19h 27m 40.14s>"
      ]
     },
     "execution_count": 174,
     "metadata": {},
     "output_type": "execute_result"
    }
   ],
   "source": [
    "Angle(hours = nnn['venus']['ra'].hours[24])"
   ]
  },
  {
   "cell_type": "code",
   "execution_count": 176,
   "metadata": {},
   "outputs": [
    {
     "name": "stdout",
     "output_type": "stream",
     "text": [
      "56.662923629073454 ==============\n",
      "56deg 39' 46.5\"\n"
     ]
    }
   ],
   "source": [
    "\n",
    "moon = eph['moon']\n",
    "\n",
    "#time\n",
    "place = earth + Topos('27.3314 N', '88.6138 E')#27.3314 , 88.6138\n",
    "\n",
    "observe_moon = place.at(time).observe(moon).apparent().position.au\n",
    "observe_mars = place.at(time).observe(jupiter).apparent().position.au\n",
    "distance = ICRF(observe_moon).separation_from(ICRF(observe_mars))\n",
    "distances = distance.degrees\n",
    "\n",
    "print(distances,\"==============\")\n",
    "print(distance)"
   ]
  },
  {
   "cell_type": "code",
   "execution_count": 192,
   "metadata": {},
   "outputs": [
    {
     "data": {
      "text/plain": [
       "56.662923629073454"
      ]
     },
     "execution_count": 192,
     "metadata": {},
     "output_type": "execute_result"
    }
   ],
   "source": [
    "distances"
   ]
  },
  {
   "cell_type": "code",
   "execution_count": 6,
   "metadata": {},
   "outputs": [],
   "source": [
    "distt={}\n",
    "def ICRF_dist(time, target, name):\n",
    "    observe_moon = gangtok.at(time).observe(moon).apparent().position.au\n",
    "    observe_mars = gangtok.at(time).observe(target).apparent().position.au\n",
    "    distance = ICRF(observe_moon).separation_from(ICRF(observe_mars))\n",
    "    distances = distance.degrees\n",
    "    distt[name[:-11]]={'distance':distance, 'degree':distances}\n",
    "    print(len(distt))\n",
    "    "
   ]
  },
  {
   "cell_type": "code",
   "execution_count": 7,
   "metadata": {},
   "outputs": [
    {
     "name": "stdout",
     "output_type": "stream",
     "text": [
      "111\n",
      "1\n",
      "1\n",
      "1\n",
      "2\n",
      "1\n",
      "3\n",
      "1\n",
      "4\n",
      "1\n",
      "5\n",
      "1\n",
      "6\n",
      "1\n",
      "7\n"
     ]
    }
   ],
   "source": [
    "print(111)\n",
    "for planet,name in zip(P,planets):\n",
    "    print(1)\n",
    "    ICRF_dist(time_p, planet, name)"
   ]
  },
  {
   "cell_type": "code",
   "execution_count": 18,
   "metadata": {},
   "outputs": [],
   "source": [
    "objects={\n",
    "    'planets': distt,\n",
    "    'time_p':time_p_list\n",
    "}"
   ]
  },
  {
   "cell_type": "code",
   "execution_count": 20,
   "metadata": {},
   "outputs": [],
   "source": [
    "f2 = open('planet_seperation_degree.pkl', 'ab')\n",
    "pickle.dump(objects, f2)"
   ]
  },
  {
   "cell_type": "markdown",
   "metadata": {},
   "source": [
    "# Build a star"
   ]
  },
  {
   "cell_type": "code",
   "execution_count": 31,
   "metadata": {},
   "outputs": [
    {
     "name": "stdout",
     "output_type": "stream",
     "text": [
      "17deg 36' 59.5\"\n",
      "99deg 59' 12.6\"\n"
     ]
    }
   ],
   "source": [
    "from skyfield.api import Star, load\n",
    "planets = load('de421.bsp')\n",
    "earth = planets['earth']\n",
    "boston = earth + wgs84.latlon(42.3583 , -71.0636 )\n",
    "barnard = Star(ra_hours=(17, 57, 48.49803),\n",
    "               dec_degrees=(4, 41, 36.2072))\n",
    "\n",
    "ts = load.timescale()\n",
    "t = ts.now()\n",
    "astrometric = boston.at(t).observe(barnard)\n",
    "alt, az, distance = astrometric.apparent().altaz()\n",
    "print(alt)\n",
    "print(az)"
   ]
  },
  {
   "cell_type": "code",
   "execution_count": 33,
   "metadata": {},
   "outputs": [
    {
     "data": {
      "text/plain": [
       "3.0856775814913823e+22"
      ]
     },
     "execution_count": 33,
     "metadata": {},
     "output_type": "execute_result"
    }
   ],
   "source": [
    "distance.km"
   ]
  },
  {
   "cell_type": "code",
   "execution_count": 10,
   "metadata": {},
   "outputs": [],
   "source": [
    "ts = load.timescale()\n",
    "ti = ts.utc(2021,1,1,0,1)\n",
    "tf = ts.utc(2022,1,1)"
   ]
  },
  {
   "cell_type": "code",
   "execution_count": 17,
   "metadata": {},
   "outputs": [
    {
     "name": "stdout",
     "output_type": "stream",
     "text": [
      "0.000694444444434339\n"
     ]
    }
   ],
   "source": [
    "print( 365 + float(ti - tf))"
   ]
  },
  {
   "cell_type": "code",
   "execution_count": null,
   "metadata": {},
   "outputs": [],
   "source": []
  }
 ],
 "metadata": {
  "kernelspec": {
   "display_name": "Python 3",
   "language": "python",
   "name": "python3"
  },
  "language_info": {
   "codemirror_mode": {
    "name": "ipython",
    "version": 3
   },
   "file_extension": ".py",
   "mimetype": "text/x-python",
   "name": "python",
   "nbconvert_exporter": "python",
   "pygments_lexer": "ipython3",
   "version": "3.7.2"
  }
 },
 "nbformat": 4,
 "nbformat_minor": 2
}
