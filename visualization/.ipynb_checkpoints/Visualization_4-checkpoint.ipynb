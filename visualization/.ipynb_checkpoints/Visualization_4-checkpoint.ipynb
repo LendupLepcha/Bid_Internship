{
 "cells": [
  {
   "cell_type": "markdown",
   "metadata": {},
   "source": [
    "# import libraries"
   ]
  },
  {
   "cell_type": "code",
   "execution_count": 1,
   "metadata": {},
   "outputs": [],
   "source": [
    "import numpy as np\n",
    "import math\n",
    "import pandas as pd\n",
    "import cv2 as cv\n",
    "import copy\n",
    "from skyfield.api import E, N, W, wgs84, load, Star\n",
    "from skyfield.data import mpc\n",
    "from skyfield.constants import GM_SUN_Pitjeva_2005_km3_s2 as GM_SUN\n",
    "from skyfield.units import Distance\n",
    "from skyfield.almanac import find_discrete, sunrise_sunset\n",
    "from termcolor import colored, cprint"
   ]
  },
  {
   "cell_type": "markdown",
   "metadata": {},
   "source": [
    "# Draw intersect of a line and circle (Given angle from center)"
   ]
  },
  {
   "cell_type": "code",
   "execution_count": 2,
   "metadata": {},
   "outputs": [],
   "source": [
    "def intersect_circle(angle,r):\n",
    "#     m = 3.14\n",
    "    signx = -1\n",
    "    signy = -1\n",
    "    quad = 1\n",
    "    if(angle == 360):\n",
    "        angle = 0\n",
    "        \n",
    "    if(angle>=270):\n",
    "        signy = 1\n",
    "        angle = angle - 270\n",
    "        quad = 4\n",
    "    elif(angle>=180):\n",
    "        signx = 1\n",
    "        signy = 1\n",
    "        angle = angle - 180\n",
    "        quad = 3\n",
    "    elif(angle>=90):\n",
    "        signx = 1\n",
    "        angle = angle - 90\n",
    "        quad = 2\n",
    "    m=math.tan(math.radians(angle))\n",
    "#     print(m)\n",
    "    x = math.sqrt((r*r)/(1+(m*m)))\n",
    "    y = m * x\n",
    "    if(quad % 2 ==0):\n",
    "        x, y = y, x\n",
    "#     print('x,y',x,y)\n",
    "    xx = signx * math.floor(x)\n",
    "    yy = signy * math.floor(y)\n",
    "    return xx,yy"
   ]
  },
  {
   "cell_type": "code",
   "execution_count": 3,
   "metadata": {},
   "outputs": [],
   "source": [
    "def intersect_circle_clock(angle,r):\n",
    "#     m = 3.14\n",
    "    signx = 1\n",
    "    signy = -1\n",
    "    quad = 1\n",
    "    if(angle == 360):\n",
    "        angle = 0\n",
    "        \n",
    "    if(angle>=270):\n",
    "        signy = 1\n",
    "        angle = angle - 270\n",
    "        quad = 4\n",
    "    elif(angle>=180):\n",
    "        signx = -1\n",
    "        signy = 1\n",
    "        angle = angle - 180\n",
    "        quad = 3\n",
    "    elif(angle>=90):\n",
    "        signx = -1\n",
    "        angle = angle - 90\n",
    "        quad = 2\n",
    "    m=math.tan(math.radians(angle))\n",
    "#     print(m)\n",
    "    x = math.sqrt((r*r)/(1+(m*m)))\n",
    "    y = m * x\n",
    "    if(quad % 2 ==0):\n",
    "        x, y = y, x\n",
    "#     print('x,y',x,y)\n",
    "    xx = signx * math.floor(x)\n",
    "    yy = signy * math.floor(y)\n",
    "    return xx,yy"
   ]
  },
  {
   "cell_type": "markdown",
   "metadata": {},
   "source": [
    "# insert image"
   ]
  },
  {
   "cell_type": "code",
   "execution_count": 4,
   "metadata": {},
   "outputs": [],
   "source": [
    "def insert_image(imgA, p_name, x, y):\n",
    "    local = 'images/'+p_name+'.jpg'\n",
    "    obj = cv.imread(local, 0)\n",
    "    length, bredth = obj.shape\n",
    "    len_half, bre_half = int(length/2), int(bredth/2)\n",
    "    p = q = 0\n",
    "    for i in range(y-len_half, y+len_half):\n",
    "        q=0\n",
    "        for j in range(x-bre_half, x+bre_half):\n",
    "            if(obj[p][q]<240):\n",
    "                imgA[i][j] = 0\n",
    "            q=q+1\n",
    "        p=p+1\n",
    "    return imgA"
   ]
  },
  {
   "cell_type": "markdown",
   "metadata": {},
   "source": [
    "# Draw arrow pointing the angle location"
   ]
  },
  {
   "cell_type": "code",
   "execution_count": 5,
   "metadata": {},
   "outputs": [],
   "source": [
    "def locate_arrow(angle,image,p_name,inner=True):\n",
    "    \n",
    "#     p_name = \n",
    "    if (inner): # inner (True) means arrow from inside the circle\n",
    "        r, r_b, r_a = 250, 232, 228\n",
    "    else:\n",
    "        r, r_b, r_a = 302, 320, 324\n",
    "#     x, y = intersect_circle(angle,r)\n",
    "    x, y = intersect_circle(angle, r) # for arrow head\n",
    "    # _clock\n",
    "#     x_base, y_base = intersect_circle(angle,r_b)\n",
    "    x_base, y_base = intersect_circle(angle, r_b) # for arrow base\n",
    "    # _clock\n",
    "    xa, ya = intersect_circle(angle, r_a) #  for text\n",
    "    # _clock\n",
    "    img = cv.arrowedLine(image, (x_base+349,349-y_base), (x+349,349-y), 0, 1, tipLength= .5)\n",
    "#     img = cv.putText(img,p_name[:2],(xa+349,349-ya), font, .3,(0),1,cv.LINE_AA);\n",
    "#     img = cv.rectangle(img, (xa+349-7,349-ya-7), (xa+349+7,349-ya+7), 0, 1)\n",
    "    img = insert_image(image, p_name, xa+349, 349-ya)\n",
    "    return img"
   ]
  },
  {
   "cell_type": "markdown",
   "metadata": {},
   "source": [
    "# Read angles of planets"
   ]
  },
  {
   "cell_type": "code",
   "execution_count": 6,
   "metadata": {},
   "outputs": [],
   "source": [
    "def get_angles():\n",
    "#     y = int(input('Year: '))\n",
    "#     m = int(input('month: '))\n",
    "#     d = int(input('day: '))\n",
    "#     h = int(input('hour: '))\n",
    "#     mins = int(input('minute:'))\n",
    "#     sec = int(input('second: '))\n",
    "#     tx = ts.utc(y, m, d, h, mins, sec)\n",
    "    tx = ts.utc(1930, 2, 15, 10, 30, 0)\n",
    "    tsp = [ts.utc(1930, 2, 15), ts.utc(1940, 2, 16)]\n",
    "    print('Date : ', tx.utc_jpl())\n",
    "    gg = gangtok.at(tx)\n",
    "    row = {}\n",
    "    for i in Planet_names[:-1]:\n",
    "        q = P[i]\n",
    "        ra, dec, dist = gg.observe(q).apparent().ecliptic_latlon()\n",
    "#         row[i] = ra.hours * 360 / 24\n",
    "        row[i] = dec.degrees\n",
    "    ra, dec, distance = gg.observe(ceres).ecliptic_latlon()\n",
    "#     row['ceres'] = ra.hours *360 / 24\n",
    "    row['ceres'] = dec.degrees\n",
    "    rowpd = pd.DataFrame([row], columns = Planet_names)\n",
    "#     print(rowpd)\n",
    "    return tx, rowpd, tsp;"
   ]
  },
  {
   "cell_type": "code",
   "execution_count": null,
   "metadata": {},
   "outputs": [],
   "source": []
  },
  {
   "cell_type": "code",
   "execution_count": 7,
   "metadata": {},
   "outputs": [],
   "source": [
    "def check_row(degree, name, row):\n",
    "    a = copy.deepcopy(row)\n",
    "#     i = list(Planet_names).index(name)\n",
    "#     r = a.pop(i)\n",
    "    n = list(Planet_names).index(name) \n",
    "    #print(n)\n",
    "    a = a.drop(name)\n",
    "    for j in range(n):\n",
    "        if abs(degree-a[j])<2:\n",
    "            return False\n",
    "    return True"
   ]
  },
  {
   "cell_type": "code",
   "execution_count": null,
   "metadata": {},
   "outputs": [],
   "source": []
  },
  {
   "cell_type": "code",
   "execution_count": null,
   "metadata": {},
   "outputs": [],
   "source": []
  },
  {
   "cell_type": "markdown",
   "metadata": {},
   "source": [
    "## aspect_grid function"
   ]
  },
  {
   "cell_type": "code",
   "execution_count": 8,
   "metadata": {},
   "outputs": [],
   "source": [
    "def aspect_grid(row, p_names):\n",
    "    grid = [[0 for i in range(len(row))] for j in range(len(row))]\n",
    "    for i in range(len(row)):\n",
    "        for j in range(i):\n",
    "            s=-1\n",
    "            diff = abs(row[i] - row[j])\n",
    "            if(diff>=50 and diff<=70) or (diff>=290 and diff<=310):\n",
    "                if (diff>70):\n",
    "                    diff = diff - 240\n",
    "                s = 60\n",
    "            elif (diff>=80 and diff<=100) or (diff>=260 and diff<=280):\n",
    "                if (diff>100):\n",
    "                    diff = diff - 180\n",
    "                s = 90\n",
    "            elif (diff>=110 and diff<=130) or (diff>=230 and diff<=250):\n",
    "                if (diff>130):\n",
    "                    diff = diff - 120\n",
    "                s = 120\n",
    "            elif (diff>=170 and diff<=190):\n",
    "                s = 180\n",
    "            elif(diff>=350 or diff<=10):\n",
    "                if (diff>350):\n",
    "                    diff = diff - 350\n",
    "                s = 0\n",
    "            if(s == -1):\n",
    "                grid[i][j] = -1;\n",
    "            else:\n",
    "                a = diff - s\n",
    "                if(a < 0):\n",
    "                    b = 'a'\n",
    "                else: \n",
    "                    b = 's'\n",
    "                cell = [s, b, abs(a)]\n",
    "                grid[i][j] = cell\n",
    "    return grid\n",
    "            "
   ]
  },
  {
   "cell_type": "code",
   "execution_count": 9,
   "metadata": {},
   "outputs": [],
   "source": [
    "def draw_grid(row, grid, img2):\n",
    "    x = 80\n",
    "    y = 80\n",
    "    for i in range(len(row)):\n",
    "        for j in range(i):\n",
    "            if(isinstance(grid[i][j], list)):\n",
    "                gdata = grid[i][j]\n",
    "                if(gdata[0] == 90):\n",
    "                    sname = 'square'\n",
    "                elif(gdata[0] == 60):\n",
    "                    sname = 'sextile'\n",
    "                elif(gdata[0] == 120):\n",
    "                    sname = 'trine'\n",
    "                elif(gdata[0] == 180):\n",
    "                    sname = 'opposition'\n",
    "                elif(gdata[0] == 0):\n",
    "                    sname = 'conjunction'\n",
    "#                 sname = 'images/' + sname + '.jpg'\n",
    "#                 print(sname)\n",
    "                string = gdata[1].upper()+' '+str(int(round(gdata[2])))\n",
    "                img2 = insert_image(img2, sname, x+22+(j*45), y-27+(i*45))\n",
    "                cv.putText(img2,string,(x+12+(j*45), y-12+(i*45)), font, .3,(0),1,cv.LINE_AA);\n",
    "    return img2"
   ]
  },
  {
   "cell_type": "markdown",
   "metadata": {},
   "source": [
    "# Calc rising sign"
   ]
  },
  {
   "cell_type": "code",
   "execution_count": 10,
   "metadata": {},
   "outputs": [],
   "source": [
    "# def rising(time):\n",
    "#     horizon = gangtok.at(time).from_altaz(alt_degrees = 0, az_degrees = 270, distance = Distance(au = 1.3) )\n",
    "#     ra, dec, dist = horizon.ecliptic_latlon()\n",
    "#     As = dec.degrees\n",
    "#     print(dist)\n",
    "#     return As"
   ]
  },
  {
   "cell_type": "code",
   "execution_count": 11,
   "metadata": {},
   "outputs": [],
   "source": [
    "# def rising(time):\n",
    "#     As = Star(ra_hours=(0, 13, 0), dec_degrees=(15, 11, 0))\n",
    "#     horizon = gangtok.at(time).observe(As).apparent()\n",
    "#     alt, az, dist = horizon.ecliptic_latlon()\n",
    "#     return az.degrees"
   ]
  },
  {
   "cell_type": "code",
   "execution_count": 12,
   "metadata": {},
   "outputs": [],
   "source": [
    "def rising(time, tsp):\n",
    "    t, y = find_discrete(tsp[0], tsp[1], sunrise_sunset(eph, g))\n",
    "    for i, j in zip(t, y):\n",
    "        if(j == 1):\n",
    "            rise_t = i\n",
    "    astro = gangtok.at(rise_t).observe(sun).apparent()\n",
    "    alt, az , dist = astro.altaz()\n",
    "#     print('Altitude', alt)\n",
    "#     print('Azimuth',az)\n",
    "    horizon = gangtok.at(time).from_altaz(alt_degrees = alt.degrees, az_degrees = az.degrees, distance = Distance(au = 1.3) )\n",
    "    lat, lon, distance = horizon.ecliptic_latlon()\n",
    "    As = lon.degrees\n",
    "#     print(dist)\n",
    "    return As"
   ]
  },
  {
   "cell_type": "markdown",
   "metadata": {},
   "source": [
    "# Draw houses"
   ]
  },
  {
   "cell_type": "code",
   "execution_count": 13,
   "metadata": {},
   "outputs": [],
   "source": [
    "def houses(image, t, tsp):\n",
    "    As = rising(t, tsp)\n",
    "    \n",
    "    for i in range(12):\n",
    "        thick = 1\n",
    "        angle = As + (i * 30)\n",
    "        if(angle >= 360 ):\n",
    "            angle = angle - 360\n",
    "        if(i%3 == 0):\n",
    "            thick = 2\n",
    "        hangle = angle+15\n",
    "        if(hangle>=360):\n",
    "            hangle= hangle - 360\n",
    "        x1, y1 = intersect_circle(angle,250)\n",
    "        x, y = intersect_circle(angle,125)\n",
    "        xh, yh = intersect_circle(hangle,135)\n",
    "        cv.line(image,(x1+349, 349-y1),(x+349, 349-y),0,thick)\n",
    "        txt = str(i+1)\n",
    "        cv.putText(image,txt,(xh+343, 352-yh), font, .3,(0),1,cv.LINE_AA)\n",
    "        if(i == 0):\n",
    "            x0, y0 = intersect_circle(As,270)\n",
    "            cv.putText(image,'As',(x0+343, 352-y0), font, .5,(0),1,cv.LINE_AA);\n",
    "    return As, image"
   ]
  },
  {
   "cell_type": "markdown",
   "metadata": {},
   "source": [
    "# Chart point Report"
   ]
  },
  {
   "cell_type": "code",
   "execution_count": 27,
   "metadata": {},
   "outputs": [],
   "source": [
    "def show_report(row, As, grid, t):\n",
    "    planet = row.to_frame()\n",
    "    planet = planet.T\n",
    "    houses = {}\n",
    "    langle = 0\n",
    "    hangle = As\n",
    "    for i in range(12):\n",
    "        langle = hangle\n",
    "        hangle = hangle + 30\n",
    "        if(hangle>=360):\n",
    "            hangle = hangle - 360\n",
    "        houses[i+1] = [langle, hangle]\n",
    "    house = pd.DataFrame(houses)\n",
    "    zodiac = pd.DataFrame(zodiacs)\n",
    "    planet['Ascendent'] = As\n",
    "    points = []\n",
    "    for i in planet:\n",
    "        angle = planet[i][0]\n",
    "        d = 0\n",
    "        h = '' \n",
    "        z = ''\n",
    "        for j, k in zip(zodiac,house):\n",
    "            if(angle >= zodiac[j][0] and angle < zodiac[j][1]):\n",
    "                d = angle - zodiac[j][0]\n",
    "                z = j\n",
    "                \n",
    "            if(angle >= house[k][0] and angle < house[k][1]):\n",
    "                h = k\n",
    "            elif(angle >= house[k][0] or angle < house[k][1]):\n",
    "                h = k\n",
    "        points.append([i, z, d, h, angle])  \n",
    "    pointr = pd.DataFrame(points, columns=['point', 'zodiac', 'zodiac_longitude', 'house', 'RA'])\n",
    "    aspect_report = []\n",
    "    for i in range(len(Planet_names)):\n",
    "        for j in range(i):\n",
    "            if isinstance(grid[i][j], list):\n",
    "                if(grid[i][j][1] == 'a'):\n",
    "                    deg_type = 'Applying'\n",
    "                else:\n",
    "                    deg_type = 'Separating'\n",
    "                aspect_report.append([Planet_names[i], Planet_names[j], grid[i][j][0], deg_type, grid[i][j][2]])\n",
    "    aspectr = pd.DataFrame(aspect_report, columns = ['body1', 'body2', 'shape', 'degree_type', 'degree'])\n",
    "    return pointr, aspectr"
   ]
  },
  {
   "cell_type": "markdown",
   "metadata": {},
   "source": [
    "# Global variables"
   ]
  },
  {
   "cell_type": "code",
   "execution_count": 15,
   "metadata": {},
   "outputs": [],
   "source": [
    "image = cv.imread('images/chart_frame_equal_house.jpg', 0)\n",
    "image_original=copy.deepcopy(image)\n",
    "grid_image = cv.imread('images/aspect_grid_frame_withceres.jpg', 0)\n",
    "grid_original=copy.deepcopy(grid_image)\n",
    "font = cv.FONT_HERSHEY_SIMPLEX"
   ]
  },
  {
   "cell_type": "code",
   "execution_count": 16,
   "metadata": {},
   "outputs": [],
   "source": [
    "ts = load.timescale()"
   ]
  },
  {
   "cell_type": "code",
   "execution_count": 17,
   "metadata": {},
   "outputs": [],
   "source": [
    "planets=[\n",
    "    'sun',\n",
    "    'moon',\n",
    "    'mercury barycenter',\n",
    "    'venus barycenter',\n",
    "    'mars barycenter',\n",
    "    'jupiter barycenter',\n",
    "    'saturn barycenter',\n",
    "    'uranus barycenter',\n",
    "    'neptune barycenter',\n",
    "    'pluto barycenter'\n",
    "]\n",
    "Planet_names = [\n",
    "    'sun',\n",
    "    'moon',\n",
    "    'mercury',\n",
    "    'venus',\n",
    "    'mars',\n",
    "    'jupiter',\n",
    "    'saturn',\n",
    "    'uranus',\n",
    "    'neptune',\n",
    "    'pluto',\n",
    "    'ceres'\n",
    "]\n",
    "zodiacs = {\n",
    "        'Aries': [0, 30],\n",
    "        'Taurus': [30, 60],\n",
    "        'Gemini': [60, 90],\n",
    "        'Cancer': [90, 120],\n",
    "        'Leo': [120, 150],\n",
    "        'Virgo': [150, 180],\n",
    "        'Libra': [180, 210],\n",
    "        'Scorpio': [210, 240],\n",
    "        'Sagittarius': [240, 270],\n",
    "        'Capricorn': [270, 300],\n",
    "        'Aquarius': [300, 330],\n",
    "        'Pisces': [330, 360]\n",
    "}\n",
    "eph = load('de421.bsp')"
   ]
  },
  {
   "cell_type": "code",
   "execution_count": 18,
   "metadata": {},
   "outputs": [],
   "source": [
    "earth = eph['earth']\n",
    "g = wgs84.latlon( 27.3314 , 88.6138)\n",
    "gangtok = earth + g\n",
    "# gg = gangtok.at(time_p)\n",
    "P= {}\n",
    "for i, j in zip(planets, Planet_names[:-1]):\n",
    "    P[j] = eph[i]"
   ]
  },
  {
   "cell_type": "code",
   "execution_count": 19,
   "metadata": {},
   "outputs": [],
   "source": [
    "with load.open('MPCORB.excerpt.DAT') as f:\n",
    "    minor_planets = mpc.load_mpcorb_dataframe(f)\n",
    "row_ceres=minor_planets.iloc[0]\n",
    "sun = eph['sun']\n",
    "ceres = sun + mpc.mpcorb_orbit(row_ceres, ts, GM_SUN)"
   ]
  },
  {
   "cell_type": "markdown",
   "metadata": {},
   "source": [
    "# Main Func"
   ]
  },
  {
   "cell_type": "code",
   "execution_count": 20,
   "metadata": {},
   "outputs": [],
   "source": [
    "def draw_chart():\n",
    "    print('Enter Date:-')\n",
    "    t, rows, tsp = get_angles()\n",
    "    row = rows.loc[0]\n",
    "    print('...1')\n",
    "    image = copy.deepcopy(image_original)\n",
    "    grid_image=copy.deepcopy(grid_original)\n",
    "    inner_s = True\n",
    "    for i, j in zip(row, Planet_names) :\n",
    "        inner_s = check_row(i, j, row)\n",
    "        image = locate_arrow(i, image, p_name = j, inner = inner_s)\n",
    "    print('...2')\n",
    "    As, image = houses(image, t, tsp)\n",
    "    print('...3')\n",
    "    grid = aspect_grid(row, Planet_names)\n",
    "    grid_image = draw_grid(row, grid, grid_image)\n",
    "    print('...4')\n",
    "    point, aspect = show_report(row, As, grid, t)\n",
    "    print('...5')\n",
    "    print(point)\n",
    "    print(aspect)\n",
    "    cv.imshow('Aspect_grid',grid_image)\n",
    "    cv.imshow('Natal_Chart', image)\n",
    "    cv.waitKey(0)\n",
    "    cv.destroyAllWindows()"
   ]
  },
  {
   "cell_type": "code",
   "execution_count": null,
   "metadata": {},
   "outputs": [
    {
     "name": "stdout",
     "output_type": "stream",
     "text": [
      "Enter Date:-\n",
      "Date :  A.D. 1930-Feb-15 10:30:00.0000 UTC\n",
      "...1\n",
      "...2\n",
      "...3\n",
      "...4\n",
      "...5\n",
      "        point     zodiac  zodiac_longitude  house          RA\n",
      "0         sun   Aquarius         27.004896      7  327.004896\n",
      "1        moon      Virgo         26.610710      2  176.610710\n",
      "2     mercury   Aquarius          0.780298      7  300.780298\n",
      "3       venus   Aquarius         29.115397      7  329.115397\n",
      "4        mars   Aquarius          7.703524      7  307.703524\n",
      "5     jupiter     Gemini          7.711463     11   67.711463\n",
      "6      saturn  Capricorn          9.611129      6  279.611129\n",
      "7      uranus      Aries          9.900287      9    9.900287\n",
      "8     neptune      Virgo          3.359795      2  153.359795\n",
      "9       pluto     Cancer         18.798511     12  108.798511\n",
      "10      ceres     Gemini          1.612626     11   61.612626\n",
      "11  Ascendent        Leo          0.682972     12  120.682972\n",
      "      body1    body2  shape degree_type    degree\n",
      "0   mercury     moon    120  Separating  4.169588\n",
      "1     venus      sun      0  Separating  2.110501\n",
      "2      mars  mercury      0  Separating  6.923226\n",
      "3   jupiter  mercury    120    Applying  6.931165\n",
      "4   jupiter    venus     90    Applying  8.596066\n",
      "5   jupiter     mars    120    Applying  0.007939\n",
      "6    uranus  mercury     60    Applying  9.119989\n",
      "7    uranus     mars     60    Applying  2.196763\n",
      "8    uranus  jupiter     60    Applying  2.188823\n",
      "9    uranus   saturn     90    Applying  0.289157\n",
      "10  neptune      sun    180    Applying  6.354899\n",
      "11  neptune    venus    180    Applying  4.244398\n",
      "12  neptune  jupiter     90    Applying  4.351669\n",
      "13  neptune   saturn    120  Separating  6.251335\n",
      "14    pluto     moon     60  Separating  7.812199\n",
      "15    pluto   saturn    180    Applying  9.187381\n",
      "16    pluto   uranus     90  Separating  8.898224\n",
      "17    ceres      sun     90    Applying  4.607730\n",
      "18    ceres     moon    120    Applying  5.001916\n",
      "19    ceres  mercury    120    Applying  0.832328\n",
      "20    ceres    venus     90    Applying  2.497229\n",
      "21    ceres     mars    120  Separating  6.090898\n",
      "22    ceres  jupiter      0  Separating  6.098837\n",
      "23    ceres   uranus     60    Applying  8.287660\n",
      "24    ceres  neptune     90  Separating  1.747168\n"
     ]
    }
   ],
   "source": [
    "draw_chart()"
   ]
  },
  {
   "cell_type": "code",
   "execution_count": null,
   "metadata": {},
   "outputs": [],
   "source": []
  },
  {
   "cell_type": "code",
   "execution_count": null,
   "metadata": {},
   "outputs": [],
   "source": []
  },
  {
   "cell_type": "code",
   "execution_count": null,
   "metadata": {},
   "outputs": [],
   "source": []
  }
 ],
 "metadata": {
  "kernelspec": {
   "display_name": "Python 3",
   "language": "python",
   "name": "python3"
  },
  "language_info": {
   "codemirror_mode": {
    "name": "ipython",
    "version": 3
   },
   "file_extension": ".py",
   "mimetype": "text/x-python",
   "name": "python",
   "nbconvert_exporter": "python",
   "pygments_lexer": "ipython3",
   "version": "3.7.2"
  }
 },
 "nbformat": 4,
 "nbformat_minor": 2
}
