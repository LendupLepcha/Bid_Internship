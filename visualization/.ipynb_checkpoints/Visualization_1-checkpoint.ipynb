{
 "cells": [
  {
   "cell_type": "code",
   "execution_count": 1,
   "metadata": {},
   "outputs": [],
   "source": [
    "import numpy as np\n",
    "import math\n",
    "import pandas as pd\n",
    "import cv2 as cv\n",
    "from matplotlib import pyplot as plt\n",
    "%matplotlib inline\n",
    "from skyfield.api import load\n",
    "import copy"
   ]
  },
  {
   "cell_type": "code",
   "execution_count": 2,
   "metadata": {},
   "outputs": [],
   "source": [
    "from skyfield.api import E, N, W, wgs84, load"
   ]
  },
  {
   "cell_type": "code",
   "execution_count": 4,
   "metadata": {},
   "outputs": [
    {
     "name": "stderr",
     "output_type": "stream",
     "text": [
      "[#################################] 100% de421.bsp\n"
     ]
    }
   ],
   "source": [
    "# img = np.zeros((512,512,3), np.uint8)"
   ]
  },
  {
   "cell_type": "code",
   "execution_count": 5,
   "metadata": {},
   "outputs": [],
   "source": [
    "# cv.line(img,(0,0),(511,511),(255,0,0),5);"
   ]
  },
  {
   "cell_type": "code",
   "execution_count": 4,
   "metadata": {},
   "outputs": [],
   "source": []
  },
  {
   "cell_type": "code",
   "execution_count": 5,
   "metadata": {},
   "outputs": [],
   "source": [
    "# cv.line(img,(0,511),(511,0),(255,0,0),5);"
   ]
  },
  {
   "cell_type": "code",
   "execution_count": 6,
   "metadata": {},
   "outputs": [],
   "source": [
    "# font = cv.FONT_HERSHEY_SIMPLEX\n",
    "# cv.putText(img,'OpenCV',(10,500), font, 4,(255,255,255),2,cv.LINE_AA);"
   ]
  },
  {
   "cell_type": "code",
   "execution_count": 7,
   "metadata": {},
   "outputs": [],
   "source": [
    "# gray = cv.cvtColor(img, cv.COLOR_BGR2GRAY)\n",
    "# plt.imshow(gray)\n",
    "# plt.title('my picture')\n",
    "# plt.show()"
   ]
  },
  {
   "cell_type": "code",
   "execution_count": 8,
   "metadata": {},
   "outputs": [],
   "source": [
    "# cv.imshow('Line', img)\n",
    "# cv.waitKey(0)\n",
    "# cv.destroyAllWindows()\n",
    "\n"
   ]
  },
  {
   "cell_type": "code",
   "execution_count": 9,
   "metadata": {},
   "outputs": [],
   "source": [
    "# cv.imwrite('line.jpg', img)"
   ]
  },
  {
   "cell_type": "code",
   "execution_count": 10,
   "metadata": {},
   "outputs": [],
   "source": [
    "# cv.circle(image,(349,349), 300, (0), 1);"
   ]
  },
  {
   "cell_type": "code",
   "execution_count": 11,
   "metadata": {},
   "outputs": [],
   "source": [
    "# cv.circle(image,(349,349), 250, (0), 1);"
   ]
  },
  {
   "cell_type": "code",
   "execution_count": 12,
   "metadata": {},
   "outputs": [],
   "source": [
    "# cv.circle(image,(349,349), 0, (0), 5);"
   ]
  },
  {
   "cell_type": "markdown",
   "metadata": {},
   "source": [
    "# Frame of chart"
   ]
  },
  {
   "cell_type": "code",
   "execution_count": 58,
   "metadata": {},
   "outputs": [],
   "source": [
    "\n",
    "# image = np.ones((700,700,1), np.uint8) * 255\n",
    "# cv.circle(image,(349,349), 300, (0), 1);\n",
    "# cv.circle(image,(349,349), 250, (0), 1);\n",
    "# cv.circle(image,(349,349), 0, (0), 5);\n",
    "image = cv.imread('chart_frame_equal_house.jpg', 0)\n",
    "image_original=copy.deepcopy(image)\n",
    "grid_image = cv.imread('images/aspect_grid_frame.jpg', 0)\n",
    "grid_original=copy.deepcopy(grid_image)"
   ]
  },
  {
   "cell_type": "markdown",
   "metadata": {},
   "source": [
    "# Draw intersect of a line and circle (Given angle from center)"
   ]
  },
  {
   "cell_type": "code",
   "execution_count": 14,
   "metadata": {},
   "outputs": [],
   "source": [
    "def intersect_circle(angle,r):\n",
    "#     m = 3.14\n",
    "    signx = -1\n",
    "    signy = -1\n",
    "    quad = 1\n",
    "    if(angle == 360):\n",
    "        angle = 0\n",
    "        \n",
    "    if(angle>=270):\n",
    "        signy = 1\n",
    "        angle = angle - 270\n",
    "        quad = 4\n",
    "    elif(angle>=180):\n",
    "        signx = 1\n",
    "        signy = 1\n",
    "        angle = angle - 180\n",
    "        quad = 3\n",
    "    elif(angle>=90):\n",
    "        signx = 1\n",
    "        angle = angle - 90\n",
    "        quad = 2\n",
    "    m=math.tan(math.radians(angle))\n",
    "#     print(m)\n",
    "    x = math.sqrt((r*r)/(1+(m*m)))\n",
    "    y = m * x\n",
    "    if(quad % 2 ==0):\n",
    "        x, y = y, x\n",
    "#     print('x,y',x,y)\n",
    "    xx = signx * math.floor(x)\n",
    "    yy = signy * math.floor(y)\n",
    "    return xx,yy"
   ]
  },
  {
   "cell_type": "code",
   "execution_count": 15,
   "metadata": {},
   "outputs": [],
   "source": [
    "# x, y = intersect_circle(angle=224.9181216,r=300)\n",
    "# print(x+349,349-y)\n",
    "# cv.line(image,(349, 349),(x+349,349-y),(0),1);"
   ]
  },
  {
   "cell_type": "code",
   "execution_count": 16,
   "metadata": {},
   "outputs": [],
   "source": [
    "# cv.imshow('Circle', image)\n",
    "# cv.waitKey(0)\n",
    "# cv.destroyAllWindows()"
   ]
  },
  {
   "cell_type": "code",
   "execution_count": 17,
   "metadata": {},
   "outputs": [],
   "source": [
    "# imgs = image"
   ]
  },
  {
   "cell_type": "markdown",
   "metadata": {},
   "source": [
    "# insert image"
   ]
  },
  {
   "cell_type": "code",
   "execution_count": 18,
   "metadata": {},
   "outputs": [],
   "source": [
    "def insert_image(imgA, p_name, x, y):\n",
    "    local = 'images/'+p_name+'.jpg'\n",
    "    obj = cv.imread(local, 0)\n",
    "    length, bredth = obj.shape\n",
    "    len_half, bre_half = int(length/2), int(bredth/2)\n",
    "    p = q = 0\n",
    "    for i in range(y-len_half, y+len_half):\n",
    "        q=0\n",
    "        for j in range(x-bre_half, x+bre_half):\n",
    "            if(obj[p][q]<240):\n",
    "                imgA[i][j] = 0\n",
    "            q=q+1\n",
    "        p=p+1\n",
    "    return imgA"
   ]
  },
  {
   "cell_type": "markdown",
   "metadata": {},
   "source": [
    "# Draw arrow pointing the angle location"
   ]
  },
  {
   "cell_type": "code",
   "execution_count": 19,
   "metadata": {},
   "outputs": [],
   "source": [
    "def locate_arrow(angle,image,p_name,inner=True):\n",
    "    font = cv.FONT_HERSHEY_SIMPLEX\n",
    "#     p_name = \n",
    "    if (inner): # inner (True) means arrow from inside the circle\n",
    "        r, r_b, r_a = 250, 232, 228\n",
    "    else:\n",
    "        r, r_b, r_a = 302, 320, 324\n",
    "#     x, y = intersect_circle(angle,r)\n",
    "    x, y = intersect_circle(angle, r) # for arrow head\n",
    "    # _clock\n",
    "#     x_base, y_base = intersect_circle(angle,r_b)\n",
    "    x_base, y_base = intersect_circle(angle, r_b) # for arrow base\n",
    "    # _clock\n",
    "    xa, ya = intersect_circle(angle, r_a) #  for text\n",
    "    # _clock\n",
    "    img = cv.arrowedLine(image, (x_base+349,349-y_base), (x+349,349-y), 0, 1, tipLength= .5)\n",
    "#     img = cv.putText(img,p_name[:2],(xa+349,349-ya), font, .3,(0),1,cv.LINE_AA);\n",
    "#     img = cv.rectangle(img, (xa+349-7,349-ya-7), (xa+349+7,349-ya+7), 0, 1)\n",
    "    img = insert_image(image, p_name, xa+349, 349-ya)\n",
    "    return img"
   ]
  },
  {
   "cell_type": "code",
   "execution_count": 20,
   "metadata": {},
   "outputs": [],
   "source": [
    "# image = imgs\n",
    "# image = locate_arrow(270,image, inner= False)\n",
    "# cv.imshow('Circle', image)\n",
    "# cv.waitKey(0)\n",
    "# cv.destroyAllWindows()"
   ]
  },
  {
   "cell_type": "code",
   "execution_count": 21,
   "metadata": {},
   "outputs": [],
   "source": [
    "# start_point = (0, 0)  \n",
    "  \n",
    "# # End coordinate \n",
    "# end_point = (200, 200)  \n",
    "  \n",
    "# # Green color in BGR  \n",
    "# color = (0, 255, 0)  \n",
    "  \n",
    "# # Line thickness of 9 px  \n",
    "# thickness = 9\n",
    "  \n",
    "# # Using cv2.arrowedLine() method  \n",
    "# # Draw a diagonal green arrow line \n",
    "# # with thickness of 9 px  \n",
    "# image = cv.arrowedLine(image, start_point, end_point, \n",
    "#                                      color, thickness)  \n",
    "  \n",
    "# # Displaying the image  \n",
    "# cv.imshow('Arrow', image)  \n",
    "# cv.waitKey(0)\n",
    "# cv.destroyAllWindows()"
   ]
  },
  {
   "cell_type": "markdown",
   "metadata": {},
   "source": [
    "# Read angles of planets"
   ]
  },
  {
   "cell_type": "code",
   "execution_count": 6,
   "metadata": {},
   "outputs": [],
   "source": [
    "# calander = pd.read_csv('Azimuth_with_sunmoon.csv')\n",
    "calander = pd.read_excel('planets_angles_ra_degree_2018_2020.xlsx', engine='openpyxl')"
   ]
  },
  {
   "cell_type": "code",
   "execution_count": 23,
   "metadata": {},
   "outputs": [],
   "source": [
    "# calander.columns"
   ]
  },
  {
   "cell_type": "code",
   "execution_count": 24,
   "metadata": {},
   "outputs": [],
   "source": [
    "ts = load.timescale()\n",
    "time_p = list(ts.utc(2018, 1, range(1,365*3+2),12,20))"
   ]
  },
  {
   "cell_type": "code",
   "execution_count": 25,
   "metadata": {},
   "outputs": [],
   "source": [
    "# time_p[0]"
   ]
  },
  {
   "cell_type": "code",
   "execution_count": 26,
   "metadata": {},
   "outputs": [
    {
     "data": {
      "text/plain": [
       "1095"
      ]
     },
     "execution_count": 26,
     "metadata": {},
     "output_type": "execute_result"
    }
   ],
   "source": [
    "time_p.index(ts.utc(2020,12,31,12,20))"
   ]
  },
  {
   "cell_type": "code",
   "execution_count": 27,
   "metadata": {},
   "outputs": [],
   "source": [
    "# y=2020\n",
    "# m=12\n",
    "# d=31\n",
    "# h=12\n",
    "# mi=20\n",
    "# tn = ts.utc(y, m, d, h,mi)"
   ]
  },
  {
   "cell_type": "code",
   "execution_count": 99,
   "metadata": {},
   "outputs": [],
   "source": [
    "def set_time():\n",
    "    \n",
    "    y=int(input('Year:'))\n",
    "    m=int(input('Month:'))\n",
    "    d=int(input('day:'))\n",
    "    tn = ts.utc(y, m, d, 12,20)\n",
    "    early = ts.utc(2017, 12, 31, 12, 19)\n",
    "    late = ts.utc(2021, 1, 1, 12, 20)\n",
    "    if(tn.utc_jpl() < early.utc_jpl() or tn.utc_jpl() >= late.utc_jpl() ):\n",
    "        return -1\n",
    "    time_index = time_p.index(tn)\n",
    "    return time_index"
   ]
  },
  {
   "cell_type": "code",
   "execution_count": 29,
   "metadata": {},
   "outputs": [
    {
     "data": {
      "text/plain": [
       "True"
      ]
     },
     "execution_count": 29,
     "metadata": {},
     "output_type": "execute_result"
    }
   ],
   "source": [
    "# rown = time_p.index(tn)\n",
    "# print(rown)\n",
    "late = ts.utc(2020, 12, 31, 12, 21)\n",
    "early = ts.utc(2018, 1, 1, 12, 19)\n",
    "late.utc_jpl() > early.utc_jpl()"
   ]
  },
  {
   "cell_type": "code",
   "execution_count": 30,
   "metadata": {},
   "outputs": [],
   "source": [
    "# row=[]"
   ]
  },
  {
   "cell_type": "code",
   "execution_count": 31,
   "metadata": {},
   "outputs": [
    {
     "data": {
      "text/plain": [
       "['mercury',\n",
       " 'venus',\n",
       " 'mars',\n",
       " 'jupiter',\n",
       " 'saturn',\n",
       " 'uranus',\n",
       " 'neptune',\n",
       " 'pluto',\n",
       " 'ceres',\n",
       " 'chiron',\n",
       " 'sun',\n",
       " 'moon',\n",
       " 'north_node',\n",
       " 'south_node']"
      ]
     },
     "execution_count": 31,
     "metadata": {},
     "output_type": "execute_result"
    }
   ],
   "source": [
    "Planet_names = list(calander.columns[1:])\n",
    "Planet_names"
   ]
  },
  {
   "cell_type": "code",
   "execution_count": 32,
   "metadata": {},
   "outputs": [],
   "source": [
    "# row = calander.loc[rown][1:]\n",
    "# row"
   ]
  },
  {
   "cell_type": "code",
   "execution_count": 33,
   "metadata": {},
   "outputs": [],
   "source": [
    "def check_row(degree, name, row):\n",
    "    a = copy.deepcopy(row)\n",
    "#     i = list(Planet_names).index(name)\n",
    "#     r = a.pop(i)\n",
    "    n = list(Planet_names).index(name) \n",
    "    #print(n)\n",
    "    a = a.drop(name)\n",
    "    for j in range(n):\n",
    "        if abs(degree-a[j])<2:\n",
    "            return False\n",
    "    return True"
   ]
  },
  {
   "cell_type": "code",
   "execution_count": 34,
   "metadata": {},
   "outputs": [],
   "source": [
    "# cv.imwrite('chart_rough_2019_8_11_12_20.jpg', image)"
   ]
  },
  {
   "cell_type": "code",
   "execution_count": 35,
   "metadata": {},
   "outputs": [],
   "source": [
    "# del input"
   ]
  },
  {
   "cell_type": "code",
   "execution_count": 36,
   "metadata": {},
   "outputs": [],
   "source": [
    "# input"
   ]
  },
  {
   "cell_type": "code",
   "execution_count": 37,
   "metadata": {},
   "outputs": [],
   "source": [
    "def intersect_circle_clock(angle,r):\n",
    "#     m = 3.14\n",
    "    signx = 1\n",
    "    signy = -1\n",
    "    quad = 1\n",
    "    if(angle == 360):\n",
    "        angle = 0\n",
    "        \n",
    "    if(angle>=270):\n",
    "        signy = 1\n",
    "        angle = angle - 270\n",
    "        quad = 4\n",
    "    elif(angle>=180):\n",
    "        signx = -1\n",
    "        signy = 1\n",
    "        angle = angle - 180\n",
    "        quad = 3\n",
    "    elif(angle>=90):\n",
    "        signx = -1\n",
    "        angle = angle - 90\n",
    "        quad = 2\n",
    "    m=math.tan(math.radians(angle))\n",
    "#     print(m)\n",
    "    x = math.sqrt((r*r)/(1+(m*m)))\n",
    "    y = m * x\n",
    "    if(quad % 2 ==0):\n",
    "        x, y = y, x\n",
    "#     print('x,y',x,y)\n",
    "    xx = signx * math.floor(x)\n",
    "    yy = signy * math.floor(y)\n",
    "    return xx,yy"
   ]
  },
  {
   "cell_type": "code",
   "execution_count": 38,
   "metadata": {},
   "outputs": [],
   "source": [
    "# a = [1,2,3,4,5]"
   ]
  },
  {
   "cell_type": "code",
   "execution_count": 39,
   "metadata": {},
   "outputs": [],
   "source": [
    "# a.pop(0)"
   ]
  },
  {
   "cell_type": "code",
   "execution_count": 40,
   "metadata": {},
   "outputs": [],
   "source": [
    "# a\n"
   ]
  },
  {
   "cell_type": "code",
   "execution_count": 41,
   "metadata": {},
   "outputs": [],
   "source": [
    "# list(Planet_names)"
   ]
  },
  {
   "cell_type": "code",
   "execution_count": 42,
   "metadata": {},
   "outputs": [],
   "source": [
    "# ob = cv.imread('images/chiron.jpg', 0)"
   ]
  },
  {
   "cell_type": "code",
   "execution_count": 43,
   "metadata": {},
   "outputs": [],
   "source": [
    "# cv.imshow('Circle', ob)\n",
    "# cv.waitKey(0)\n",
    "# cv.destroyAllWindows()"
   ]
  },
  {
   "cell_type": "code",
   "execution_count": 44,
   "metadata": {},
   "outputs": [],
   "source": [
    "# ob.shape"
   ]
  },
  {
   "cell_type": "markdown",
   "metadata": {},
   "source": [
    "## aspect_grid function"
   ]
  },
  {
   "cell_type": "code",
   "execution_count": 45,
   "metadata": {},
   "outputs": [],
   "source": [
    "def aspect_grid(row, p_names):\n",
    "    grid = [[0 for i in range(len(row))] for j in range(len(row))]\n",
    "    for i in range(len(row)):\n",
    "        for j in range(i):\n",
    "            s=-1\n",
    "            diff = abs(row[i] - row[j])\n",
    "            if(diff>=50 and diff<=70) or (diff>=290 and diff<=310):\n",
    "                if (diff>70):\n",
    "                    diff = diff - 240\n",
    "                s = 60\n",
    "            elif (diff>=80 and diff<=100) or (diff>=260 and diff<=280):\n",
    "                if (diff>100):\n",
    "                    diff = diff - 180\n",
    "                s = 90\n",
    "            elif (diff>=110 and diff<=130) or (diff>=230 and diff<=250):\n",
    "                if (diff>130):\n",
    "                    diff = diff - 120\n",
    "                s = 120\n",
    "            elif (diff>=170 and diff<=190):\n",
    "                s = 180\n",
    "            if(s == -1):\n",
    "                grid[i][j] = -1;\n",
    "            else:\n",
    "                a = diff - s\n",
    "                if(a < 0):\n",
    "                    b = 'a'\n",
    "                else: \n",
    "                    b = 's'\n",
    "                cell = [s, b, abs(a)]\n",
    "                grid[i][j] = cell\n",
    "    return grid\n",
    "            "
   ]
  },
  {
   "cell_type": "code",
   "execution_count": 92,
   "metadata": {},
   "outputs": [],
   "source": [
    "def draw_grid(row, grid, img2):\n",
    "    x = 80\n",
    "    y = 80\n",
    "    for i in range(len(row)):\n",
    "        for j in range(i):\n",
    "            if(isinstance(grid[i][j], list)):\n",
    "                gdata = grid[i][j]\n",
    "                if(gdata[0] == 90):\n",
    "                    sname = 'square'\n",
    "                elif(gdata[0] == 60):\n",
    "                    sname = 'sextile'\n",
    "                elif(gdata[0] == 120):\n",
    "                    sname = 'trine'\n",
    "                elif(gdata[0] == 180):\n",
    "                    sname = 'opposition'\n",
    "#                 sname = 'images/' + sname + '.jpg'\n",
    "#                 print(sname)\n",
    "                string = gdata[1].upper()+' '+str(int(round(gdata[2])))\n",
    "                img2 = insert_image(img2, sname, x+22+(j*45), y-27+(i*45))\n",
    "                font = cv.FONT_HERSHEY_SIMPLEX\n",
    "                cv.putText(img2,string,(x+12+(j*45), y-12+(i*45)), font, .3,(0),1,cv.LINE_AA);\n",
    "    return img2"
   ]
  },
  {
   "cell_type": "markdown",
   "metadata": {},
   "source": [
    "# Main Func"
   ]
  },
  {
   "cell_type": "code",
   "execution_count": 65,
   "metadata": {},
   "outputs": [],
   "source": [
    "def draw_chart():\n",
    "    print('Enter Date:-')\n",
    "    rown = set_time()\n",
    "    if(rown==-1):\n",
    "        print('Date out of bound, Pls Enter time b/w 2018-1-1 and 2020-12-31...')\n",
    "        return\n",
    "    row = calander.loc[rown][1:]\n",
    "    image = copy.deepcopy(image_original)\n",
    "    grid_image=copy.deepcopy(grid_original)\n",
    "    inner_s = True\n",
    "\n",
    "    for i, j in zip(row, Planet_names) :\n",
    "        inner_s = check_row(i, j, row)\n",
    "        image = locate_arrow(i, image, p_name = j, inner = inner_s)\n",
    "#     for i,j in zip(row, Planet_names):\n",
    "#         print(j, ' : ',i , 'deg')\n",
    "    grid = aspect_grid(row, Planet_names)\n",
    "#     for i in grid:\n",
    "#         print(i)\n",
    "    grid_image = draw_grid(row, grid, grid_image)\n",
    "    cv.imshow('Natal_Chart', image)\n",
    "    cv.imshow('Aspect_grid',grid_image)\n",
    "    cv.waitKey(0)\n",
    "    cv.destroyAllWindows()"
   ]
  },
  {
   "cell_type": "code",
   "execution_count": null,
   "metadata": {},
   "outputs": [
    {
     "name": "stdout",
     "output_type": "stream",
     "text": [
      "Enter Date:-\n",
      "Year:2018\n",
      "Month:12\n",
      "day:31\n"
     ]
    }
   ],
   "source": [
    "draw_chart()"
   ]
  },
  {
   "cell_type": "code",
   "execution_count": null,
   "metadata": {},
   "outputs": [],
   "source": []
  }
 ],
 "metadata": {
  "kernelspec": {
   "display_name": "Python 3",
   "language": "python",
   "name": "python3"
  },
  "language_info": {
   "codemirror_mode": {
    "name": "ipython",
    "version": 3
   },
   "file_extension": ".py",
   "mimetype": "text/x-python",
   "name": "python",
   "nbconvert_exporter": "python",
   "pygments_lexer": "ipython3",
   "version": "3.7.2"
  }
 },
 "nbformat": 4,
 "nbformat_minor": 2
}
