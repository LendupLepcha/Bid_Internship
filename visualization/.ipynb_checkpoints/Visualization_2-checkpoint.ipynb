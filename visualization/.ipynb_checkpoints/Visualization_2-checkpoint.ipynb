{
 "cells": [
  {
   "cell_type": "markdown",
   "metadata": {},
   "source": [
    "# import libraries"
   ]
  },
  {
   "cell_type": "code",
   "execution_count": 45,
   "metadata": {},
   "outputs": [],
   "source": [
    "import numpy as np\n",
    "import math\n",
    "import pandas as pd\n",
    "import cv2 as cv\n",
    "from matplotlib import pyplot as plt\n",
    "%matplotlib inline\n",
    "from skyfield.api import load\n",
    "import copy\n",
    "from skyfield.api import E, N, W, wgs84, load"
   ]
  },
  {
   "cell_type": "markdown",
   "metadata": {},
   "source": [
    "# Draw intersect of a line and circle (Given angle from center)"
   ]
  },
  {
   "cell_type": "code",
   "execution_count": 6,
   "metadata": {},
   "outputs": [],
   "source": [
    "def intersect_circle(angle,r):\n",
    "#     m = 3.14\n",
    "    signx = -1\n",
    "    signy = -1\n",
    "    quad = 1\n",
    "    if(angle == 360):\n",
    "        angle = 0\n",
    "        \n",
    "    if(angle>=270):\n",
    "        signy = 1\n",
    "        angle = angle - 270\n",
    "        quad = 4\n",
    "    elif(angle>=180):\n",
    "        signx = 1\n",
    "        signy = 1\n",
    "        angle = angle - 180\n",
    "        quad = 3\n",
    "    elif(angle>=90):\n",
    "        signx = 1\n",
    "        angle = angle - 90\n",
    "        quad = 2\n",
    "    m=math.tan(math.radians(angle))\n",
    "#     print(m)\n",
    "    x = math.sqrt((r*r)/(1+(m*m)))\n",
    "    y = m * x\n",
    "    if(quad % 2 ==0):\n",
    "        x, y = y, x\n",
    "#     print('x,y',x,y)\n",
    "    xx = signx * math.floor(x)\n",
    "    yy = signy * math.floor(y)\n",
    "    return xx,yy"
   ]
  },
  {
   "cell_type": "code",
   "execution_count": 15,
   "metadata": {},
   "outputs": [],
   "source": [
    "def intersect_circle_clock(angle,r):\n",
    "#     m = 3.14\n",
    "    signx = 1\n",
    "    signy = -1\n",
    "    quad = 1\n",
    "    if(angle == 360):\n",
    "        angle = 0\n",
    "        \n",
    "    if(angle>=270):\n",
    "        signy = 1\n",
    "        angle = angle - 270\n",
    "        quad = 4\n",
    "    elif(angle>=180):\n",
    "        signx = -1\n",
    "        signy = 1\n",
    "        angle = angle - 180\n",
    "        quad = 3\n",
    "    elif(angle>=90):\n",
    "        signx = -1\n",
    "        angle = angle - 90\n",
    "        quad = 2\n",
    "    m=math.tan(math.radians(angle))\n",
    "#     print(m)\n",
    "    x = math.sqrt((r*r)/(1+(m*m)))\n",
    "    y = m * x\n",
    "    if(quad % 2 ==0):\n",
    "        x, y = y, x\n",
    "#     print('x,y',x,y)\n",
    "    xx = signx * math.floor(x)\n",
    "    yy = signy * math.floor(y)\n",
    "    return xx,yy"
   ]
  },
  {
   "cell_type": "markdown",
   "metadata": {},
   "source": [
    "# insert image"
   ]
  },
  {
   "cell_type": "code",
   "execution_count": 7,
   "metadata": {},
   "outputs": [],
   "source": [
    "def insert_image(imgA, p_name, x, y):\n",
    "    local = 'images/'+p_name+'.jpg'\n",
    "    obj = cv.imread(local, 0)\n",
    "    length, bredth = obj.shape\n",
    "    len_half, bre_half = int(length/2), int(bredth/2)\n",
    "    p = q = 0\n",
    "    for i in range(y-len_half, y+len_half):\n",
    "        q=0\n",
    "        for j in range(x-bre_half, x+bre_half):\n",
    "            if(obj[p][q]<240):\n",
    "                imgA[i][j] = 0\n",
    "            q=q+1\n",
    "        p=p+1\n",
    "    return imgA"
   ]
  },
  {
   "cell_type": "markdown",
   "metadata": {},
   "source": [
    "# Draw arrow pointing the angle location"
   ]
  },
  {
   "cell_type": "code",
   "execution_count": 8,
   "metadata": {},
   "outputs": [],
   "source": [
    "def locate_arrow(angle,image,p_name,inner=True):\n",
    "    font = cv.FONT_HERSHEY_SIMPLEX\n",
    "#     p_name = \n",
    "    if (inner): # inner (True) means arrow from inside the circle\n",
    "        r, r_b, r_a = 250, 232, 228\n",
    "    else:\n",
    "        r, r_b, r_a = 302, 320, 324\n",
    "#     x, y = intersect_circle(angle,r)\n",
    "    x, y = intersect_circle(angle, r) # for arrow head\n",
    "    # _clock\n",
    "#     x_base, y_base = intersect_circle(angle,r_b)\n",
    "    x_base, y_base = intersect_circle(angle, r_b) # for arrow base\n",
    "    # _clock\n",
    "    xa, ya = intersect_circle(angle, r_a) #  for text\n",
    "    # _clock\n",
    "    img = cv.arrowedLine(image, (x_base+349,349-y_base), (x+349,349-y), 0, 1, tipLength= .5)\n",
    "#     img = cv.putText(img,p_name[:2],(xa+349,349-ya), font, .3,(0),1,cv.LINE_AA);\n",
    "#     img = cv.rectangle(img, (xa+349-7,349-ya-7), (xa+349+7,349-ya+7), 0, 1)\n",
    "    img = insert_image(image, p_name, xa+349, 349-ya)\n",
    "    return img"
   ]
  },
  {
   "cell_type": "markdown",
   "metadata": {},
   "source": [
    "# Read angles of planets"
   ]
  },
  {
   "cell_type": "code",
   "execution_count": 38,
   "metadata": {},
   "outputs": [],
   "source": [
    "def get_angles():\n",
    "    y = int(input('Year: '))\n",
    "    m = int(input('month: '))\n",
    "    d = int(input('day: '))\n",
    "    h = int(input('hour: '))\n",
    "    mins = int(input('minute:'))\n",
    "    sec = int(input('second: '))\n",
    "    tx = ts.utc(y, m, d, h, mins, sec)\n",
    "    gg = gangtok.at(tx)\n",
    "    row = {}\n",
    "    for i in Planet_names:\n",
    "        q = P[i]\n",
    "        ra, dec, dist = gg.observe(q).apparent().radec()\n",
    "        row[i] = ra.hours * 360 / 24\n",
    "    rowpd = pd.DataFrame([row], columns = Planet_names)\n",
    "    print(rowpd)\n",
    "    return rowpd;"
   ]
  },
  {
   "cell_type": "code",
   "execution_count": 32,
   "metadata": {},
   "outputs": [],
   "source": []
  },
  {
   "cell_type": "code",
   "execution_count": 14,
   "metadata": {},
   "outputs": [],
   "source": [
    "def check_row(degree, name, row):\n",
    "    a = copy.deepcopy(row)\n",
    "#     i = list(Planet_names).index(name)\n",
    "#     r = a.pop(i)\n",
    "    n = list(Planet_names).index(name) \n",
    "    #print(n)\n",
    "    a = a.drop(name)\n",
    "    for j in range(n):\n",
    "        if abs(degree-a[j])<2:\n",
    "            return False\n",
    "    return True"
   ]
  },
  {
   "cell_type": "code",
   "execution_count": 36,
   "metadata": {},
   "outputs": [],
   "source": []
  },
  {
   "cell_type": "code",
   "execution_count": 44,
   "metadata": {},
   "outputs": [],
   "source": []
  },
  {
   "cell_type": "markdown",
   "metadata": {},
   "source": [
    "## aspect_grid function"
   ]
  },
  {
   "cell_type": "code",
   "execution_count": 16,
   "metadata": {},
   "outputs": [],
   "source": [
    "def aspect_grid(row, p_names):\n",
    "    grid = [[0 for i in range(len(row))] for j in range(len(row))]\n",
    "    for i in range(len(row)):\n",
    "        for j in range(i):\n",
    "            s=-1\n",
    "            diff = abs(row[i] - row[j])\n",
    "            if(diff>=50 and diff<=70) or (diff>=290 and diff<=310):\n",
    "                if (diff>70):\n",
    "                    diff = diff - 240\n",
    "                s = 60\n",
    "            elif (diff>=80 and diff<=100) or (diff>=260 and diff<=280):\n",
    "                if (diff>100):\n",
    "                    diff = diff - 180\n",
    "                s = 90\n",
    "            elif (diff>=110 and diff<=130) or (diff>=230 and diff<=250):\n",
    "                if (diff>130):\n",
    "                    diff = diff - 120\n",
    "                s = 120\n",
    "            elif (diff>=170 and diff<=190):\n",
    "                s = 180\n",
    "            if(s == -1):\n",
    "                grid[i][j] = -1;\n",
    "            else:\n",
    "                a = diff - s\n",
    "                if(a < 0):\n",
    "                    b = 'a'\n",
    "                else: \n",
    "                    b = 's'\n",
    "                cell = [s, b, abs(a)]\n",
    "                grid[i][j] = cell\n",
    "    return grid\n",
    "            "
   ]
  },
  {
   "cell_type": "code",
   "execution_count": 17,
   "metadata": {},
   "outputs": [],
   "source": [
    "def draw_grid(row, grid, img2):\n",
    "    x = 80\n",
    "    y = 80\n",
    "    for i in range(len(row)):\n",
    "        for j in range(i):\n",
    "            if(isinstance(grid[i][j], list)):\n",
    "                gdata = grid[i][j]\n",
    "                if(gdata[0] == 90):\n",
    "                    sname = 'square'\n",
    "                elif(gdata[0] == 60):\n",
    "                    sname = 'sextile'\n",
    "                elif(gdata[0] == 120):\n",
    "                    sname = 'trine'\n",
    "                elif(gdata[0] == 180):\n",
    "                    sname = 'opposition'\n",
    "#                 sname = 'images/' + sname + '.jpg'\n",
    "#                 print(sname)\n",
    "                string = gdata[1].upper()+' '+str(int(round(gdata[2])))\n",
    "                img2 = insert_image(img2, sname, x+22+(j*45), y-27+(i*45))\n",
    "                font = cv.FONT_HERSHEY_SIMPLEX\n",
    "                cv.putText(img2,string,(x+12+(j*45), y-12+(i*45)), font, .3,(0),1,cv.LINE_AA);\n",
    "    return img2"
   ]
  },
  {
   "cell_type": "markdown",
   "metadata": {},
   "source": [
    "# Global variables"
   ]
  },
  {
   "cell_type": "code",
   "execution_count": 42,
   "metadata": {},
   "outputs": [],
   "source": [
    "image = cv.imread('chart_frame_equal_house.jpg', 0)\n",
    "image_original=copy.deepcopy(image)\n",
    "grid_image = cv.imread('images/aspect_grid_frame_sun2pluto.jpg', 0)\n",
    "grid_original=copy.deepcopy(grid_image)"
   ]
  },
  {
   "cell_type": "code",
   "execution_count": 11,
   "metadata": {},
   "outputs": [],
   "source": [
    "ts = load.timescale()"
   ]
  },
  {
   "cell_type": "code",
   "execution_count": 21,
   "metadata": {},
   "outputs": [],
   "source": [
    "planets=[\n",
    "    'sun',\n",
    "    'moon',\n",
    "    'mercury barycenter',\n",
    "    'venus barycenter',\n",
    "    'mars barycenter',\n",
    "    'jupiter barycenter',\n",
    "    'saturn barycenter',\n",
    "    'uranus barycenter',\n",
    "    'neptune barycenter',\n",
    "    'pluto barycenter'\n",
    "]\n",
    "Planet_names = [\n",
    "    'sun',\n",
    "    'moon',\n",
    "    'mercury',\n",
    "    'venus',\n",
    "    'mars',\n",
    "    'jupiter',\n",
    "    'saturn',\n",
    "    'uranus',\n",
    "    'neptune',\n",
    "    'pluto'\n",
    "]\n",
    "eph = load('de421.bsp')"
   ]
  },
  {
   "cell_type": "code",
   "execution_count": 23,
   "metadata": {},
   "outputs": [],
   "source": [
    "earth = eph['earth']\n",
    "gangtok = earth + wgs84.latlon( 27.3314 , 88.6138)\n",
    "# gg = gangtok.at(time_p)\n",
    "P= {}\n",
    "for i, j in zip(planets, Planet_names):\n",
    "    P[j] = eph[i]"
   ]
  },
  {
   "cell_type": "markdown",
   "metadata": {},
   "source": [
    "# Main Func"
   ]
  },
  {
   "cell_type": "code",
   "execution_count": 40,
   "metadata": {},
   "outputs": [],
   "source": [
    "def draw_chart():\n",
    "    print('Enter Date:-')\n",
    "#     rown = set_time()\n",
    "#     if(rown==-1):\n",
    "#         print('Date out of bound, Pls Enter time b/w 2018-1-1 and 2020-12-31...')\n",
    "#         return\n",
    "#     row = calander.loc[rown][1:]\n",
    "    rows = get_angles()\n",
    "    row = rows.loc[0]\n",
    "    image = copy.deepcopy(image_original)\n",
    "    grid_image=copy.deepcopy(grid_original)\n",
    "    inner_s = True\n",
    "\n",
    "    for i, j in zip(row, Planet_names) :\n",
    "        inner_s = check_row(i, j, row)\n",
    "        image = locate_arrow(i, image, p_name = j, inner = inner_s)\n",
    "#     for i,j in zip(row, Planet_names):\n",
    "#         print(j, ' : ',i , 'deg')\n",
    "    grid = aspect_grid(row, Planet_names)\n",
    "#     for i in grid:\n",
    "#         print(i)\n",
    "    grid_image = draw_grid(row, grid, grid_image)\n",
    "    cv.imshow('Natal_Chart', image)\n",
    "    cv.imshow('Aspect_grid',grid_image)\n",
    "    cv.waitKey(0)\n",
    "    cv.destroyAllWindows()"
   ]
  },
  {
   "cell_type": "code",
   "execution_count": 44,
   "metadata": {},
   "outputs": [
    {
     "name": "stdout",
     "output_type": "stream",
     "text": [
      "Enter Date:-\n",
      "Year: 2020\n",
      "month: 1\n",
      "day: 1\n",
      "hour: 1\n",
      "minute:1\n",
      "second: 1\n",
      "          sun        moon    mercury       venus        mars     jupiter  \\\n",
      "0  280.640223  349.844983  274.59509  317.214085  235.972228  276.971571   \n",
      "\n",
      "       saturn     uranus     neptune       pluto  \n",
      "0  292.828263  30.402171  347.506648  293.999396  \n"
     ]
    }
   ],
   "source": [
    "draw_chart()"
   ]
  },
  {
   "cell_type": "code",
   "execution_count": null,
   "metadata": {},
   "outputs": [],
   "source": [
    " "
   ]
  }
 ],
 "metadata": {
  "kernelspec": {
   "display_name": "Python 3",
   "language": "python",
   "name": "python3"
  },
  "language_info": {
   "codemirror_mode": {
    "name": "ipython",
    "version": 3
   },
   "file_extension": ".py",
   "mimetype": "text/x-python",
   "name": "python",
   "nbconvert_exporter": "python",
   "pygments_lexer": "ipython3",
   "version": "3.7.2"
  }
 },
 "nbformat": 4,
 "nbformat_minor": 2
}
