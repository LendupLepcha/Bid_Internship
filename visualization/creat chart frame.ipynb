{
 "cells": [
  {
   "cell_type": "code",
   "execution_count": 13,
   "metadata": {},
   "outputs": [],
   "source": [
    "import numpy as np\n",
    "import math\n",
    "import pandas as pd\n",
    "import cv2 as cv\n",
    "import copy\n",
    "from skyfield.api import E, N, W, wgs84, load"
   ]
  },
  {
   "cell_type": "code",
   "execution_count": 2,
   "metadata": {},
   "outputs": [],
   "source": [
    "image = np.ones((700,700,1), np.uint8) * 255\n",
    "cv.circle(image,(349,349), 300, (0), 1);\n",
    "cv.circle(image,(349,349), 250, (0), 1);\n",
    "cv.circle(image,(349,349), 150, (0), 1);\n",
    "cv.circle(image,(349,349), 125, (0), 1);\n",
    "cv.circle(image,(349,349), 0, (0), 5);\n",
    "\n",
    "image_original=copy.deepcopy(image)"
   ]
  },
  {
   "cell_type": "code",
   "execution_count": 3,
   "metadata": {},
   "outputs": [],
   "source": [
    "def intersect_circle(angle,r):\n",
    "#     m = 3.14\n",
    "    signx = -1\n",
    "    signy = -1\n",
    "    quad = 1\n",
    "    if(angle == 360):\n",
    "        angle = 0\n",
    "        \n",
    "    if(angle>=270):\n",
    "        signy = 1\n",
    "        angle = angle - 270\n",
    "        quad = 4\n",
    "    elif(angle>=180):\n",
    "        signx = 1\n",
    "        signy = 1\n",
    "        angle = angle - 180\n",
    "        quad = 3\n",
    "    elif(angle>=90):\n",
    "        signx = 1\n",
    "        angle = angle - 90\n",
    "        quad = 2\n",
    "    m=math.tan(math.radians(angle))\n",
    "#     print(m)\n",
    "    x = math.sqrt((r*r)/(1+(m*m)))\n",
    "    y = m * x\n",
    "    if(quad % 2 ==0):\n",
    "        x, y = y, x\n",
    "#     print('x,y',x,y)\n",
    "    xx = signx * math.floor(x)\n",
    "    yy = signy * math.floor(y)\n",
    "    return xx,yy"
   ]
  },
  {
   "cell_type": "code",
   "execution_count": 16,
   "metadata": {},
   "outputs": [],
   "source": [
    "def insert_image(imgA, p_name, x, y):\n",
    "    local = 'images/'+p_name+'.jpg'\n",
    "    obj = cv.imread(local, 0)\n",
    "    length, bredth = obj.shape\n",
    "    len_half, bre_half = int(length/2), int(bredth/2)\n",
    "    p = q = 0\n",
    "    for i in range(y-len_half, y+len_half):\n",
    "        q=0\n",
    "        for j in range(x-bre_half, x+bre_half):\n",
    "            if(obj[p][q]<240):\n",
    "                imgA[i][j] = 0\n",
    "            q=q+1\n",
    "        p=p+1\n",
    "    return imgA"
   ]
  },
  {
   "cell_type": "code",
   "execution_count": 5,
   "metadata": {},
   "outputs": [],
   "source": [
    "def locate_arrow(angle,image,p_name,inner=True):\n",
    "    font = cv.FONT_HERSHEY_SIMPLEX\n",
    "#     p_name = \n",
    "    if (inner): # inner (True) means arrow from inside the circle\n",
    "        r, r_b, r_a = 250, 232, 228\n",
    "    else:\n",
    "        r, r_b, r_a = 302, 320, 324\n",
    "#     x, y = intersect_circle(angle,r)\n",
    "    x, y = intersect_circle(angle, r) # for arrow head\n",
    "    # _clock\n",
    "#     x_base, y_base = intersect_circle(angle,r_b)\n",
    "    x_base, y_base = intersect_circle(angle, r_b) # for arrow base\n",
    "    # _clock\n",
    "    xa, ya = intersect_circle(angle, r_a) #  for text\n",
    "    # _clock\n",
    "    img = cv.arrowedLine(image, (x_base+349,349-y_base), (x+349,349-y), 0, 1, tipLength= .5)\n",
    "#     img = cv.putText(img,p_name[:2],(xa+349,349-ya), font, .3,(0),1,cv.LINE_AA);\n",
    "#     img = cv.rectangle(img, (xa+349-7,349-ya-7), (xa+349+7,349-ya+7), 0, 1)\n",
    "    img = insert_image(image, p_name, xa+349, 349-ya)\n",
    "    return img"
   ]
  },
  {
   "cell_type": "code",
   "execution_count": 6,
   "metadata": {},
   "outputs": [],
   "source": [
    "zodiac = [\n",
    "    ['aries', 0, 30],\n",
    "    ['taurus', 30, 60],\n",
    "    ['gemini', 60, 90],\n",
    "    ['cancer', 90, 120],\n",
    "    ['leo', 120, 150],\n",
    "    ['virgo', 150,180],\n",
    "    ['libra', 180, 210],\n",
    "    ['scorpio', 210, 240],\n",
    "    ['sagittarius', 240, 270],\n",
    "    ['capricorn', 270, 300],\n",
    "    ['aquarius', 300, 330],\n",
    "    ['pisces', 330, 360]\n",
    "]"
   ]
  },
  {
   "cell_type": "code",
   "execution_count": 7,
   "metadata": {},
   "outputs": [
    {
     "data": {
      "text/plain": [
       "[['aries', 0, 30],\n",
       " ['taurus', 30, 60],\n",
       " ['gemini', 60, 90],\n",
       " ['cancer', 90, 120],\n",
       " ['leo', 120, 150],\n",
       " ['virgo', 150, 180],\n",
       " ['libra', 180, 210],\n",
       " ['scorpio', 210, 240],\n",
       " ['sagittarius', 240, 270],\n",
       " ['capricorn', 270, 300],\n",
       " ['aquarius', 300, 330],\n",
       " ['pisces', 330, 360]]"
      ]
     },
     "execution_count": 7,
     "metadata": {},
     "output_type": "execute_result"
    }
   ],
   "source": [
    "zodiac"
   ]
  },
  {
   "cell_type": "code",
   "execution_count": 8,
   "metadata": {},
   "outputs": [],
   "source": [
    "image = copy.deepcopy(image_original)\n",
    "for i,j in zip(zodiac,range(1,13)):\n",
    "    xa, ya= intersect_circle(i[1]+15, 270)\n",
    "    x, y = intersect_circle(i[1], 250)\n",
    "    x_i, y_i = intersect_circle(i[1], 150)\n",
    "#     x_ii, y_ii = intersect_circle(i[1], 125)\n",
    "    x0, y0 = intersect_circle(i[1], 300)\n",
    "#     x_num, y_num = intersect_circle(i[1]+15, 135)\n",
    "    cv.line(image,(x0+349, 349-y0),(x+349, 349-y),0,1)\n",
    "    image = insert_image(image, i[0], xa+349, 349-ya)\n",
    "    font = cv.FONT_HERSHEY_SIMPLEX\n",
    "#     cv.putText(image,str(j),(x_num+343, 352-y_num), font, .3,(0),1,cv.LINE_AA);"
   ]
  },
  {
   "cell_type": "code",
   "execution_count": 9,
   "metadata": {},
   "outputs": [],
   "source": [
    "cv.imshow('Chart Frame', image) \n",
    "cv.waitKey(0)\n",
    "cv.destroyAllWindows()"
   ]
  },
  {
   "cell_type": "code",
   "execution_count": 12,
   "metadata": {},
   "outputs": [
    {
     "data": {
      "text/plain": [
       "True"
      ]
     },
     "execution_count": 12,
     "metadata": {},
     "output_type": "execute_result"
    }
   ],
   "source": [
    "cv.imwrite('images/chart_frame_equal_house.jpg', image)"
   ]
  },
  {
   "cell_type": "code",
   "execution_count": 3,
   "metadata": {},
   "outputs": [],
   "source": [
    "img2 = np.ones((700,700,1), np.uint8) * 255\n",
    "img2_original=copy.deepcopy(img2)"
   ]
  },
  {
   "cell_type": "code",
   "execution_count": 31,
   "metadata": {},
   "outputs": [],
   "source": [
    "# pname = ['mercury',\n",
    "#  'venus',\n",
    "#  'mars',\n",
    "#  'jupiter',\n",
    "#  'saturn',\n",
    "#  'uranus',\n",
    "#  'neptune',\n",
    "#  'pluto',\n",
    "#  'ceres',\n",
    "#  'chiron',\n",
    "#  'sun',\n",
    "#  'moon',\n",
    "#  'north_node',\n",
    "#  'south_node']"
   ]
  },
  {
   "cell_type": "code",
   "execution_count": 4,
   "metadata": {},
   "outputs": [],
   "source": [
    "pname = [\n",
    "    'sun',\n",
    "    'moon',\n",
    "    'mercury',\n",
    "    'venus',\n",
    "    'mars',\n",
    "    'jupiter',\n",
    "    'saturn',\n",
    "    'uranus',\n",
    "    'neptune',\n",
    "    'pluto',\n",
    "    'ceres'\n",
    "]"
   ]
  },
  {
   "cell_type": "code",
   "execution_count": 7,
   "metadata": {},
   "outputs": [],
   "source": [
    "x=80\n",
    "y=80\n",
    "y0 = 530\n",
    "x0 = 80\n",
    "img2=copy.deepcopy(img2_original)\n",
    "cv.line(img2,(x,y0),(x,y),0,1);\n",
    "cv.line(img2,(x,y0),(x,y),0,1);\n",
    "for i in range(11):\n",
    "    x = x+45\n",
    "    cv.line(img2,(x,y0),(x,y),0,1);\n",
    "    cv.line(img2,(x0,y),(x,y),0,1);\n",
    "    y = y+45\n",
    "x = 58\n",
    "y = 102\n",
    "for i in range(10):\n",
    "    img2 = insert_image(img2, pname[i+1], x, y)\n",
    "    y = y+45;\n",
    "x = 102\n",
    "y = 58\n",
    "for i in range(10):\n",
    "    img2 = insert_image(img2, pname[i], x, y)\n",
    "    x = x+45;\n",
    "    y = y+45;\n",
    "cv.imshow('aspect', img2) \n",
    "cv.waitKey(0)\n",
    "cv.destroyAllWindows()"
   ]
  },
  {
   "cell_type": "code",
   "execution_count": 8,
   "metadata": {},
   "outputs": [
    {
     "data": {
      "text/plain": [
       "True"
      ]
     },
     "execution_count": 8,
     "metadata": {},
     "output_type": "execute_result"
    }
   ],
   "source": [
    "cv.imwrite('images/aspect_grid_frame_withceres.jpg', img2)"
   ]
  },
  {
   "cell_type": "code",
   "execution_count": 51,
   "metadata": {},
   "outputs": [],
   "source": [
    "x = 80\n",
    "y = 80\n",
    "img2 = insert_image(img2, 'mars', x+22, y+18)\n",
    "font = cv.FONT_HERSHEY_SIMPLEX\n",
    "cv.putText(img2,'S 02',(x+12, y+33), font, .3,(0),1,cv.LINE_AA);\n",
    "cv.imshow('aspect', img2) \n",
    "cv.waitKey(0)\n",
    "cv.destroyAllWindows()"
   ]
  },
  {
   "cell_type": "code",
   "execution_count": 6,
   "metadata": {},
   "outputs": [
    {
     "data": {
      "text/plain": [
       "530"
      ]
     },
     "execution_count": 6,
     "metadata": {},
     "output_type": "execute_result"
    }
   ],
   "source": [
    "485+45"
   ]
  },
  {
   "cell_type": "code",
   "execution_count": 10,
   "metadata": {},
   "outputs": [],
   "source": [
    "def rising(time):\n",
    "    horizon = gangtok.at(time).from_altaz(alt_degrees = 0, az_degrees = 180)\n",
    "    ra, dec, dist = horizon.radec()\n",
    "    As = ra.hours * 360 / 24\n",
    "    return As"
   ]
  },
  {
   "cell_type": "code",
   "execution_count": 11,
   "metadata": {},
   "outputs": [],
   "source": [
    "image = copy.deepcopy(image_original)"
   ]
  },
  {
   "cell_type": "code",
   "execution_count": 15,
   "metadata": {},
   "outputs": [],
   "source": [
    "eph = load('de421.bsp')\n",
    "earth = eph['earth']\n",
    "gangtok = earth + wgs84.latlon( 27.3314 , 88.6138)\n",
    "# gg = gangtok.at(time_p)\n",
    "ts = load.timescale()"
   ]
  },
  {
   "cell_type": "code",
   "execution_count": 31,
   "metadata": {},
   "outputs": [],
   "source": [
    "image = copy.deepcopy(image_original)\n",
    "t = ts.utc(1998,8,11)\n",
    "As = rising(t)\n",
    "font = cv.FONT_HERSHEY_SIMPLEX\n",
    "for i in range(12):\n",
    "    thick = 1\n",
    "    angle = As + (i * 30)\n",
    "    if(angle >= 360 ):\n",
    "        angle = angle - 360\n",
    "    if(i%3 == 0):\n",
    "        thick = 2\n",
    "    hangle = angle+15\n",
    "    if(hangle >= 360 ):\n",
    "        hangle = hangle - 360\n",
    "    x1, y1 = intersect_circle(angle,250)\n",
    "    x, y = intersect_circle(angle,125)\n",
    "    xh, yh = intersect_circle(hangle,135)\n",
    "    cv.line(image,(x1+349, 349-y1),(x+349, 349-y),0,thick)\n",
    "    txt = str(i+1)\n",
    "    cv.putText(image,txt,(xh+343, 352-yh), font, .3,(0),1,cv.LINE_AA)\n",
    "    if(i == 0):\n",
    "        x0, y0 = intersect_circle(angle,270)\n",
    "        cv.putText(image,'As',(x0+343, 352-y0), font, .5,(0),1,cv.LINE_AA);\n",
    "cv.imshow('houses', image) \n",
    "cv.waitKey(0)\n",
    "cv.destroyAllWindows()"
   ]
  },
  {
   "cell_type": "code",
   "execution_count": null,
   "metadata": {},
   "outputs": [],
   "source": []
  }
 ],
 "metadata": {
  "kernelspec": {
   "display_name": "Python 3",
   "language": "python",
   "name": "python3"
  },
  "language_info": {
   "codemirror_mode": {
    "name": "ipython",
    "version": 3
   },
   "file_extension": ".py",
   "mimetype": "text/x-python",
   "name": "python",
   "nbconvert_exporter": "python",
   "pygments_lexer": "ipython3",
   "version": "3.7.2"
  }
 },
 "nbformat": 4,
 "nbformat_minor": 2
}
