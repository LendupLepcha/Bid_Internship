{
 "cells": [
  {
   "cell_type": "markdown",
   "metadata": {},
   "source": [
    "# Angular Diameter of planets"
   ]
  },
  {
   "cell_type": "code",
   "execution_count": 1,
   "metadata": {},
   "outputs": [],
   "source": [
    "import numpy as np\n",
    "from skyfield.api import Angle, load"
   ]
  },
  {
   "cell_type": "markdown",
   "metadata": {},
   "source": [
    "## Angular diameter of neptune from earth"
   ]
  },
  {
   "cell_type": "code",
   "execution_count": 4,
   "metadata": {},
   "outputs": [],
   "source": [
    "ts = load.timescale()\n",
    "time = ts.now()\n",
    "\n",
    "eph = load('de421.bsp')\n",
    "earth, neptune = eph['earth'], eph['neptune barycenter']\n",
    "radius_km = 24764.0"
   ]
  },
  {
   "cell_type": "code",
   "execution_count": 3,
   "metadata": {},
   "outputs": [
    {
     "name": "stdout",
     "output_type": "stream",
     "text": [
      "2.257190 arcseconds\n"
     ]
    }
   ],
   "source": [
    "astrometric = earth.at(time).observe(neptune)\n",
    "ra, dec, distance = astrometric.apparent().radec()\n",
    "apparent_diameter = Angle(radians=np.arcsin(radius_km / distance.km) * 2.0)\n",
    "print('{:.6f} arcseconds'.format(apparent_diameter.arcseconds()))"
   ]
  },
  {
   "cell_type": "code",
   "execution_count": 30,
   "metadata": {},
   "outputs": [
    {
     "name": "stdout",
     "output_type": "stream",
     "text": [
      "00deg 00' 02.2\"\n"
     ]
    }
   ],
   "source": [
    "radius_km = 24764.0\n",
    "astrometric = earth.at(time).observe(neptune)\n",
    "ra, dec, distance = astrometric.apparent().radec()\n",
    "apparent_diameter = Angle(radians=np.arcsin(radius_km / distance.km) * 2.0)\n",
    "print(apparent_diameter)"
   ]
  },
  {
   "cell_type": "markdown",
   "metadata": {},
   "source": [
    "## Angular diameter of earth from moon"
   ]
  },
  {
   "cell_type": "code",
   "execution_count": 31,
   "metadata": {},
   "outputs": [],
   "source": [
    "earth, moon = eph['earth barycenter'], eph['moon']\n",
    "radius_km = 6371.0"
   ]
  },
  {
   "cell_type": "code",
   "execution_count": 57,
   "metadata": {},
   "outputs": [
    {
     "name": "stdout",
     "output_type": "stream",
     "text": [
      "1.8058596901389363\n"
     ]
    }
   ],
   "source": [
    "astrometric = moon.at(time).observe(earth)\n",
    "ra, dec, distance = astrometric.apparent().radec()\n",
    "apparent_diameter = Angle(radians=np.arcsin(radius_km / distance.km) * 2.0)\n",
    "print(apparent_diameter.degrees)"
   ]
  },
  {
   "cell_type": "code",
   "execution_count": 35,
   "metadata": {},
   "outputs": [
    {
     "name": "stdout",
     "output_type": "stream",
     "text": [
      "6581.065334 arcseconds\n"
     ]
    }
   ],
   "source": [
    "astrometric = moon.at(time).observe(earth)\n",
    "ra, dec, distance = astrometric.apparent().radec()\n",
    "apparent_diameter = Angle(radians=np.arcsin(radius_km / distance.km) * 2.0)\n",
    "print('{:.6f} arcseconds'.format(apparent_diameter.arcseconds()))"
   ]
  },
  {
   "cell_type": "markdown",
   "metadata": {},
   "source": [
    "## from Earth to sun"
   ]
  },
  {
   "cell_type": "code",
   "execution_count": 56,
   "metadata": {},
   "outputs": [
    {
     "name": "stdout",
     "output_type": "stream",
     "text": [
      "00deg 32' 31.3\"\n"
     ]
    }
   ],
   "source": [
    "earth, sun = eph[\"earth\"], eph[\"sun\"]\n",
    "radius=696340.0\n",
    "astrometrix = earth.at(time).observe(sun)\n",
    "ra, dec, dist = astrometrix.apparent().radec()\n",
    "\n",
    "arc_diameter= Angle(radians=np.arcsin(radius/dist.km) * 2.0)\n",
    "print(arc_diameter)"
   ]
  },
  {
   "cell_type": "code",
   "execution_count": null,
   "metadata": {},
   "outputs": [],
   "source": []
  },
  {
   "cell_type": "code",
   "execution_count": null,
   "metadata": {},
   "outputs": [],
   "source": []
  }
 ],
 "metadata": {
  "kernelspec": {
   "display_name": "Python 3",
   "language": "python",
   "name": "python3"
  },
  "language_info": {
   "codemirror_mode": {
    "name": "ipython",
    "version": 3
   },
   "file_extension": ".py",
   "mimetype": "text/x-python",
   "name": "python",
   "nbconvert_exporter": "python",
   "pygments_lexer": "ipython3",
   "version": "3.7.2"
  }
 },
 "nbformat": 4,
 "nbformat_minor": 2
}
