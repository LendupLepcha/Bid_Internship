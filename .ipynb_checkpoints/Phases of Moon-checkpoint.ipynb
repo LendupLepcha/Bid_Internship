{
 "cells": [
  {
   "cell_type": "markdown",
   "metadata": {},
   "source": [
    "# Phases of the moon"
   ]
  },
  {
   "cell_type": "code",
   "execution_count": 32,
   "metadata": {},
   "outputs": [],
   "source": [
    "from skyfield.api import load\n",
    "from skyfield.framelib import ecliptic_frame\n",
    "import datetime as dt\n",
    "from pytz import timezone"
   ]
  },
  {
   "cell_type": "markdown",
   "metadata": {},
   "source": [
    "## Load the Ephemeris of earth, sun and the moon"
   ]
  },
  {
   "cell_type": "code",
   "execution_count": 4,
   "metadata": {},
   "outputs": [],
   "source": [
    "ts = load.timescale()\n",
    "t = ts.now()\n",
    "\n",
    "eph = load('de421.bsp')\n",
    "sun, moon, earth = eph['sun'], eph['moon'], eph['earth']\n"
   ]
  },
  {
   "cell_type": "markdown",
   "metadata": {},
   "source": [
    "## Set Time"
   ]
  },
  {
   "cell_type": "code",
   "execution_count": 30,
   "metadata": {},
   "outputs": [],
   "source": [
    "zone = timezone(\"Indian/Mahe\")# Indian/Mahe\n",
    "now = zone.localize(dt.datetime.now())\n",
    "f=now.replace(hour=0, minute=0, second=0, microsecond=0)+dt.timedelta(days=15)\n",
    "ff=ts.from_datetime(f)"
   ]
  },
  {
   "cell_type": "markdown",
   "metadata": {},
   "source": [
    "## Calculate phase of the moon for that time"
   ]
  },
  {
   "cell_type": "code",
   "execution_count": 31,
   "metadata": {},
   "outputs": [
    {
     "name": "stdout",
     "output_type": "stream",
     "text": [
      "271.3 at time  A.D. 2021-Feb-04 20:00:00.0000 UTC\n"
     ]
    }
   ],
   "source": [
    "e = earth.at(ff)\n",
    "_, slon, _ = e.observe(sun).apparent().frame_latlon(ecliptic_frame)\n",
    "_, mlon, _ = e.observe(moon).apparent().frame_latlon(ecliptic_frame)\n",
    "phase = (mlon.degrees - slon.degrees) % 360.0\n",
    "\n",
    "print('{0:.1f}'.format(phase), 'at time ', ff.utc_jpl())"
   ]
  },
  {
   "cell_type": "code",
   "execution_count": 26,
   "metadata": {},
   "outputs": [
    {
     "data": {
      "text/plain": [
       "datetime.datetime(2021, 1, 22, 0, 0, tzinfo=<DstTzInfo 'Indian/Mahe' +04+4:00:00 STD>)"
      ]
     },
     "execution_count": 26,
     "metadata": {},
     "output_type": "execute_result"
    }
   ],
   "source": [
    "now.replace(hour=0, minute=0, second=0, microsecond=0)+dt.timedelta(days=1)"
   ]
  },
  {
   "cell_type": "code",
   "execution_count": 27,
   "metadata": {},
   "outputs": [
    {
     "data": {
      "text/plain": [
       "datetime.datetime(2021, 1, 21, 12, 21, 23, 62776, tzinfo=<DstTzInfo 'Indian/Mahe' +04+4:00:00 STD>)"
      ]
     },
     "execution_count": 27,
     "metadata": {},
     "output_type": "execute_result"
    }
   ],
   "source": [
    "now"
   ]
  },
  {
   "cell_type": "code",
   "execution_count": null,
   "metadata": {},
   "outputs": [],
   "source": []
  }
 ],
 "metadata": {
  "kernelspec": {
   "display_name": "Python 3",
   "language": "python",
   "name": "python3"
  },
  "language_info": {
   "codemirror_mode": {
    "name": "ipython",
    "version": 3
   },
   "file_extension": ".py",
   "mimetype": "text/x-python",
   "name": "python",
   "nbconvert_exporter": "python",
   "pygments_lexer": "ipython3",
   "version": "3.7.2"
  }
 },
 "nbformat": 4,
 "nbformat_minor": 2
}
