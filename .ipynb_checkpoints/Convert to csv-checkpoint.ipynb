{
 "cells": [
  {
   "cell_type": "markdown",
   "metadata": {},
   "source": [
    "# convert CSV"
   ]
  },
  {
   "cell_type": "code",
   "execution_count": 1,
   "metadata": {},
   "outputs": [],
   "source": [
    "from skyfield.api import load, wgs84, Angle\n",
    "import pickle\n",
    "import pandas as pd\n",
    "ts= load.timescale()"
   ]
  },
  {
   "cell_type": "code",
   "execution_count": 2,
   "metadata": {},
   "outputs": [],
   "source": [
    "f1 = open('planet_position_with_time_20to22.pkl', 'rb')\n",
    "p = pickle.load(f1)"
   ]
  },
  {
   "cell_type": "code",
   "execution_count": 3,
   "metadata": {},
   "outputs": [
    {
     "name": "stdout",
     "output_type": "stream",
     "text": [
      "A.D. 2020-Jan-01 00:00:00.0000 UTC\n"
     ]
    }
   ],
   "source": [
    "pp=p['dist_radec']\n",
    "time_utc = list(p['time_p'])\n",
    "len(time_utc)\n",
    "time=[]\n",
    "print(time_utc[0].utc_jpl())\n",
    "for i in range(len(time_utc)):\n",
    "    time.append(time_utc[i].utc_jpl())"
   ]
  },
  {
   "cell_type": "code",
   "execution_count": 4,
   "metadata": {},
   "outputs": [],
   "source": [
    "planets=['mercury', 'venus', 'mars', 'jupiter', 'saturn', 'uranus', 'neptune']\n",
    "mer = pp['mercury']\n",
    "ve = pp['venus']\n",
    "ma = pp['mars']\n",
    "ju = pp['jupiter']\n",
    "sa = pp['saturn']\n",
    "ur = pp['uranus']\n",
    "ne = pp['neptune']"
   ]
  },
  {
   "cell_type": "code",
   "execution_count": 10,
   "metadata": {},
   "outputs": [],
   "source": [
    "# mercury\n",
    "ra=list(mer['ra'].hours)\n",
    "dec=list(mer['dec'].degrees)\n",
    "dist=list(mer['distance'].au)\n",
    "merr={'Time':time, 'ra':ra, 'dec':dec, 'distance':dist}\n",
    "mercury=pd.DataFrame(merr, columns=['Time','ra','dec','distance'])"
   ]
  },
  {
   "cell_type": "code",
   "execution_count": 11,
   "metadata": {},
   "outputs": [],
   "source": [
    "# venus\n",
    "ra=list(ve['ra'].hours)\n",
    "dec=list(ve['dec'].degrees)\n",
    "dist=list(ve['distance'].au)\n",
    "vee={'Time':time, 'ra':ra, 'dec':dec, 'distance':dist}\n",
    "venus=pd.DataFrame(vee, columns=['Time','ra','dec','distance'])"
   ]
  },
  {
   "cell_type": "code",
   "execution_count": 8,
   "metadata": {},
   "outputs": [],
   "source": [
    "# mars\n",
    "ra=list(ma['ra'].hours)\n",
    "dec=list(ma['dec'].degrees)\n",
    "dist=list(ma['distance'].au)\n",
    "maa={'Time':time, 'ra':ra, 'dec':dec, 'distance':dist}\n",
    "mars=pd.DataFrame(maa, columns=['Time','ra','dec','distance'])"
   ]
  },
  {
   "cell_type": "code",
   "execution_count": 9,
   "metadata": {},
   "outputs": [],
   "source": [
    "# jupiter\n",
    "ra=list(ju['ra'].hours)\n",
    "dec=list(ju['dec'].degrees)\n",
    "dist=list(ju['distance'].au)\n",
    "juu={'Time':time, 'ra':ra, 'dec':dec, 'distance':dist}\n",
    "jupiter=pd.DataFrame(juu, columns=['Time','ra','dec','distance'])"
   ]
  },
  {
   "cell_type": "code",
   "execution_count": 12,
   "metadata": {},
   "outputs": [],
   "source": [
    "# saturn\n",
    "ra=list(sa['ra'].hours)\n",
    "dec=list(sa['dec'].degrees)\n",
    "dist=list(sa['distance'].au)\n",
    "saa={'Time':time, 'ra':ra, 'dec':dec, 'distance':dist}\n",
    "saturn=pd.DataFrame(saa, columns=['Time','ra','dec','distance'])"
   ]
  },
  {
   "cell_type": "code",
   "execution_count": null,
   "metadata": {},
   "outputs": [],
   "source": []
  }
 ],
 "metadata": {
  "kernelspec": {
   "display_name": "Python 3",
   "language": "python",
   "name": "python3"
  },
  "language_info": {
   "codemirror_mode": {
    "name": "ipython",
    "version": 3
   },
   "file_extension": ".py",
   "mimetype": "text/x-python",
   "name": "python",
   "nbconvert_exporter": "python",
   "pygments_lexer": "ipython3",
   "version": "3.7.2"
  }
 },
 "nbformat": 4,
 "nbformat_minor": 2
}
