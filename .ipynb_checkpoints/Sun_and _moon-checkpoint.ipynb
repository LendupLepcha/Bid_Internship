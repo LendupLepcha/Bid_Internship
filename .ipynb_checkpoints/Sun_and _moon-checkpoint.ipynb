{
 "cells": [
  {
   "cell_type": "code",
   "execution_count": 14,
   "metadata": {},
   "outputs": [],
   "source": [
    "from skyfield.api import PlanetaryConstants, load\n",
    "from skyfield.timelib import Time"
   ]
  },
  {
   "cell_type": "code",
   "execution_count": 3,
   "metadata": {},
   "outputs": [],
   "source": [
    "\n",
    "ts = load.timescale()\n",
    "tn=ts.now()\n",
    "t = ts.utc(2019, 12, 20, 11, 5)"
   ]
  },
  {
   "cell_type": "code",
   "execution_count": 4,
   "metadata": {},
   "outputs": [
    {
     "name": "stderr",
     "output_type": "stream",
     "text": [
      "[#################################] 100% moon_080317.tf\n",
      "[#################################] 100% pck00008.tpc\n",
      "[#################################] 100% moon_pa_de421_1900-2050.bpc\n"
     ]
    }
   ],
   "source": [
    "eph = load('de421.bsp')\n",
    "earth, moon = eph['earth'], eph['moon']\n",
    "\n",
    "pc = PlanetaryConstants()\n",
    "pc.read_text(load('moon_080317.tf'))\n",
    "pc.read_text(load('pck00008.tpc'))\n",
    "pc.read_binary(load('moon_pa_de421_1900-2050.bpc'))"
   ]
  },
  {
   "cell_type": "code",
   "execution_count": 5,
   "metadata": {},
   "outputs": [],
   "source": [
    "frame = pc.build_frame_named('MOON_ME_DE421')\n",
    "aristarchus = moon + pc.build_latlon_degrees(frame, 26.3, -46.8)"
   ]
  },
  {
   "cell_type": "markdown",
   "metadata": {},
   "source": [
    "# From earth to moon"
   ]
  },
  {
   "cell_type": "code",
   "execution_count": 28,
   "metadata": {},
   "outputs": [],
   "source": [
    "apparent = earth.at(t).observe(aristarchus).apparent()  # use time 't' for 20/12/1019 and 'tn' for time now\n",
    "ra, dec, distance = apparent.radec(epoch='date')"
   ]
  },
  {
   "cell_type": "code",
   "execution_count": 29,
   "metadata": {},
   "outputs": [
    {
     "name": "stdout",
     "output_type": "stream",
     "text": [
      "13h 03m 22.96s\n",
      "-00deg 55' 27.3\"\n",
      "369880.7353057499 KM\n"
     ]
    }
   ],
   "source": [
    "# time 20/12/2019 (E2M)\n",
    "print(ra)\n",
    "print(dec)\n",
    "d=str(distance)\n",
    "print(float(d[:-2])*149597870.7, 'KM')"
   ]
  },
  {
   "cell_type": "code",
   "execution_count": 25,
   "metadata": {},
   "outputs": [
    {
     "name": "stdout",
     "output_type": "stream",
     "text": [
      "01h 35m 13.23s\n",
      "+05deg 27' 10.5\"\n",
      "402237.25875945296 KM\n"
     ]
    }
   ],
   "source": [
    "# time now (E2M)\n",
    "print(ra)\n",
    "print(dec)\n",
    "d=str(distance)\n",
    "print(float(d[:-2])*149597870.7, 'KM')"
   ]
  },
  {
   "cell_type": "markdown",
   "metadata": {},
   "source": [
    "# From moon to earth\n"
   ]
  },
  {
   "cell_type": "code",
   "execution_count": 33,
   "metadata": {},
   "outputs": [],
   "source": [
    "apparent = aristarchus.at(tn).observe(earth).apparent()   # use time 't' for 20/12/1019 and 'tn' for time now\n",
    "ra, dec, distance = apparent.radec(epoch='date')"
   ]
  },
  {
   "cell_type": "code",
   "execution_count": 32,
   "metadata": {},
   "outputs": [
    {
     "name": "stdout",
     "output_type": "stream",
     "text": [
      "01h 03m 22.96s\n",
      "+00deg 55' 27.3\"\n",
      "369952.542283686 KM\n"
     ]
    }
   ],
   "source": [
    "# time 20/12/2019 (M2E)\n",
    "print(ra)\n",
    "print(dec)\n",
    "d=str(distance)\n",
    "print(float(d[:-2])*149597870.7, 'KM')"
   ]
  },
  {
   "cell_type": "code",
   "execution_count": 34,
   "metadata": {},
   "outputs": [
    {
     "name": "stdout",
     "output_type": "stream",
     "text": [
      "13h 35m 13.23s\n",
      "-05deg 27' 10.5\"\n",
      "402156.475909275 KM\n"
     ]
    }
   ],
   "source": [
    "# time now (M2E)\n",
    "print(ra)\n",
    "print(dec)\n",
    "d=str(distance)\n",
    "print(float(d[:-2])*149597870.7, 'KM')"
   ]
  },
  {
   "cell_type": "code",
   "execution_count": 26,
   "metadata": {},
   "outputs": [
    {
     "data": {
      "text/plain": [
       "'0.00268879 au'"
      ]
     },
     "execution_count": 26,
     "metadata": {},
     "output_type": "execute_result"
    }
   ],
   "source": [
    "d\n"
   ]
  },
  {
   "cell_type": "code",
   "execution_count": 27,
   "metadata": {},
   "outputs": [
    {
     "data": {
      "text/plain": [
       "402237.25875945296"
      ]
     },
     "execution_count": 27,
     "metadata": {},
     "output_type": "execute_result"
    }
   ],
   "source": [
    "0.00268879*149597870.7"
   ]
  },
  {
   "cell_type": "markdown",
   "metadata": {},
   "source": [
    "## altitude and azimuth measured against the astronaut’s horizon"
   ]
  },
  {
   "cell_type": "code",
   "execution_count": 36,
   "metadata": {},
   "outputs": [
    {
     "name": "stdout",
     "output_type": "stream",
     "text": [
      "38deg 47' 25.2\" degrees above the horizon\n",
      "105deg 10' 37.7\" degrees around the horizon from north\n"
     ]
    }
   ],
   "source": [
    "# from moon to earth\n",
    "alt, az, distance = apparent.altaz()\n",
    "print(alt, 'degrees above the horizon')\n",
    "print(az, 'degrees around the horizon from north')"
   ]
  },
  {
   "cell_type": "markdown",
   "metadata": {},
   "source": [
    "# Sub-Solar points on the moon\n"
   ]
  },
  {
   "cell_type": "code",
   "execution_count": 43,
   "metadata": {},
   "outputs": [
    {
     "name": "stdout",
     "output_type": "stream",
     "text": [
      "Sub-solar latitude: 0.3 degrees\n",
      "Sub-solar longitude: -104.9 degrees\n"
     ]
    }
   ],
   "source": [
    "sun = eph['Sun']\n",
    "\n",
    "p = moon.at(t).observe(sun).apparent()\n",
    "lat, lon, distance = p.frame_latlon(frame)\n",
    "lon_degrees = (lon.degrees + 180.0) % 360.0 - 180.0\n",
    "print('Sub-solar latitude: {:.1f} degrees'.format(lat.degrees))\n",
    "print('Sub-solar longitude: {:.1f} degrees'.format(lon_degrees))"
   ]
  },
  {
   "cell_type": "markdown",
   "metadata": {},
   "source": [
    "# Lunar Liberation"
   ]
  },
  {
   "cell_type": "code",
   "execution_count": 41,
   "metadata": {},
   "outputs": [
    {
     "name": "stdout",
     "output_type": "stream",
     "text": [
      "Libration in latitude: -6.749\n",
      "Libration in longitude: 1.520\n"
     ]
    }
   ],
   "source": [
    "p = (earth - moon).at(t)\n",
    "lat, lon, distance = p.frame_latlon(frame)\n",
    "lon_degrees = (lon.degrees + 180.0) % 360.0 - 180.0\n",
    "print('Libration in latitude: {:.3f}'.format(lat.degrees))\n",
    "print('Libration in longitude: {:.3f}'.format(lon_degrees))"
   ]
  },
  {
   "cell_type": "markdown",
   "metadata": {},
   "source": [
    "# Computing a raw rotation matrix¶\n"
   ]
  },
  {
   "cell_type": "code",
   "execution_count": 44,
   "metadata": {},
   "outputs": [
    {
     "name": "stdout",
     "output_type": "stream",
     "text": [
      "(3, 3)\n"
     ]
    }
   ],
   "source": [
    "R = frame.rotation_at(t)\n",
    "print(R.shape)"
   ]
  },
  {
   "cell_type": "code",
   "execution_count": 45,
   "metadata": {},
   "outputs": [
    {
     "name": "stdout",
     "output_type": "stream",
     "text": [
      "(10,)\n",
      "(3, 3, 10)\n"
     ]
    }
   ],
   "source": [
    "t = ts.utc(2019, 12, 20, 11, range(5, 15))\n",
    "R = frame.rotation_at(t)\n",
    "print(t.shape)\n",
    "print(R.shape)"
   ]
  },
  {
   "cell_type": "code",
   "execution_count": null,
   "metadata": {},
   "outputs": [],
   "source": []
  },
  {
   "cell_type": "code",
   "execution_count": null,
   "metadata": {},
   "outputs": [],
   "source": []
  }
 ],
 "metadata": {
  "kernelspec": {
   "display_name": "Python 3",
   "language": "python",
   "name": "python3"
  },
  "language_info": {
   "codemirror_mode": {
    "name": "ipython",
    "version": 3
   },
   "file_extension": ".py",
   "mimetype": "text/x-python",
   "name": "python",
   "nbconvert_exporter": "python",
   "pygments_lexer": "ipython3",
   "version": "3.7.2"
  }
 },
 "nbformat": 4,
 "nbformat_minor": 2
}
