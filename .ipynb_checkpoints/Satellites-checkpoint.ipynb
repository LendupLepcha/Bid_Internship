{
 "cells": [
  {
   "cell_type": "markdown",
   "metadata": {},
   "source": [
    "# Loading satellites to program"
   ]
  },
  {
   "cell_type": "code",
   "execution_count": 1,
   "metadata": {},
   "outputs": [
    {
     "name": "stderr",
     "output_type": "stream",
     "text": [
      "\r",
      "[#################################] 100% stations.txt\n"
     ]
    },
    {
     "name": "stdout",
     "output_type": "stream",
     "text": [
      "Loaded 69 satellites\n"
     ]
    }
   ],
   "source": [
    "from skyfield.api import load, wgs84\n",
    "\n",
    "stations_url = 'http://celestrak.com/NORAD/elements/stations.txt'\n",
    "satellites = load.tle_file(stations_url)\n",
    "print('Loaded', len(satellites), 'satellites')"
   ]
  },
  {
   "cell_type": "markdown",
   "metadata": {},
   "source": [
    "# making a dictionary with name as their key"
   ]
  },
  {
   "cell_type": "code",
   "execution_count": 3,
   "metadata": {},
   "outputs": [],
   "source": [
    "\n",
    "by_name = {sat.name: sat for sat in satellites}\n"
   ]
  },
  {
   "cell_type": "code",
   "execution_count": 25,
   "metadata": {},
   "outputs": [
    {
     "name": "stdout",
     "output_type": "stream",
     "text": [
      "ISS (ZARYA) catalog #25544 epoch 2021-01-20 05:38:49 UTC\n"
     ]
    }
   ],
   "source": [
    "# Lookup by name\n",
    "satellite = by_name['ISS (ZARYA)']\n",
    "print(satellite)"
   ]
  },
  {
   "cell_type": "markdown",
   "metadata": {},
   "source": [
    "# Making their number as key"
   ]
  },
  {
   "cell_type": "code",
   "execution_count": 19,
   "metadata": {},
   "outputs": [
    {
     "name": "stdout",
     "output_type": "stream",
     "text": [
      "ISS (ZARYA) catalog #25544 epoch 2021-01-20 05:38:49 UTC\n"
     ]
    }
   ],
   "source": [
    "by_number = {sat.model.satnum: sat for sat in satellites}\n",
    "satellite = by_number[25544]\n",
    "print(satellite)"
   ]
  },
  {
   "cell_type": "markdown",
   "metadata": {},
   "source": [
    "# Perform queries"
   ]
  },
  {
   "cell_type": "code",
   "execution_count": 16,
   "metadata": {},
   "outputs": [
    {
     "name": "stderr",
     "output_type": "stream",
     "text": [
      "\r",
      "[#################################] 100% tle-CATNR-25544.txt\n"
     ]
    },
    {
     "name": "stdout",
     "output_type": "stream",
     "text": [
      "[<EarthSatellite ISS (ZARYA) catalog #25544 epoch 2021-01-20 05:38:49 UTC>]\n"
     ]
    }
   ],
   "source": [
    "n = 25544 #Satllite number\n",
    "url = 'https://celestrak.com/satcat/tle.php?CATNR={}'.format(n)\n",
    "filename = 'tle-CATNR-{}.txt'.format(n)\n",
    "satellites = load.tle_file(url, filename=filename, reload=True)\n",
    "print(satellites)"
   ]
  },
  {
   "cell_type": "code",
   "execution_count": 20,
   "metadata": {},
   "outputs": [
    {
     "name": "stdout",
     "output_type": "stream",
     "text": [
      "A.D. 2021-Jan-20 05:38:49.3230 UTC\n"
     ]
    }
   ],
   "source": [
    "print(satellite.epoch.utc_jpl())"
   ]
  },
  {
   "cell_type": "markdown",
   "metadata": {},
   "source": [
    "# Loading form Strings"
   ]
  },
  {
   "cell_type": "code",
   "execution_count": 22,
   "metadata": {},
   "outputs": [
    {
     "name": "stdout",
     "output_type": "stream",
     "text": [
      "ISS (ZARYA) catalog #25544 epoch 2014-01-20 22:23:04 UTC\n"
     ]
    }
   ],
   "source": [
    "from skyfield.api import EarthSatellite\n",
    "\n",
    "ts = load.timescale()\n",
    "line1 = '1 25544U 98067A   14020.93268519  .00009878  00000-0  18200-3 0  5082'\n",
    "line2 = '2 25544  51.6498 109.4756 0003572  55.9686 274.8005 15.49815350868473'\n",
    "satellite = EarthSatellite(line1, line2, 'ISS (ZARYA)', ts)\n",
    "print(satellite)"
   ]
  },
  {
   "cell_type": "markdown",
   "metadata": {},
   "source": [
    "## Checking epoch"
   ]
  },
  {
   "cell_type": "code",
   "execution_count": 27,
   "metadata": {},
   "outputs": [
    {
     "name": "stdout",
     "output_type": "stream",
     "text": [
      "A.D. 2021-Jan-20 05:38:49.3230 UTC\n"
     ]
    }
   ],
   "source": [
    "print(satellite.epoch.utc_jpl())"
   ]
  },
  {
   "cell_type": "markdown",
   "metadata": {},
   "source": [
    "## Rise and set of satellite"
   ]
  },
  {
   "cell_type": "code",
   "execution_count": 38,
   "metadata": {},
   "outputs": [
    {
     "name": "stdout",
     "output_type": "stream",
     "text": [
      "2021 Jan 20 11:25:36 rise above 30°\n",
      "2021 Jan 20 11:27:01 culminate\n",
      "2021 Jan 20 11:28:27 set below 30°\n",
      "2021 Jan 20 19:36:58 rise above 30°\n",
      "2021 Jan 20 19:38:20 culminate\n",
      "2021 Jan 20 19:39:42 set below 30°\n"
     ]
    }
   ],
   "source": [
    "bluffton = wgs84.latlon(+27.3314, +88.6138)\n",
    "t0 = ts.utc(2021, 1, 20)\n",
    "t1 = ts.utc(2021, 1, 21)\n",
    "t, events = satellite.find_events(bluffton, t0, t1, altitude_degrees=30.0)\n",
    "for ti, event in zip(t, events):\n",
    "    name = ('rise above 30°', 'culminate', 'set below 30°')[event]\n",
    "    print(ti.utc_strftime('%Y %b %d %H:%M:%S'), name)"
   ]
  },
  {
   "cell_type": "code",
   "execution_count": null,
   "metadata": {},
   "outputs": [],
   "source": []
  }
 ],
 "metadata": {
  "kernelspec": {
   "display_name": "Python 3",
   "language": "python",
   "name": "python3"
  },
  "language_info": {
   "codemirror_mode": {
    "name": "ipython",
    "version": 3
   },
   "file_extension": ".py",
   "mimetype": "text/x-python",
   "name": "python",
   "nbconvert_exporter": "python",
   "pygments_lexer": "ipython3",
   "version": "3.7.2"
  }
 },
 "nbformat": 4,
 "nbformat_minor": 2
}
