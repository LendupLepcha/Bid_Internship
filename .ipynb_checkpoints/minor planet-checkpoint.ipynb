{
 "cells": [
  {
   "cell_type": "markdown",
   "metadata": {},
   "source": [
    "# Minor planet Distances"
   ]
  },
  {
   "cell_type": "code",
   "execution_count": 86,
   "metadata": {},
   "outputs": [],
   "source": [
    "from skyfield.api import load, Angle\n",
    "from skyfield.data import mpc\n",
    "from skyfield.constants import GM_SUN_Pitjeva_2005_km3_s2 as GM_SUN\n",
    "import pickle"
   ]
  },
  {
   "cell_type": "code",
   "execution_count": 16,
   "metadata": {},
   "outputs": [],
   "source": [
    "eph = load('de421.bsp')\n",
    "sun, earth = eph['sun'], eph['earth']\n",
    "ts= load.timescale()"
   ]
  },
  {
   "cell_type": "markdown",
   "metadata": {},
   "source": [
    "# Ceres"
   ]
  },
  {
   "cell_type": "code",
   "execution_count": 6,
   "metadata": {},
   "outputs": [
    {
     "name": "stdout",
     "output_type": "stream",
     "text": [
      "4 minor planets loaded\n"
     ]
    }
   ],
   "source": [
    "with load.open('MPCORB.excerpt.DAT') as f:\n",
    "    minor_planets = mpc.load_mpcorb_dataframe(f)\n",
    "\n",
    "print(minor_planets.shape[0], 'minor planets loaded')"
   ]
  },
  {
   "cell_type": "code",
   "execution_count": 14,
   "metadata": {},
   "outputs": [],
   "source": [
    "row_ceres=minor_planets.iloc[0]"
   ]
  },
  {
   "cell_type": "code",
   "execution_count": 22,
   "metadata": {},
   "outputs": [],
   "source": [
    "t=ts.utc(2021,1,range(1,366))"
   ]
  },
  {
   "cell_type": "code",
   "execution_count": 23,
   "metadata": {
    "collapsed": true
   },
   "outputs": [
    {
     "name": "stdout",
     "output_type": "stream",
     "text": [
      "365 values from 23h 07m 18.44s to 03h 46m 43.89s\n",
      "365 values from -15deg 49' 52.7\" to +17deg 40' 42.7\"\n",
      "[3.29707306 3.30900922 3.3208625  3.33263142 3.3443145  3.35591015\n",
      " 3.36741673 3.37883255 3.39015583 3.40138476 3.41251751 3.42355226\n",
      " 3.43448725 3.44532078 3.45605125 3.46667719 3.47719721 3.48761006\n",
      " 3.49791455 3.50810957 3.51819409 3.52816713 3.53802777 3.54777514\n",
      " 3.55740843 3.56692686 3.57632969 3.58561624 3.5947858  3.60383769\n",
      " 3.61277118 3.62158548 3.63027976 3.63885308 3.64730444 3.65563276\n",
      " 3.66383692 3.67191574 3.67986808 3.68769276 3.69538868 3.7029548\n",
      " 3.71039016 3.71769388 3.7248652  3.73190344 3.73880801 3.74557837\n",
      " 3.75221407 3.75871472 3.76507996 3.7713095  3.77740309 3.78336053\n",
      " 3.78918164 3.7948663  3.80041439 3.80582579 3.81110036 3.81623788\n",
      " 3.82123806 3.8261005  3.83082472 3.83541014 3.83985614 3.84416208\n",
      " 3.84832731 3.85235119 3.85623315 3.85997267 3.86356929 3.86702266\n",
      " 3.87033246 3.8734985  3.87652064 3.87939881 3.88213301 3.88472329\n",
      " 3.88716974 3.88947253 3.89163183 3.89364788 3.89552097 3.89725138\n",
      " 3.89883946 3.90028552 3.90158987 3.90275275 3.90377431 3.90465457\n",
      " 3.90539346 3.90599081 3.90644637 3.90675986 3.90693103 3.90695964\n",
      " 3.90684549 3.90658846 3.90618849 3.90564557 3.90495978 3.90413125\n",
      " 3.90316019 3.90204688 3.90079164 3.89939485 3.89785694 3.89617839\n",
      " 3.89435973 3.8924015  3.89030431 3.88806877 3.88569554 3.88318527\n",
      " 3.88053857 3.87775602 3.87483811 3.87178519 3.86859751 3.86527519\n",
      " 3.86181826 3.85822674 3.85450063 3.85063997 3.84664485 3.84251541\n",
      " 3.83825187 3.8338545  3.82932363 3.82465968 3.8198631  3.8149344\n",
      " 3.80987415 3.804683   3.79936161 3.79391071 3.78833107 3.78262351\n",
      " 3.77678885 3.77082798 3.76474178 3.75853114 3.75219693 3.74573997\n",
      " 3.739161   3.73246064 3.7256394  3.71869765 3.71163568 3.70445373\n",
      " 3.69715203 3.68973083 3.68219044 3.67453124 3.66675367 3.65885822\n",
      " 3.65084546 3.64271602 3.63447057 3.62610986 3.61763467 3.60904586\n",
      " 3.60034434 3.59153108 3.58260707 3.57357337 3.56443108 3.55518131\n",
      " 3.54582518 3.53636384 3.52679838 3.51712986 3.50735928 3.49748752\n",
      " 3.48751534 3.47744341 3.46727229 3.45700248 3.44663448 3.4361688\n",
      " 3.42560602 3.41494675 3.40419172 3.39334168 3.38239747 3.37136\n",
      " 3.36023023 3.34900917 3.33769792 3.32629762 3.31480949 3.3032348\n",
      " 3.29157489 3.27983116 3.26800503 3.25609798 3.24411148 3.23204701\n",
      " 3.21990601 3.2076899  3.19540001 3.18303758 3.17060375 3.15809959\n",
      " 3.14552607 3.13288411 3.12017462 3.10739855 3.09455687 3.08165066\n",
      " 3.06868103 3.0556492  3.04255647 3.02940418 3.01619377 3.00292676\n",
      " 2.98960471 2.97622928 2.96280221 2.9493253  2.93580046 2.92222964\n",
      " 2.90861488 2.89495824 2.88126181 2.86752766 2.85375786 2.83995442\n",
      " 2.82611927 2.81225428 2.79836125 2.7844419  2.77049792 2.75653094\n",
      " 2.74254263 2.72853468 2.71450883 2.70046692 2.68641087 2.67234268\n",
      " 2.65826446 2.64417841 2.63008683 2.61599208 2.60189664 2.58780308\n",
      " 2.57371406 2.55963236 2.54556085 2.53150249 2.51746035 2.50343754\n",
      " 2.4894372  2.47546249 2.46151651 2.44760234 2.43372298 2.41988137\n",
      " 2.40608042 2.39232298 2.3786119  2.36495002 2.35134024 2.3377855\n",
      " 2.3242888  2.31085328 2.29748214 2.28417869 2.27094638 2.25778874\n",
      " 2.24470942 2.23171217 2.21880085 2.2059794  2.19325192 2.18062258\n",
      " 2.16809568 2.15567561 2.14336685 2.13117396 2.11910148 2.10715395\n",
      " 2.09533586 2.08365157 2.07210541 2.06070156 2.04944419 2.03833741\n",
      " 2.0273853  2.01659195 2.00596148 1.99549803 1.98520578 1.97508898\n",
      " 1.96515192 1.95539896 1.94583449 1.93646299 1.92728894 1.91831689\n",
      " 1.90955138 1.90099701 1.89265838 1.88454009 1.87664676 1.86898301\n",
      " 1.86155338 1.85436237 1.84741436 1.84071351 1.83426381 1.82806895\n",
      " 1.8221324  1.81645737 1.81104688 1.80590374 1.80103065 1.79643015\n",
      " 1.79210464 1.78805643 1.7842877  1.7808005  1.77759679 1.7746784\n",
      " 1.77204702 1.76970423 1.76765147 1.76589005 1.7644211  1.76324563\n",
      " 1.76236448 1.76177831 1.76148762 1.76149271 1.76179368 1.76239039\n",
      " 1.76328243 1.76446905 1.76594916 1.76772131 1.7697837  1.77213421\n",
      " 1.77477049 1.77768998 1.78088993 1.78436751 1.78811972 1.79214348\n",
      " 1.79643561 1.80099285 1.80581182 1.8108891  1.81622119 1.8218045\n",
      " 1.8276354  1.83371022 1.84002518 1.8465765  1.85336031 1.8603727\n",
      " 1.86760966 1.87506715 1.88274103 1.89062704 1.8987208 ] au\n"
     ]
    }
   ],
   "source": [
    "\n",
    "ceres = sun + mpc.mpcorb_orbit(row, ts, GM_SUN)\n",
    "ra, dec, distance = earth.at(t).observe(ceres).radec()\n",
    "print(ra)\n",
    "print(dec)\n",
    "print(distance)"
   ]
  },
  {
   "cell_type": "code",
   "execution_count": 28,
   "metadata": {},
   "outputs": [
    {
     "data": {
      "text/plain": [
       "<Angle 23h 07m 18.44s>"
      ]
     },
     "execution_count": 28,
     "metadata": {},
     "output_type": "execute_result"
    }
   ],
   "source": [
    "Angle(hours=ra.hours[0])"
   ]
  },
  {
   "cell_type": "code",
   "execution_count": 31,
   "metadata": {},
   "outputs": [
    {
     "data": {
      "text/plain": [
       "'A.D. 2021-Jan-01 00:00:00.0000 UTC'"
      ]
     },
     "execution_count": 31,
     "metadata": {},
     "output_type": "execute_result"
    }
   ],
   "source": [
    "t[0].utc_jpl()"
   ]
  },
  {
   "cell_type": "code",
   "execution_count": 39,
   "metadata": {},
   "outputs": [],
   "source": [
    "ceres={'ra':ra, 'dec':dec , 'distance':distance, 'time_p':t}"
   ]
  },
  {
   "cell_type": "code",
   "execution_count": 46,
   "metadata": {},
   "outputs": [],
   "source": [
    "file1 = open('ceres_dist_angle.pkl', 'ab')\n",
    "pickle.dump(ceres, file1)"
   ]
  },
  {
   "cell_type": "code",
   "execution_count": 41,
   "metadata": {},
   "outputs": [
    {
     "data": {
      "text/plain": [
       "<Angle 365 values from 23h 07m 18.44s to 03h 46m 43.89s>"
      ]
     },
     "execution_count": 41,
     "metadata": {},
     "output_type": "execute_result"
    }
   ],
   "source": [
    "ra"
   ]
  },
  {
   "cell_type": "code",
   "execution_count": 44,
   "metadata": {},
   "outputs": [
    {
     "data": {
      "text/plain": [
       "'A.D. 2021-Jan-01 00:00:00.0000 UTC'"
      ]
     },
     "execution_count": 44,
     "metadata": {},
     "output_type": "execute_result"
    }
   ],
   "source": [
    "ceres['time_p'][0].utc_jpl()"
   ]
  },
  {
   "cell_type": "code",
   "execution_count": null,
   "metadata": {},
   "outputs": [],
   "source": [
    "\n"
   ]
  },
  {
   "cell_type": "markdown",
   "metadata": {},
   "source": [
    "# Chiron"
   ]
  },
  {
   "cell_type": "code",
   "execution_count": 1,
   "metadata": {},
   "outputs": [],
   "source": [
    "import pandas as pd\n",
    "import numpy as np"
   ]
  },
  {
   "cell_type": "code",
   "execution_count": 56,
   "metadata": {},
   "outputs": [],
   "source": [
    "c21 = pd.read_csv('Chiron_2021.csv',skiprows=[0,1])"
   ]
  },
  {
   "cell_type": "code",
   "execution_count": 57,
   "metadata": {},
   "outputs": [],
   "source": [
    "c21= c21.drop(['Mag.','Unnamed: 11','Unnamed: 12'], axis=1)"
   ]
  },
  {
   "cell_type": "code",
   "execution_count": 58,
   "metadata": {},
   "outputs": [
    {
     "data": {
      "text/plain": [
       "Year        2021\n",
       "Month         12\n",
       "Day           31\n",
       "hour           0\n",
       "min           27\n",
       "sec           45\n",
       "deg            5\n",
       "min.1         21\n",
       "sec.1          0\n",
       "AU       18.8567\n",
       "Name: 364, dtype: object"
      ]
     },
     "execution_count": 58,
     "metadata": {},
     "output_type": "execute_result"
    }
   ],
   "source": [
    "c21.loc[364]"
   ]
  },
  {
   "cell_type": "code",
   "execution_count": 59,
   "metadata": {},
   "outputs": [
    {
     "data": {
      "text/plain": [
       "(503, 10)"
      ]
     },
     "execution_count": 59,
     "metadata": {},
     "output_type": "execute_result"
    }
   ],
   "source": [
    "c21.shape"
   ]
  },
  {
   "cell_type": "code",
   "execution_count": 60,
   "metadata": {},
   "outputs": [],
   "source": [
    "c21= c21.drop(range(365,503))"
   ]
  },
  {
   "cell_type": "code",
   "execution_count": 61,
   "metadata": {},
   "outputs": [],
   "source": [
    "c21=c21.rename(columns={'hour':'ra.hour', 'deg':'dec.deg'})"
   ]
  },
  {
   "cell_type": "code",
   "execution_count": 62,
   "metadata": {},
   "outputs": [
    {
     "data": {
      "text/html": [
       "<div>\n",
       "<style scoped>\n",
       "    .dataframe tbody tr th:only-of-type {\n",
       "        vertical-align: middle;\n",
       "    }\n",
       "\n",
       "    .dataframe tbody tr th {\n",
       "        vertical-align: top;\n",
       "    }\n",
       "\n",
       "    .dataframe thead th {\n",
       "        text-align: right;\n",
       "    }\n",
       "</style>\n",
       "<table border=\"1\" class=\"dataframe\">\n",
       "  <thead>\n",
       "    <tr style=\"text-align: right;\">\n",
       "      <th></th>\n",
       "      <th>Year</th>\n",
       "      <th>Month</th>\n",
       "      <th>Day</th>\n",
       "      <th>ra.hour</th>\n",
       "      <th>min</th>\n",
       "      <th>sec</th>\n",
       "      <th>dec.deg</th>\n",
       "      <th>min.1</th>\n",
       "      <th>sec.1</th>\n",
       "      <th>AU</th>\n",
       "    </tr>\n",
       "  </thead>\n",
       "  <tbody>\n",
       "    <tr>\n",
       "      <th>0</th>\n",
       "      <td>2021</td>\n",
       "      <td>1.0</td>\n",
       "      <td>1.0</td>\n",
       "      <td>0.0</td>\n",
       "      <td>14.0</td>\n",
       "      <td>28.0</td>\n",
       "      <td>4.0</td>\n",
       "      <td>20.0</td>\n",
       "      <td>19.0</td>\n",
       "      <td>18.9395</td>\n",
       "    </tr>\n",
       "    <tr>\n",
       "      <th>1</th>\n",
       "      <td>2021</td>\n",
       "      <td>1.0</td>\n",
       "      <td>2.0</td>\n",
       "      <td>0.0</td>\n",
       "      <td>14.0</td>\n",
       "      <td>32.0</td>\n",
       "      <td>4.0</td>\n",
       "      <td>20.0</td>\n",
       "      <td>29.0</td>\n",
       "      <td>18.9568</td>\n",
       "    </tr>\n",
       "    <tr>\n",
       "      <th>2</th>\n",
       "      <td>2021</td>\n",
       "      <td>1.0</td>\n",
       "      <td>3.0</td>\n",
       "      <td>0.0</td>\n",
       "      <td>14.0</td>\n",
       "      <td>35.0</td>\n",
       "      <td>4.0</td>\n",
       "      <td>20.0</td>\n",
       "      <td>40.0</td>\n",
       "      <td>18.9740</td>\n",
       "    </tr>\n",
       "    <tr>\n",
       "      <th>3</th>\n",
       "      <td>2021</td>\n",
       "      <td>1.0</td>\n",
       "      <td>4.0</td>\n",
       "      <td>0.0</td>\n",
       "      <td>14.0</td>\n",
       "      <td>39.0</td>\n",
       "      <td>4.0</td>\n",
       "      <td>20.0</td>\n",
       "      <td>53.0</td>\n",
       "      <td>18.9912</td>\n",
       "    </tr>\n",
       "    <tr>\n",
       "      <th>4</th>\n",
       "      <td>2021</td>\n",
       "      <td>1.0</td>\n",
       "      <td>5.0</td>\n",
       "      <td>0.0</td>\n",
       "      <td>14.0</td>\n",
       "      <td>44.0</td>\n",
       "      <td>4.0</td>\n",
       "      <td>21.0</td>\n",
       "      <td>7.0</td>\n",
       "      <td>19.0083</td>\n",
       "    </tr>\n",
       "    <tr>\n",
       "      <th>...</th>\n",
       "      <td>...</td>\n",
       "      <td>...</td>\n",
       "      <td>...</td>\n",
       "      <td>...</td>\n",
       "      <td>...</td>\n",
       "      <td>...</td>\n",
       "      <td>...</td>\n",
       "      <td>...</td>\n",
       "      <td>...</td>\n",
       "      <td>...</td>\n",
       "    </tr>\n",
       "    <tr>\n",
       "      <th>360</th>\n",
       "      <td>2021</td>\n",
       "      <td>12.0</td>\n",
       "      <td>27.0</td>\n",
       "      <td>0.0</td>\n",
       "      <td>27.0</td>\n",
       "      <td>36.0</td>\n",
       "      <td>5.0</td>\n",
       "      <td>20.0</td>\n",
       "      <td>54.0</td>\n",
       "      <td>18.7877</td>\n",
       "    </tr>\n",
       "    <tr>\n",
       "      <th>361</th>\n",
       "      <td>2021</td>\n",
       "      <td>12.0</td>\n",
       "      <td>28.0</td>\n",
       "      <td>0.0</td>\n",
       "      <td>27.0</td>\n",
       "      <td>38.0</td>\n",
       "      <td>5.0</td>\n",
       "      <td>20.0</td>\n",
       "      <td>53.0</td>\n",
       "      <td>18.8049</td>\n",
       "    </tr>\n",
       "    <tr>\n",
       "      <th>362</th>\n",
       "      <td>2021</td>\n",
       "      <td>12.0</td>\n",
       "      <td>29.0</td>\n",
       "      <td>0.0</td>\n",
       "      <td>27.0</td>\n",
       "      <td>40.0</td>\n",
       "      <td>5.0</td>\n",
       "      <td>20.0</td>\n",
       "      <td>54.0</td>\n",
       "      <td>18.8222</td>\n",
       "    </tr>\n",
       "    <tr>\n",
       "      <th>363</th>\n",
       "      <td>2021</td>\n",
       "      <td>12.0</td>\n",
       "      <td>30.0</td>\n",
       "      <td>0.0</td>\n",
       "      <td>27.0</td>\n",
       "      <td>42.0</td>\n",
       "      <td>5.0</td>\n",
       "      <td>20.0</td>\n",
       "      <td>57.0</td>\n",
       "      <td>18.8395</td>\n",
       "    </tr>\n",
       "    <tr>\n",
       "      <th>364</th>\n",
       "      <td>2021</td>\n",
       "      <td>12.0</td>\n",
       "      <td>31.0</td>\n",
       "      <td>0.0</td>\n",
       "      <td>27.0</td>\n",
       "      <td>45.0</td>\n",
       "      <td>5.0</td>\n",
       "      <td>21.0</td>\n",
       "      <td>0.0</td>\n",
       "      <td>18.8567</td>\n",
       "    </tr>\n",
       "  </tbody>\n",
       "</table>\n",
       "<p>365 rows × 10 columns</p>\n",
       "</div>"
      ],
      "text/plain": [
       "     Year  Month   Day  ra.hour   min   sec  dec.deg  min.1  sec.1       AU\n",
       "0    2021    1.0   1.0      0.0  14.0  28.0      4.0   20.0   19.0  18.9395\n",
       "1    2021    1.0   2.0      0.0  14.0  32.0      4.0   20.0   29.0  18.9568\n",
       "2    2021    1.0   3.0      0.0  14.0  35.0      4.0   20.0   40.0  18.9740\n",
       "3    2021    1.0   4.0      0.0  14.0  39.0      4.0   20.0   53.0  18.9912\n",
       "4    2021    1.0   5.0      0.0  14.0  44.0      4.0   21.0    7.0  19.0083\n",
       "..    ...    ...   ...      ...   ...   ...      ...    ...    ...      ...\n",
       "360  2021   12.0  27.0      0.0  27.0  36.0      5.0   20.0   54.0  18.7877\n",
       "361  2021   12.0  28.0      0.0  27.0  38.0      5.0   20.0   53.0  18.8049\n",
       "362  2021   12.0  29.0      0.0  27.0  40.0      5.0   20.0   54.0  18.8222\n",
       "363  2021   12.0  30.0      0.0  27.0  42.0      5.0   20.0   57.0  18.8395\n",
       "364  2021   12.0  31.0      0.0  27.0  45.0      5.0   21.0    0.0  18.8567\n",
       "\n",
       "[365 rows x 10 columns]"
      ]
     },
     "execution_count": 62,
     "metadata": {},
     "output_type": "execute_result"
    }
   ],
   "source": [
    "c21"
   ]
  },
  {
   "cell_type": "code",
   "execution_count": 38,
   "metadata": {},
   "outputs": [],
   "source": [
    "s = (4*60*60 + 20*60 + 19)/(60*60)"
   ]
  },
  {
   "cell_type": "code",
   "execution_count": 39,
   "metadata": {},
   "outputs": [
    {
     "data": {
      "text/plain": [
       "4.338611111111111"
      ]
     },
     "execution_count": 39,
     "metadata": {},
     "output_type": "execute_result"
    }
   ],
   "source": [
    "s"
   ]
  },
  {
   "cell_type": "code",
   "execution_count": 106,
   "metadata": {},
   "outputs": [
    {
     "data": {
      "text/plain": [
       "4.338611111111111"
      ]
     },
     "execution_count": 106,
     "metadata": {},
     "output_type": "execute_result"
    }
   ],
   "source": [
    "sa=Angle(degrees=s)\n",
    "sa.degrees"
   ]
  },
  {
   "cell_type": "code",
   "execution_count": 80,
   "metadata": {},
   "outputs": [
    {
     "ename": "TypeError",
     "evalue": "hms() missing 1 required positional argument: 'self'",
     "output_type": "error",
     "traceback": [
      "\u001b[1;31m---------------------------------------------------------------------------\u001b[0m",
      "\u001b[1;31mTypeError\u001b[0m                                 Traceback (most recent call last)",
      "\u001b[1;32m<ipython-input-80-36887a258568>\u001b[0m in \u001b[0;36m<module>\u001b[1;34m\u001b[0m\n\u001b[1;32m----> 1\u001b[1;33m \u001b[0mAngle\u001b[0m\u001b[1;33m.\u001b[0m\u001b[0mhms\u001b[0m\u001b[1;33m(\u001b[0m\u001b[1;33m)\u001b[0m\u001b[1;33m\u001b[0m\u001b[1;33m\u001b[0m\u001b[0m\n\u001b[0m",
      "\u001b[1;31mTypeError\u001b[0m: hms() missing 1 required positional argument: 'self'"
     ]
    }
   ],
   "source": [
    "Angle.hms()"
   ]
  },
  {
   "cell_type": "code",
   "execution_count": 41,
   "metadata": {},
   "outputs": [
    {
     "data": {
      "text/plain": [
       "<Angle 00h 14m 28.00s>"
      ]
     },
     "execution_count": 41,
     "metadata": {},
     "output_type": "execute_result"
    }
   ],
   "source": [
    "r = (0*60*60 + 14*60 + 28)/(60*60)\n",
    "Angle(hours = r)"
   ]
  },
  {
   "cell_type": "code",
   "execution_count": 42,
   "metadata": {},
   "outputs": [
    {
     "data": {
      "text/plain": [
       "Year        object\n",
       "Month      float64\n",
       "Day        float64\n",
       "ra.hour    float64\n",
       "min        float64\n",
       "sec        float64\n",
       "dec.deg    float64\n",
       "min.1      float64\n",
       "sec.1      float64\n",
       "AU         float64\n",
       "dtype: object"
      ]
     },
     "execution_count": 42,
     "metadata": {},
     "output_type": "execute_result"
    }
   ],
   "source": [
    "c21.dtypes"
   ]
  },
  {
   "cell_type": "code",
   "execution_count": 65,
   "metadata": {},
   "outputs": [],
   "source": [
    "c21.Year = c21.Year.astype(int)\n",
    "c21.Month = c21.Month.astype(int)\n",
    "c21.Day = c21.Day.astype(int)"
   ]
  },
  {
   "cell_type": "code",
   "execution_count": 66,
   "metadata": {},
   "outputs": [
    {
     "data": {
      "text/html": [
       "<div>\n",
       "<style scoped>\n",
       "    .dataframe tbody tr th:only-of-type {\n",
       "        vertical-align: middle;\n",
       "    }\n",
       "\n",
       "    .dataframe tbody tr th {\n",
       "        vertical-align: top;\n",
       "    }\n",
       "\n",
       "    .dataframe thead th {\n",
       "        text-align: right;\n",
       "    }\n",
       "</style>\n",
       "<table border=\"1\" class=\"dataframe\">\n",
       "  <thead>\n",
       "    <tr style=\"text-align: right;\">\n",
       "      <th></th>\n",
       "      <th>Year</th>\n",
       "      <th>Month</th>\n",
       "      <th>Day</th>\n",
       "      <th>ra.hour</th>\n",
       "      <th>min</th>\n",
       "      <th>sec</th>\n",
       "      <th>dec.deg</th>\n",
       "      <th>min.1</th>\n",
       "      <th>sec.1</th>\n",
       "      <th>AU</th>\n",
       "    </tr>\n",
       "  </thead>\n",
       "  <tbody>\n",
       "    <tr>\n",
       "      <th>0</th>\n",
       "      <td>2021</td>\n",
       "      <td>1</td>\n",
       "      <td>1</td>\n",
       "      <td>0.0</td>\n",
       "      <td>14.0</td>\n",
       "      <td>28.0</td>\n",
       "      <td>4.0</td>\n",
       "      <td>20.0</td>\n",
       "      <td>19.0</td>\n",
       "      <td>18.9395</td>\n",
       "    </tr>\n",
       "    <tr>\n",
       "      <th>1</th>\n",
       "      <td>2021</td>\n",
       "      <td>1</td>\n",
       "      <td>2</td>\n",
       "      <td>0.0</td>\n",
       "      <td>14.0</td>\n",
       "      <td>32.0</td>\n",
       "      <td>4.0</td>\n",
       "      <td>20.0</td>\n",
       "      <td>29.0</td>\n",
       "      <td>18.9568</td>\n",
       "    </tr>\n",
       "    <tr>\n",
       "      <th>2</th>\n",
       "      <td>2021</td>\n",
       "      <td>1</td>\n",
       "      <td>3</td>\n",
       "      <td>0.0</td>\n",
       "      <td>14.0</td>\n",
       "      <td>35.0</td>\n",
       "      <td>4.0</td>\n",
       "      <td>20.0</td>\n",
       "      <td>40.0</td>\n",
       "      <td>18.9740</td>\n",
       "    </tr>\n",
       "    <tr>\n",
       "      <th>3</th>\n",
       "      <td>2021</td>\n",
       "      <td>1</td>\n",
       "      <td>4</td>\n",
       "      <td>0.0</td>\n",
       "      <td>14.0</td>\n",
       "      <td>39.0</td>\n",
       "      <td>4.0</td>\n",
       "      <td>20.0</td>\n",
       "      <td>53.0</td>\n",
       "      <td>18.9912</td>\n",
       "    </tr>\n",
       "    <tr>\n",
       "      <th>4</th>\n",
       "      <td>2021</td>\n",
       "      <td>1</td>\n",
       "      <td>5</td>\n",
       "      <td>0.0</td>\n",
       "      <td>14.0</td>\n",
       "      <td>44.0</td>\n",
       "      <td>4.0</td>\n",
       "      <td>21.0</td>\n",
       "      <td>7.0</td>\n",
       "      <td>19.0083</td>\n",
       "    </tr>\n",
       "    <tr>\n",
       "      <th>...</th>\n",
       "      <td>...</td>\n",
       "      <td>...</td>\n",
       "      <td>...</td>\n",
       "      <td>...</td>\n",
       "      <td>...</td>\n",
       "      <td>...</td>\n",
       "      <td>...</td>\n",
       "      <td>...</td>\n",
       "      <td>...</td>\n",
       "      <td>...</td>\n",
       "    </tr>\n",
       "    <tr>\n",
       "      <th>360</th>\n",
       "      <td>2021</td>\n",
       "      <td>12</td>\n",
       "      <td>27</td>\n",
       "      <td>0.0</td>\n",
       "      <td>27.0</td>\n",
       "      <td>36.0</td>\n",
       "      <td>5.0</td>\n",
       "      <td>20.0</td>\n",
       "      <td>54.0</td>\n",
       "      <td>18.7877</td>\n",
       "    </tr>\n",
       "    <tr>\n",
       "      <th>361</th>\n",
       "      <td>2021</td>\n",
       "      <td>12</td>\n",
       "      <td>28</td>\n",
       "      <td>0.0</td>\n",
       "      <td>27.0</td>\n",
       "      <td>38.0</td>\n",
       "      <td>5.0</td>\n",
       "      <td>20.0</td>\n",
       "      <td>53.0</td>\n",
       "      <td>18.8049</td>\n",
       "    </tr>\n",
       "    <tr>\n",
       "      <th>362</th>\n",
       "      <td>2021</td>\n",
       "      <td>12</td>\n",
       "      <td>29</td>\n",
       "      <td>0.0</td>\n",
       "      <td>27.0</td>\n",
       "      <td>40.0</td>\n",
       "      <td>5.0</td>\n",
       "      <td>20.0</td>\n",
       "      <td>54.0</td>\n",
       "      <td>18.8222</td>\n",
       "    </tr>\n",
       "    <tr>\n",
       "      <th>363</th>\n",
       "      <td>2021</td>\n",
       "      <td>12</td>\n",
       "      <td>30</td>\n",
       "      <td>0.0</td>\n",
       "      <td>27.0</td>\n",
       "      <td>42.0</td>\n",
       "      <td>5.0</td>\n",
       "      <td>20.0</td>\n",
       "      <td>57.0</td>\n",
       "      <td>18.8395</td>\n",
       "    </tr>\n",
       "    <tr>\n",
       "      <th>364</th>\n",
       "      <td>2021</td>\n",
       "      <td>12</td>\n",
       "      <td>31</td>\n",
       "      <td>0.0</td>\n",
       "      <td>27.0</td>\n",
       "      <td>45.0</td>\n",
       "      <td>5.0</td>\n",
       "      <td>21.0</td>\n",
       "      <td>0.0</td>\n",
       "      <td>18.8567</td>\n",
       "    </tr>\n",
       "  </tbody>\n",
       "</table>\n",
       "<p>365 rows × 10 columns</p>\n",
       "</div>"
      ],
      "text/plain": [
       "     Year  Month  Day  ra.hour   min   sec  dec.deg  min.1  sec.1       AU\n",
       "0    2021      1    1      0.0  14.0  28.0      4.0   20.0   19.0  18.9395\n",
       "1    2021      1    2      0.0  14.0  32.0      4.0   20.0   29.0  18.9568\n",
       "2    2021      1    3      0.0  14.0  35.0      4.0   20.0   40.0  18.9740\n",
       "3    2021      1    4      0.0  14.0  39.0      4.0   20.0   53.0  18.9912\n",
       "4    2021      1    5      0.0  14.0  44.0      4.0   21.0    7.0  19.0083\n",
       "..    ...    ...  ...      ...   ...   ...      ...    ...    ...      ...\n",
       "360  2021     12   27      0.0  27.0  36.0      5.0   20.0   54.0  18.7877\n",
       "361  2021     12   28      0.0  27.0  38.0      5.0   20.0   53.0  18.8049\n",
       "362  2021     12   29      0.0  27.0  40.0      5.0   20.0   54.0  18.8222\n",
       "363  2021     12   30      0.0  27.0  42.0      5.0   20.0   57.0  18.8395\n",
       "364  2021     12   31      0.0  27.0  45.0      5.0   21.0    0.0  18.8567\n",
       "\n",
       "[365 rows x 10 columns]"
      ]
     },
     "execution_count": 66,
     "metadata": {},
     "output_type": "execute_result"
    }
   ],
   "source": [
    "c21"
   ]
  },
  {
   "cell_type": "code",
   "execution_count": 68,
   "metadata": {},
   "outputs": [
    {
     "data": {
      "text/plain": [
       "365"
      ]
     },
     "execution_count": 68,
     "metadata": {},
     "output_type": "execute_result"
    }
   ],
   "source": [
    "len(c21.index)"
   ]
  },
  {
   "cell_type": "code",
   "execution_count": 73,
   "metadata": {},
   "outputs": [
    {
     "ename": "NameError",
     "evalue": "name 'distance' is not defined",
     "output_type": "error",
     "traceback": [
      "\u001b[1;31m---------------------------------------------------------------------------\u001b[0m",
      "\u001b[1;31mNameError\u001b[0m                                 Traceback (most recent call last)",
      "\u001b[1;32m<ipython-input-73-61bd19620cd4>\u001b[0m in \u001b[0;36m<module>\u001b[1;34m\u001b[0m\n\u001b[1;32m----> 1\u001b[1;33m \u001b[0mdistance\u001b[0m\u001b[1;33m(\u001b[0m\u001b[0mau\u001b[0m\u001b[1;33m=\u001b[0m\u001b[1;36m18.17877\u001b[0m\u001b[1;33m)\u001b[0m\u001b[1;33m\u001b[0m\u001b[1;33m\u001b[0m\u001b[0m\n\u001b[0m",
      "\u001b[1;31mNameError\u001b[0m: name 'distance' is not defined"
     ]
    }
   ],
   "source": []
  },
  {
   "cell_type": "code",
   "execution_count": 89,
   "metadata": {},
   "outputs": [
    {
     "data": {
      "text/plain": [
       "503"
      ]
     },
     "execution_count": 89,
     "metadata": {},
     "output_type": "execute_result"
    }
   ],
   "source": [
    "c21_1 = pd.read_csv('Chiron_2021.csv',skiprows=[0,1])\n",
    "len(c21_1)"
   ]
  },
  {
   "cell_type": "code",
   "execution_count": 101,
   "metadata": {},
   "outputs": [],
   "source": [
    "c21_1['Time'] = [sa.degrees for i in range(1,504)]"
   ]
  },
  {
   "cell_type": "code",
   "execution_count": 102,
   "metadata": {},
   "outputs": [
    {
     "data": {
      "text/html": [
       "<div>\n",
       "<style scoped>\n",
       "    .dataframe tbody tr th:only-of-type {\n",
       "        vertical-align: middle;\n",
       "    }\n",
       "\n",
       "    .dataframe tbody tr th {\n",
       "        vertical-align: top;\n",
       "    }\n",
       "\n",
       "    .dataframe thead th {\n",
       "        text-align: right;\n",
       "    }\n",
       "</style>\n",
       "<table border=\"1\" class=\"dataframe\">\n",
       "  <thead>\n",
       "    <tr style=\"text-align: right;\">\n",
       "      <th></th>\n",
       "      <th>Year</th>\n",
       "      <th>Month</th>\n",
       "      <th>Day</th>\n",
       "      <th>hour</th>\n",
       "      <th>min</th>\n",
       "      <th>sec</th>\n",
       "      <th>deg</th>\n",
       "      <th>min.1</th>\n",
       "      <th>sec.1</th>\n",
       "      <th>Mag.</th>\n",
       "      <th>AU</th>\n",
       "      <th>Unnamed: 11</th>\n",
       "      <th>Unnamed: 12</th>\n",
       "      <th>Time</th>\n",
       "    </tr>\n",
       "  </thead>\n",
       "  <tbody>\n",
       "    <tr>\n",
       "      <th>0</th>\n",
       "      <td>2021</td>\n",
       "      <td>1.0</td>\n",
       "      <td>1.0</td>\n",
       "      <td>0.0</td>\n",
       "      <td>14.0</td>\n",
       "      <td>28.0</td>\n",
       "      <td>4.0</td>\n",
       "      <td>20.0</td>\n",
       "      <td>19.0</td>\n",
       "      <td>18.9</td>\n",
       "      <td>18.9395</td>\n",
       "      <td>12:20 until 16:05</td>\n",
       "      <td>Pisces</td>\n",
       "      <td>4.338611</td>\n",
       "    </tr>\n",
       "    <tr>\n",
       "      <th>1</th>\n",
       "      <td>2021</td>\n",
       "      <td>1.0</td>\n",
       "      <td>2.0</td>\n",
       "      <td>0.0</td>\n",
       "      <td>14.0</td>\n",
       "      <td>32.0</td>\n",
       "      <td>4.0</td>\n",
       "      <td>20.0</td>\n",
       "      <td>29.0</td>\n",
       "      <td>18.9</td>\n",
       "      <td>18.9568</td>\n",
       "      <td>12:21 until 16:01</td>\n",
       "      <td>Pisces</td>\n",
       "      <td>4.338611</td>\n",
       "    </tr>\n",
       "    <tr>\n",
       "      <th>2</th>\n",
       "      <td>2021</td>\n",
       "      <td>1.0</td>\n",
       "      <td>3.0</td>\n",
       "      <td>0.0</td>\n",
       "      <td>14.0</td>\n",
       "      <td>35.0</td>\n",
       "      <td>4.0</td>\n",
       "      <td>20.0</td>\n",
       "      <td>40.0</td>\n",
       "      <td>18.9</td>\n",
       "      <td>18.9740</td>\n",
       "      <td>12:21 until 15:57</td>\n",
       "      <td>Pisces</td>\n",
       "      <td>4.338611</td>\n",
       "    </tr>\n",
       "    <tr>\n",
       "      <th>3</th>\n",
       "      <td>2021</td>\n",
       "      <td>1.0</td>\n",
       "      <td>4.0</td>\n",
       "      <td>0.0</td>\n",
       "      <td>14.0</td>\n",
       "      <td>39.0</td>\n",
       "      <td>4.0</td>\n",
       "      <td>20.0</td>\n",
       "      <td>53.0</td>\n",
       "      <td>18.9</td>\n",
       "      <td>18.9912</td>\n",
       "      <td>12:22 until 15:54</td>\n",
       "      <td>Pisces</td>\n",
       "      <td>4.338611</td>\n",
       "    </tr>\n",
       "    <tr>\n",
       "      <th>4</th>\n",
       "      <td>2021</td>\n",
       "      <td>1.0</td>\n",
       "      <td>5.0</td>\n",
       "      <td>0.0</td>\n",
       "      <td>14.0</td>\n",
       "      <td>44.0</td>\n",
       "      <td>4.0</td>\n",
       "      <td>21.0</td>\n",
       "      <td>7.0</td>\n",
       "      <td>18.9</td>\n",
       "      <td>19.0083</td>\n",
       "      <td>12:23 until 15:50</td>\n",
       "      <td>Pisces</td>\n",
       "      <td>4.338611</td>\n",
       "    </tr>\n",
       "    <tr>\n",
       "      <th>...</th>\n",
       "      <td>...</td>\n",
       "      <td>...</td>\n",
       "      <td>...</td>\n",
       "      <td>...</td>\n",
       "      <td>...</td>\n",
       "      <td>...</td>\n",
       "      <td>...</td>\n",
       "      <td>...</td>\n",
       "      <td>...</td>\n",
       "      <td>...</td>\n",
       "      <td>...</td>\n",
       "      <td>...</td>\n",
       "      <td>...</td>\n",
       "      <td>...</td>\n",
       "    </tr>\n",
       "    <tr>\n",
       "      <th>498</th>\n",
       "      <td>2022</td>\n",
       "      <td>5.0</td>\n",
       "      <td>14.0</td>\n",
       "      <td>0.0</td>\n",
       "      <td>50.0</td>\n",
       "      <td>55.0</td>\n",
       "      <td>7.0</td>\n",
       "      <td>33.0</td>\n",
       "      <td>16.0</td>\n",
       "      <td>18.9</td>\n",
       "      <td>19.6412</td>\n",
       "      <td>Not observable</td>\n",
       "      <td>Pisces</td>\n",
       "      <td>4.338611</td>\n",
       "    </tr>\n",
       "    <tr>\n",
       "      <th>499</th>\n",
       "      <td>2022</td>\n",
       "      <td>5.0</td>\n",
       "      <td>15.0</td>\n",
       "      <td>0.0</td>\n",
       "      <td>51.0</td>\n",
       "      <td>6.0</td>\n",
       "      <td>7.0</td>\n",
       "      <td>34.0</td>\n",
       "      <td>24.0</td>\n",
       "      <td>18.9</td>\n",
       "      <td>19.6308</td>\n",
       "      <td>Not observable</td>\n",
       "      <td>Pisces</td>\n",
       "      <td>4.338611</td>\n",
       "    </tr>\n",
       "    <tr>\n",
       "      <th>500</th>\n",
       "      <td>All times computed for Gangtok (latitude 27.33...</td>\n",
       "      <td>NaN</td>\n",
       "      <td>NaN</td>\n",
       "      <td>NaN</td>\n",
       "      <td>NaN</td>\n",
       "      <td>NaN</td>\n",
       "      <td>NaN</td>\n",
       "      <td>NaN</td>\n",
       "      <td>NaN</td>\n",
       "      <td>NaN</td>\n",
       "      <td>NaN</td>\n",
       "      <td>NaN</td>\n",
       "      <td>NaN</td>\n",
       "      <td>4.338611</td>\n",
       "    </tr>\n",
       "    <tr>\n",
       "      <th>501</th>\n",
       "      <td>Ephemeris computed by Dominic Ford.</td>\n",
       "      <td>NaN</td>\n",
       "      <td>NaN</td>\n",
       "      <td>NaN</td>\n",
       "      <td>NaN</td>\n",
       "      <td>NaN</td>\n",
       "      <td>NaN</td>\n",
       "      <td>NaN</td>\n",
       "      <td>NaN</td>\n",
       "      <td>NaN</td>\n",
       "      <td>NaN</td>\n",
       "      <td>NaN</td>\n",
       "      <td>NaN</td>\n",
       "      <td>4.338611</td>\n",
       "    </tr>\n",
       "    <tr>\n",
       "      <th>502</th>\n",
       "      <td>&lt;https://in-the-sky.org/&gt;</td>\n",
       "      <td>NaN</td>\n",
       "      <td>NaN</td>\n",
       "      <td>NaN</td>\n",
       "      <td>NaN</td>\n",
       "      <td>NaN</td>\n",
       "      <td>NaN</td>\n",
       "      <td>NaN</td>\n",
       "      <td>NaN</td>\n",
       "      <td>NaN</td>\n",
       "      <td>NaN</td>\n",
       "      <td>NaN</td>\n",
       "      <td>NaN</td>\n",
       "      <td>4.338611</td>\n",
       "    </tr>\n",
       "  </tbody>\n",
       "</table>\n",
       "<p>503 rows × 14 columns</p>\n",
       "</div>"
      ],
      "text/plain": [
       "                                                  Year  Month   Day  hour  \\\n",
       "0                                                 2021    1.0   1.0   0.0   \n",
       "1                                                 2021    1.0   2.0   0.0   \n",
       "2                                                 2021    1.0   3.0   0.0   \n",
       "3                                                 2021    1.0   4.0   0.0   \n",
       "4                                                 2021    1.0   5.0   0.0   \n",
       "..                                                 ...    ...   ...   ...   \n",
       "498                                               2022    5.0  14.0   0.0   \n",
       "499                                               2022    5.0  15.0   0.0   \n",
       "500  All times computed for Gangtok (latitude 27.33...    NaN   NaN   NaN   \n",
       "501                Ephemeris computed by Dominic Ford.    NaN   NaN   NaN   \n",
       "502                          <https://in-the-sky.org/>    NaN   NaN   NaN   \n",
       "\n",
       "      min   sec  deg  min.1  sec.1  Mag.       AU        Unnamed: 11  \\\n",
       "0    14.0  28.0  4.0   20.0   19.0  18.9  18.9395  12:20 until 16:05   \n",
       "1    14.0  32.0  4.0   20.0   29.0  18.9  18.9568  12:21 until 16:01   \n",
       "2    14.0  35.0  4.0   20.0   40.0  18.9  18.9740  12:21 until 15:57   \n",
       "3    14.0  39.0  4.0   20.0   53.0  18.9  18.9912  12:22 until 15:54   \n",
       "4    14.0  44.0  4.0   21.0    7.0  18.9  19.0083  12:23 until 15:50   \n",
       "..    ...   ...  ...    ...    ...   ...      ...                ...   \n",
       "498  50.0  55.0  7.0   33.0   16.0  18.9  19.6412     Not observable   \n",
       "499  51.0   6.0  7.0   34.0   24.0  18.9  19.6308     Not observable   \n",
       "500   NaN   NaN  NaN    NaN    NaN   NaN      NaN                NaN   \n",
       "501   NaN   NaN  NaN    NaN    NaN   NaN      NaN                NaN   \n",
       "502   NaN   NaN  NaN    NaN    NaN   NaN      NaN                NaN   \n",
       "\n",
       "    Unnamed: 12      Time  \n",
       "0        Pisces  4.338611  \n",
       "1        Pisces  4.338611  \n",
       "2        Pisces  4.338611  \n",
       "3        Pisces  4.338611  \n",
       "4        Pisces  4.338611  \n",
       "..          ...       ...  \n",
       "498      Pisces  4.338611  \n",
       "499      Pisces  4.338611  \n",
       "500         NaN  4.338611  \n",
       "501         NaN  4.338611  \n",
       "502         NaN  4.338611  \n",
       "\n",
       "[503 rows x 14 columns]"
      ]
     },
     "execution_count": 102,
     "metadata": {},
     "output_type": "execute_result"
    }
   ],
   "source": [
    "c21_1"
   ]
  },
  {
   "cell_type": "code",
   "execution_count": null,
   "metadata": {},
   "outputs": [],
   "source": [
    "skiprows=[0,1]\n",
    "skiprows.extend(range(365,503))\n",
    "def format_chiron_data(filename):\n",
    "    \n",
    "    c = pd.read_csv(filename, skiprows=skiprows)\n",
    "    c.drop(['Mag.','Unnamed: 11','Unnamed: 12'], axis = 1)\n",
    "    c.Year = c.Year.astype(int)\n",
    "    c.Month = c.Month.astype(int)\n",
    "    c.Day = c.Day.astype(int)\n",
    "    c['ra'] = 0.0 for i in range(0,365)\n",
    "    c['dec'] = 0.0 for i in range(0,365)"
   ]
  }
 ],
 "metadata": {
  "kernelspec": {
   "display_name": "Python 3",
   "language": "python",
   "name": "python3"
  },
  "language_info": {
   "codemirror_mode": {
    "name": "ipython",
    "version": 3
   },
   "file_extension": ".py",
   "mimetype": "text/x-python",
   "name": "python",
   "nbconvert_exporter": "python",
   "pygments_lexer": "ipython3",
   "version": "3.7.2"
  }
 },
 "nbformat": 4,
 "nbformat_minor": 2
}
