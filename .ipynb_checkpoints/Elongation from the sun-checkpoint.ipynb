{
 "cells": [
  {
   "cell_type": "code",
   "execution_count": 1,
   "metadata": {},
   "outputs": [],
   "source": [
    "from skyfield.api import load\n",
    "from skyfield.framelib import ecliptic_frame\n",
    "from skyfield.searchlib import find_maxima"
   ]
  },
  {
   "cell_type": "code",
   "execution_count": 2,
   "metadata": {},
   "outputs": [],
   "source": [
    "ts = load.timescale()\n",
    "t0 = ts.utc(2019)\n",
    "t1 = ts.utc(2022)\n",
    "\n",
    "eph = load('de421.bsp')\n",
    "sun, earth, venus = eph['sun'], eph['earth'], eph['venus']"
   ]
  },
  {
   "cell_type": "code",
   "execution_count": 3,
   "metadata": {},
   "outputs": [],
   "source": [
    "def elongation_at(t):\n",
    "    e = earth.at(t)\n",
    "    s = e.observe(sun).apparent()\n",
    "    v = e.observe(venus).apparent()\n",
    "    return s.separation_from(v).degrees"
   ]
  },
  {
   "cell_type": "code",
   "execution_count": 4,
   "metadata": {},
   "outputs": [],
   "source": [
    "\n",
    "elongation_at.step_days = 15.0\n",
    "\n",
    "times, elongations = find_maxima(t0, t1, elongation_at)\n",
    "\n"
   ]
  },
  {
   "cell_type": "code",
   "execution_count": 5,
   "metadata": {},
   "outputs": [
    {
     "name": "stdout",
     "output_type": "stream",
     "text": [
      "2019-01-06 04:53:35 UTC  47.0° west elongation\n",
      "2020-03-24 22:13:32 UTC  46.1° east elongation\n",
      "2020-08-13 00:14:12 UTC  45.8° west elongation\n",
      "2021-10-29 20:51:56 UTC  47.0° east elongation\n"
     ]
    }
   ],
   "source": [
    "for t, elongation_degrees in zip(times, elongations):\n",
    "    e = earth.at(t)\n",
    "    _, slon, _ = e.observe(sun).apparent().frame_latlon(ecliptic_frame)\n",
    "    _, vlon, _ = e.observe(venus).apparent().frame_latlon(ecliptic_frame)\n",
    "    is_east = (vlon.degrees - slon.degrees) % 360.0 < 180.0\n",
    "    direction = 'east' if is_east else 'west'\n",
    "    print('{}  {:4.1f}° {} elongation'.format(\n",
    "        t.utc_strftime(), elongation_degrees, direction))"
   ]
  },
  {
   "cell_type": "code",
   "execution_count": null,
   "metadata": {},
   "outputs": [],
   "source": []
  }
 ],
 "metadata": {
  "kernelspec": {
   "display_name": "Python 3",
   "language": "python",
   "name": "python3"
  },
  "language_info": {
   "codemirror_mode": {
    "name": "ipython",
    "version": 3
   },
   "file_extension": ".py",
   "mimetype": "text/x-python",
   "name": "python",
   "nbconvert_exporter": "python",
   "pygments_lexer": "ipython3",
   "version": "3.7.2"
  }
 },
 "nbformat": 4,
 "nbformat_minor": 2
}
