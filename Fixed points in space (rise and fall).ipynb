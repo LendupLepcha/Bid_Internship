{
 "cells": [
  {
   "cell_type": "code",
   "execution_count": 4,
   "metadata": {},
   "outputs": [],
   "source": [
    "from skyfield.api import N,E, Star, W, wgs84, load\n",
    "from skyfield.almanac import find_discrete, risings_and_settings\n",
    "from pytz import timezone"
   ]
  },
  {
   "cell_type": "markdown",
   "metadata": {},
   "source": [
    "## Set time period"
   ]
  },
  {
   "cell_type": "code",
   "execution_count": 12,
   "metadata": {},
   "outputs": [],
   "source": [
    "ts = load.timescale()\n",
    "t0 = ts.utc(2021, 1, 21)\n",
    "t1 = ts.utc(2021, 1, 23)"
   ]
  },
  {
   "cell_type": "markdown",
   "metadata": {},
   "source": [
    "## set location to observe from and the star to be observed"
   ]
  },
  {
   "cell_type": "code",
   "execution_count": 5,
   "metadata": {},
   "outputs": [],
   "source": [
    "moab = wgs84.latlon(27.3314 * N,88.6138 * E)\n",
    "eph = load('de421.bsp')\n",
    "gc = Star(ra_hours=(17, 45, 40.04), dec_degrees=(-29, 0, 28.1))"
   ]
  },
  {
   "cell_type": "markdown",
   "metadata": {},
   "source": [
    "## Set time zone of location"
   ]
  },
  {
   "cell_type": "code",
   "execution_count": 6,
   "metadata": {},
   "outputs": [],
   "source": [
    "f = risings_and_settings(eph, gc, moab)\n",
    "tz = timezone('Indian/Mahe')"
   ]
  },
  {
   "cell_type": "markdown",
   "metadata": {},
   "source": [
    "## Display"
   ]
  },
  {
   "cell_type": "code",
   "execution_count": 13,
   "metadata": {},
   "outputs": [
    {
     "name": "stdout",
     "output_type": "stream",
     "text": [
      "Thu 21 12:45 MST sets\n",
      "Fri 22 02:50 MST rises\n",
      "Fri 22 12:41 MST sets\n",
      "Sat 23 02:46 MST rises\n"
     ]
    }
   ],
   "source": [
    "for t, updown in zip(*find_discrete(t0, t1, f)):\n",
    "    print(t.astimezone(tz).strftime('%a %d %H:%M'), 'MST',\n",
    "          'rises' if updown else 'sets')\n",
    "    "
   ]
  },
  {
   "cell_type": "code",
   "execution_count": null,
   "metadata": {},
   "outputs": [],
   "source": []
  }
 ],
 "metadata": {
  "kernelspec": {
   "display_name": "Python 3",
   "language": "python",
   "name": "python3"
  },
  "language_info": {
   "codemirror_mode": {
    "name": "ipython",
    "version": 3
   },
   "file_extension": ".py",
   "mimetype": "text/x-python",
   "name": "python",
   "nbconvert_exporter": "python",
   "pygments_lexer": "ipython3",
   "version": "3.7.2"
  }
 },
 "nbformat": 4,
 "nbformat_minor": 2
}
