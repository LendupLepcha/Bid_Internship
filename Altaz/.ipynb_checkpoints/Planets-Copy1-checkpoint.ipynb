{
 "cells": [
  {
   "cell_type": "code",
   "execution_count": 64,
   "metadata": {},
   "outputs": [],
   "source": [
    "from skyfield.api import load, wgs84, Angle\n",
    "import pickle\n",
    "from skyfield.api import  Topos\n",
    "from skyfield.positionlib import ICRF\n",
    "from skyfield.data import mpc\n",
    "from skyfield.constants import GM_SUN_Pitjeva_2005_km3_s2 as GM_SUN\n",
    "import pandas as pd"
   ]
  },
  {
   "cell_type": "markdown",
   "metadata": {},
   "source": [
    "# Planets"
   ]
  },
  {
   "cell_type": "code",
   "execution_count": 12,
   "metadata": {},
   "outputs": [],
   "source": [
    "planets=[\n",
    "    'mercury barycenter',\n",
    "    'venus barycenter',\n",
    "    'mars barycenter',\n",
    "    'jupiter barycenter',\n",
    "    'saturn barycenter',\n",
    "    'uranus barycenter',\n",
    "    'neptune barycenter',\n",
    "    'pluto barycenter'\n",
    "]\n",
    "ts = load.timescale()\n",
    "time_p = ts.utc(2018, 1, range(1,365*3+2),12,20)"
   ]
  },
  {
   "cell_type": "code",
   "execution_count": 3,
   "metadata": {},
   "outputs": [
    {
     "data": {
      "text/plain": [
       "'A.D. 2020-Dec-31 12:20:00.0000 UTC'"
      ]
     },
     "execution_count": 3,
     "metadata": {},
     "output_type": "execute_result"
    }
   ],
   "source": [
    "time_p[365*3].utc_jpl()"
   ]
  },
  {
   "cell_type": "code",
   "execution_count": 4,
   "metadata": {},
   "outputs": [
    {
     "name": "stderr",
     "output_type": "stream",
     "text": [
      "[#################################] 100% de421.bsp\n"
     ]
    }
   ],
   "source": [
    "eph = load('de421.bsp')"
   ]
  },
  {
   "cell_type": "code",
   "execution_count": 13,
   "metadata": {},
   "outputs": [],
   "source": [
    "earth = eph['earth']\n",
    "#moon = eph['moon']\n",
    "gangtok = earth + wgs84.latlon( 27.3314 , 88.6138)\n",
    "gg = gangtok.at(time_p)\n",
    "P=[]\n",
    "for i in planets:\n",
    "    P.append(eph[i])"
   ]
  },
  {
   "cell_type": "code",
   "execution_count": 6,
   "metadata": {},
   "outputs": [],
   "source": [
    "astro = gg.observe(P[0])\n",
    "lat, lon, dist = astro.ecliptic_latlon()"
   ]
  },
  {
   "cell_type": "code",
   "execution_count": 43,
   "metadata": {},
   "outputs": [],
   "source": [
    "sun = eph['sun']"
   ]
  },
  {
   "cell_type": "code",
   "execution_count": 9,
   "metadata": {},
   "outputs": [
    {
     "data": {
      "text/plain": [
       "1.934034596822139"
      ]
     },
     "execution_count": 9,
     "metadata": {},
     "output_type": "execute_result"
    }
   ],
   "source": [
    "lat.degrees[0]"
   ]
  },
  {
   "cell_type": "code",
   "execution_count": 14,
   "metadata": {},
   "outputs": [
    {
     "name": "stdout",
     "output_type": "stream",
     "text": [
      "mercury barycenter  done \n",
      "venus barycenter  done \n",
      "mars barycenter  done \n",
      "jupiter barycenter  done \n",
      "saturn barycenter  done \n",
      "uranus barycenter  done \n",
      "neptune barycenter  done \n",
      "pluto barycenter  done \n"
     ]
    }
   ],
   "source": [
    "planet_c_dist = {}\n",
    "\n",
    "for planet, p_name in zip(P, planets):\n",
    "    print(p_name,\" done \")\n",
    "    astronometric = gg.observe(planet)\n",
    "    lat, lon, dist = astronometric.ecliptic_latlon()\n",
    "    eph_planet = {'lat' : lat,\n",
    "                  'lon' : lon,\n",
    "                 'distance' : dist}\n",
    "    planet_c_dist[p_name[:-11]]= eph_planet"
   ]
  },
  {
   "cell_type": "code",
   "execution_count": 23,
   "metadata": {},
   "outputs": [
    {
     "data": {
      "text/plain": [
       "{'lat': <Angle 1096 values from +00deg 27' 13.2\" to -01deg 11' 31.8\">,\n",
       " 'lon': <Angle 1096 values from 288deg 33' 13.7\" to 293deg 53' 20.0\">,\n",
       " 'distance': <Distance [34.44992545 34.45276288 34.45531009 ... 35.13462316 35.13987256\n",
       "  35.14483876] au>}"
      ]
     },
     "execution_count": 23,
     "metadata": {},
     "output_type": "execute_result"
    }
   ],
   "source": [
    "planet_c_dist['pluto']"
   ]
  },
  {
   "cell_type": "code",
   "execution_count": 24,
   "metadata": {},
   "outputs": [],
   "source": [
    "planet_names=[\n",
    "    'mercury',\n",
    "    'venus',\n",
    "    'mars',\n",
    "    'jupiter',\n",
    "    'saturn',\n",
    "    'uranus',\n",
    "    'neptune',\n",
    "    'pluto'\n",
    "]"
   ]
  },
  {
   "cell_type": "code",
   "execution_count": 51,
   "metadata": {},
   "outputs": [],
   "source": [
    "latitude={}\n",
    "longitude={}\n",
    "distance={}\n",
    "for name in planet_names:\n",
    "    latitude[name]=planet_c_dist[name]['lat'].degrees\n",
    "    longitude[name]=planet_c_dist[name]['lon'].degrees\n",
    "    distance[name]=planet_c_dist[name]['distance'].au"
   ]
  },
  {
   "cell_type": "code",
   "execution_count": 52,
   "metadata": {},
   "outputs": [],
   "source": [
    "latitude['time']=time\n",
    "longitude['time']=time\n",
    "distance['time']=time"
   ]
  },
  {
   "cell_type": "code",
   "execution_count": 31,
   "metadata": {},
   "outputs": [],
   "source": [
    "time=time_p.utc_jpl()"
   ]
  },
  {
   "cell_type": "code",
   "execution_count": 33,
   "metadata": {},
   "outputs": [
    {
     "data": {
      "text/plain": [
       "'A.D. 2020-Dec-31 12:20:00.0000 UTC'"
      ]
     },
     "execution_count": 33,
     "metadata": {},
     "output_type": "execute_result"
    }
   ],
   "source": [
    "time[365*3]"
   ]
  },
  {
   "cell_type": "markdown",
   "metadata": {},
   "source": [
    "# ceres"
   ]
  },
  {
   "cell_type": "code",
   "execution_count": 40,
   "metadata": {},
   "outputs": [
    {
     "name": "stdout",
     "output_type": "stream",
     "text": [
      "4 minor planets loaded\n"
     ]
    }
   ],
   "source": [
    "with load.open('MPCORB.excerpt.DAT') as f:\n",
    "    minor_planets = mpc.load_mpcorb_dataframe(f)\n",
    "\n",
    "print(minor_planets.shape[0], 'minor planets loaded')"
   ]
  },
  {
   "cell_type": "code",
   "execution_count": 41,
   "metadata": {},
   "outputs": [],
   "source": [
    "row_ceres=minor_planets.iloc[0]"
   ]
  },
  {
   "cell_type": "code",
   "execution_count": 58,
   "metadata": {},
   "outputs": [
    {
     "name": "stdout",
     "output_type": "stream",
     "text": [
      "1096 values from +10deg 55' 07.1\" to -09deg 24' 19.3\"\n",
      "1096 values from 136deg 08' 32.7\" to 341deg 33' 25.3\"\n",
      "[1.71957871 1.71186367 1.70436454 ... 3.26704838 3.27918451 3.29124125]\n"
     ]
    }
   ],
   "source": [
    "ceres = sun + mpc.mpcorb_orbit(row_ceres, ts, GM_SUN)\n",
    "lat, lon, dis = earth.at(time_p).observe(ceres).ecliptic_latlon()\n",
    "print(lat)\n",
    "print(lon)\n",
    "print(dis.au)"
   ]
  },
  {
   "cell_type": "code",
   "execution_count": 75,
   "metadata": {},
   "outputs": [],
   "source": [
    "latitude['ceres']=lat.degrees\n",
    "longitude['ceres']=lon.degrees\n",
    "distance['ceres']=dis.au"
   ]
  },
  {
   "cell_type": "code",
   "execution_count": 71,
   "metadata": {},
   "outputs": [
    {
     "data": {
      "text/plain": [
       "array([10.91864421, 11.01695558, 11.11457222, ..., -9.48685682,\n",
       "       -9.44589305, -9.40535807])"
      ]
     },
     "execution_count": 71,
     "metadata": {},
     "output_type": "execute_result"
    }
   ],
   "source": [
    "latitude[çeres]"
   ]
  },
  {
   "cell_type": "code",
   "execution_count": 61,
   "metadata": {},
   "outputs": [],
   "source": [
    "col_names=[\n",
    "    'time',\n",
    "    'mercury',\n",
    "    'venus',\n",
    "    'mars',\n",
    "    'jupiter',\n",
    "    'saturn',\n",
    "    'uranus',\n",
    "    'neptune',\n",
    "    'pluto',\n",
    "    'ceres'\n",
    "]"
   ]
  },
  {
   "cell_type": "code",
   "execution_count": 76,
   "metadata": {},
   "outputs": [],
   "source": [
    "lats = pd.DataFrame(latitude, columns=col_names)\n",
    "longs = pd.DataFrame(longitude, columns=col_names)\n",
    "dists = pd.DataFrame(distance, columns=col_names)"
   ]
  },
  {
   "cell_type": "code",
   "execution_count": 82,
   "metadata": {},
   "outputs": [
    {
     "data": {
      "text/html": [
       "<div>\n",
       "<style scoped>\n",
       "    .dataframe tbody tr th:only-of-type {\n",
       "        vertical-align: middle;\n",
       "    }\n",
       "\n",
       "    .dataframe tbody tr th {\n",
       "        vertical-align: top;\n",
       "    }\n",
       "\n",
       "    .dataframe thead th {\n",
       "        text-align: right;\n",
       "    }\n",
       "</style>\n",
       "<table border=\"1\" class=\"dataframe\">\n",
       "  <thead>\n",
       "    <tr style=\"text-align: right;\">\n",
       "      <th></th>\n",
       "      <th>time</th>\n",
       "      <th>mercury</th>\n",
       "      <th>venus</th>\n",
       "      <th>mars</th>\n",
       "      <th>jupiter</th>\n",
       "      <th>saturn</th>\n",
       "      <th>uranus</th>\n",
       "      <th>neptune</th>\n",
       "      <th>pluto</th>\n",
       "      <th>ceres</th>\n",
       "    </tr>\n",
       "  </thead>\n",
       "  <tbody>\n",
       "    <tr>\n",
       "      <th>0</th>\n",
       "      <td>A.D. 2018-Jan-01 12:20:00.0000 UTC</td>\n",
       "      <td>1.934035</td>\n",
       "      <td>-0.488559</td>\n",
       "      <td>0.897383</td>\n",
       "      <td>1.052536</td>\n",
       "      <td>0.898481</td>\n",
       "      <td>-0.570919</td>\n",
       "      <td>-0.911828</td>\n",
       "      <td>0.453678</td>\n",
       "      <td>10.918644</td>\n",
       "    </tr>\n",
       "    <tr>\n",
       "      <th>1</th>\n",
       "      <td>A.D. 2018-Jan-02 12:20:00.0000 UTC</td>\n",
       "      <td>1.791378</td>\n",
       "      <td>-0.525848</td>\n",
       "      <td>0.890939</td>\n",
       "      <td>1.054131</td>\n",
       "      <td>0.897632</td>\n",
       "      <td>-0.570327</td>\n",
       "      <td>-0.911530</td>\n",
       "      <td>0.452116</td>\n",
       "      <td>11.016956</td>\n",
       "    </tr>\n",
       "    <tr>\n",
       "      <th>2</th>\n",
       "      <td>A.D. 2018-Jan-03 12:20:00.0000 UTC</td>\n",
       "      <td>1.646749</td>\n",
       "      <td>-0.562728</td>\n",
       "      <td>0.884391</td>\n",
       "      <td>1.055756</td>\n",
       "      <td>0.896804</td>\n",
       "      <td>-0.569734</td>\n",
       "      <td>-0.911237</td>\n",
       "      <td>0.450559</td>\n",
       "      <td>11.114572</td>\n",
       "    </tr>\n",
       "    <tr>\n",
       "      <th>3</th>\n",
       "      <td>A.D. 2018-Jan-04 12:20:00.0000 UTC</td>\n",
       "      <td>1.500898</td>\n",
       "      <td>-0.599174</td>\n",
       "      <td>0.877739</td>\n",
       "      <td>1.057411</td>\n",
       "      <td>0.895995</td>\n",
       "      <td>-0.569140</td>\n",
       "      <td>-0.910949</td>\n",
       "      <td>0.449006</td>\n",
       "      <td>11.211420</td>\n",
       "    </tr>\n",
       "    <tr>\n",
       "      <th>4</th>\n",
       "      <td>A.D. 2018-Jan-05 12:20:00.0000 UTC</td>\n",
       "      <td>1.354466</td>\n",
       "      <td>-0.635162</td>\n",
       "      <td>0.870978</td>\n",
       "      <td>1.059095</td>\n",
       "      <td>0.895207</td>\n",
       "      <td>-0.568545</td>\n",
       "      <td>-0.910666</td>\n",
       "      <td>0.447456</td>\n",
       "      <td>11.307421</td>\n",
       "    </tr>\n",
       "    <tr>\n",
       "      <th>...</th>\n",
       "      <td>...</td>\n",
       "      <td>...</td>\n",
       "      <td>...</td>\n",
       "      <td>...</td>\n",
       "      <td>...</td>\n",
       "      <td>...</td>\n",
       "      <td>...</td>\n",
       "      <td>...</td>\n",
       "      <td>...</td>\n",
       "      <td>...</td>\n",
       "    </tr>\n",
       "    <tr>\n",
       "      <th>1091</th>\n",
       "      <td>A.D. 2020-Dec-27 12:20:00.0000 UTC</td>\n",
       "      <td>-1.936036</td>\n",
       "      <td>0.842084</td>\n",
       "      <td>0.775421</td>\n",
       "      <td>-0.483425</td>\n",
       "      <td>-0.381678</td>\n",
       "      <td>-0.454564</td>\n",
       "      <td>-1.082702</td>\n",
       "      <td>-1.186921</td>\n",
       "      <td>-9.570083</td>\n",
       "    </tr>\n",
       "    <tr>\n",
       "      <th>1092</th>\n",
       "      <td>A.D. 2020-Dec-28 12:20:00.0000 UTC</td>\n",
       "      <td>-1.982655</td>\n",
       "      <td>0.802290</td>\n",
       "      <td>0.797242</td>\n",
       "      <td>-0.484377</td>\n",
       "      <td>-0.382628</td>\n",
       "      <td>-0.454084</td>\n",
       "      <td>-1.082255</td>\n",
       "      <td>-1.188216</td>\n",
       "      <td>-9.528253</td>\n",
       "    </tr>\n",
       "    <tr>\n",
       "      <th>1093</th>\n",
       "      <td>A.D. 2020-Dec-29 12:20:00.0000 UTC</td>\n",
       "      <td>-2.023927</td>\n",
       "      <td>0.762081</td>\n",
       "      <td>0.818514</td>\n",
       "      <td>-0.485342</td>\n",
       "      <td>-0.383585</td>\n",
       "      <td>-0.453601</td>\n",
       "      <td>-1.081813</td>\n",
       "      <td>-1.189521</td>\n",
       "      <td>-9.486857</td>\n",
       "    </tr>\n",
       "    <tr>\n",
       "      <th>1094</th>\n",
       "      <td>A.D. 2020-Dec-30 12:20:00.0000 UTC</td>\n",
       "      <td>-2.059584</td>\n",
       "      <td>0.721485</td>\n",
       "      <td>0.839247</td>\n",
       "      <td>-0.486319</td>\n",
       "      <td>-0.384549</td>\n",
       "      <td>-0.453116</td>\n",
       "      <td>-1.081374</td>\n",
       "      <td>-1.190834</td>\n",
       "      <td>-9.445893</td>\n",
       "    </tr>\n",
       "    <tr>\n",
       "      <th>1095</th>\n",
       "      <td>A.D. 2020-Dec-31 12:20:00.0000 UTC</td>\n",
       "      <td>-2.089346</td>\n",
       "      <td>0.680533</td>\n",
       "      <td>0.859451</td>\n",
       "      <td>-0.487311</td>\n",
       "      <td>-0.385521</td>\n",
       "      <td>-0.452628</td>\n",
       "      <td>-1.080940</td>\n",
       "      <td>-1.192158</td>\n",
       "      <td>-9.405358</td>\n",
       "    </tr>\n",
       "  </tbody>\n",
       "</table>\n",
       "<p>1096 rows × 10 columns</p>\n",
       "</div>"
      ],
      "text/plain": [
       "                                    time   mercury     venus      mars  \\\n",
       "0     A.D. 2018-Jan-01 12:20:00.0000 UTC  1.934035 -0.488559  0.897383   \n",
       "1     A.D. 2018-Jan-02 12:20:00.0000 UTC  1.791378 -0.525848  0.890939   \n",
       "2     A.D. 2018-Jan-03 12:20:00.0000 UTC  1.646749 -0.562728  0.884391   \n",
       "3     A.D. 2018-Jan-04 12:20:00.0000 UTC  1.500898 -0.599174  0.877739   \n",
       "4     A.D. 2018-Jan-05 12:20:00.0000 UTC  1.354466 -0.635162  0.870978   \n",
       "...                                  ...       ...       ...       ...   \n",
       "1091  A.D. 2020-Dec-27 12:20:00.0000 UTC -1.936036  0.842084  0.775421   \n",
       "1092  A.D. 2020-Dec-28 12:20:00.0000 UTC -1.982655  0.802290  0.797242   \n",
       "1093  A.D. 2020-Dec-29 12:20:00.0000 UTC -2.023927  0.762081  0.818514   \n",
       "1094  A.D. 2020-Dec-30 12:20:00.0000 UTC -2.059584  0.721485  0.839247   \n",
       "1095  A.D. 2020-Dec-31 12:20:00.0000 UTC -2.089346  0.680533  0.859451   \n",
       "\n",
       "       jupiter    saturn    uranus   neptune     pluto      ceres  \n",
       "0     1.052536  0.898481 -0.570919 -0.911828  0.453678  10.918644  \n",
       "1     1.054131  0.897632 -0.570327 -0.911530  0.452116  11.016956  \n",
       "2     1.055756  0.896804 -0.569734 -0.911237  0.450559  11.114572  \n",
       "3     1.057411  0.895995 -0.569140 -0.910949  0.449006  11.211420  \n",
       "4     1.059095  0.895207 -0.568545 -0.910666  0.447456  11.307421  \n",
       "...        ...       ...       ...       ...       ...        ...  \n",
       "1091 -0.483425 -0.381678 -0.454564 -1.082702 -1.186921  -9.570083  \n",
       "1092 -0.484377 -0.382628 -0.454084 -1.082255 -1.188216  -9.528253  \n",
       "1093 -0.485342 -0.383585 -0.453601 -1.081813 -1.189521  -9.486857  \n",
       "1094 -0.486319 -0.384549 -0.453116 -1.081374 -1.190834  -9.445893  \n",
       "1095 -0.487311 -0.385521 -0.452628 -1.080940 -1.192158  -9.405358  \n",
       "\n",
       "[1096 rows x 10 columns]"
      ]
     },
     "execution_count": 82,
     "metadata": {},
     "output_type": "execute_result"
    }
   ],
   "source": [
    "lats"
   ]
  },
  {
   "cell_type": "code",
   "execution_count": 81,
   "metadata": {},
   "outputs": [],
   "source": []
  },
  {
   "cell_type": "code",
   "execution_count": 84,
   "metadata": {},
   "outputs": [],
   "source": [
    "lats.to_csv('Latitudes.csv', index= False)\n",
    "longs.to_csv('Longitudes.csv', index= False)\n",
    "dists.to_csv('Distances.csv', index= False)"
   ]
  },
  {
   "cell_type": "code",
   "execution_count": 86,
   "metadata": {},
   "outputs": [],
   "source": [
    "from skyfield.jpllib import SpiceKernel\n",
    "#kernel = SpiceKernel('wld23593.15')"
   ]
  },
  {
   "cell_type": "code",
   "execution_count": 87,
   "metadata": {},
   "outputs": [
    {
     "data": {
      "text/plain": [
       "skyfield.jpllib.SpiceKernel"
      ]
     },
     "execution_count": 87,
     "metadata": {},
     "output_type": "execute_result"
    }
   ],
   "source": [
    "SpiceKernel"
   ]
  },
  {
   "cell_type": "code",
   "execution_count": null,
   "metadata": {},
   "outputs": [],
   "source": []
  }
 ],
 "metadata": {
  "kernelspec": {
   "display_name": "Python 3",
   "language": "python",
   "name": "python3"
  },
  "language_info": {
   "codemirror_mode": {
    "name": "ipython",
    "version": 3
   },
   "file_extension": ".py",
   "mimetype": "text/x-python",
   "name": "python",
   "nbconvert_exporter": "python",
   "pygments_lexer": "ipython3",
   "version": "3.7.2"
  }
 },
 "nbformat": 4,
 "nbformat_minor": 2
}
