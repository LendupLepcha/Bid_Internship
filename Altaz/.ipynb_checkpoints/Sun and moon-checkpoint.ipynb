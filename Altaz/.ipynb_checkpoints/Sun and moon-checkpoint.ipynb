{
 "cells": [
  {
   "cell_type": "code",
   "execution_count": 1,
   "metadata": {},
   "outputs": [],
   "source": [
    "from skyfield.api import load, wgs84, Angle\n",
    "import pickle\n",
    "import pandas as pd"
   ]
  },
  {
   "cell_type": "code",
   "execution_count": 2,
   "metadata": {},
   "outputs": [],
   "source": [
    "eph = load('de421.bsp')\n",
    "ts = load.timescale()\n",
    "time_p = ts.utc(2018, 1, range(1,365*3+2),12,20)"
   ]
  },
  {
   "cell_type": "code",
   "execution_count": 3,
   "metadata": {},
   "outputs": [],
   "source": [
    "sun = eph['sun']\n",
    "moon = eph['moon']\n",
    "earth = eph['earth']\n",
    "g = earth + wgs84.latlon(27.3314 , 88.6138)"
   ]
  },
  {
   "cell_type": "code",
   "execution_count": 4,
   "metadata": {},
   "outputs": [],
   "source": [
    "gg = g.at(time_p)"
   ]
  },
  {
   "cell_type": "code",
   "execution_count": 5,
   "metadata": {},
   "outputs": [],
   "source": [
    "suns = gg.observe(sun).apparent()\n",
    "alts, azs, distances = suns.altaz()"
   ]
  },
  {
   "cell_type": "code",
   "execution_count": 7,
   "metadata": {},
   "outputs": [
    {
     "data": {
      "text/plain": [
       "<Angle 1096 values from 250deg 26' 30.3\" to 250deg 25' 10.8\">"
      ]
     },
     "execution_count": 7,
     "metadata": {},
     "output_type": "execute_result"
    }
   ],
   "source": []
  },
  {
   "cell_type": "code",
   "execution_count": 21,
   "metadata": {},
   "outputs": [],
   "source": [
    "moons = gg.observe(moon).apparent()\n",
    "altm, azm, distancem = moons.altaz()"
   ]
  },
  {
   "cell_type": "code",
   "execution_count": 22,
   "metadata": {},
   "outputs": [],
   "source": [
    "altitude = { 'sun': alts.degrees, 'moon': altm.degrees}\n",
    "azimuth = { 'sun': azs.degrees, 'moon': azm.degrees}"
   ]
  },
  {
   "cell_type": "code",
   "execution_count": 23,
   "metadata": {},
   "outputs": [],
   "source": [
    "altpd = pd.DataFrame(altitude, columns=['sun','moon'])\n",
    "azpd = pd.DataFrame(azimuth, columns=['sun','moon'])"
   ]
  },
  {
   "cell_type": "code",
   "execution_count": 18,
   "metadata": {},
   "outputs": [],
   "source": []
  },
  {
   "cell_type": "code",
   "execution_count": 24,
   "metadata": {},
   "outputs": [],
   "source": [
    "altpd.to_csv('Alti_sun_moon.csv', index=None)\n",
    "azpd.to_csv('Azi_sun_moon.csv', index=None)\n"
   ]
  },
  {
   "cell_type": "code",
   "execution_count": 26,
   "metadata": {},
   "outputs": [
    {
     "name": "stdout",
     "output_type": "stream",
     "text": [
      "Sun Alt: 00deg 05' 16.3\"\n",
      "Sun Az: 278deg 21' 14.3\"\n",
      "Moon Alt: -44deg 33' 59.3\"\n",
      "Moon Az: 01deg 04' 13.9\"\n"
     ]
    }
   ],
   "source": [
    "t = ts.utc(2018,9,3,12,20)\n",
    "sunz = g.at(t).observe(sun).apparent()\n",
    "altsz, azsz, distancesz = sunz.altaz()\n",
    "print('Sun Alt:', altsz)\n",
    "print('Sun Az:', azsz)\n",
    "moonz = g.at(t).observe(moon).apparent()\n",
    "altmz, azmz, distancemz = moonz.altaz()\n",
    "print('Moon Alt:', altmz)\n",
    "print('Moon Az:', azmz)"
   ]
  },
  {
   "cell_type": "code",
   "execution_count": null,
   "metadata": {},
   "outputs": [],
   "source": []
  }
 ],
 "metadata": {
  "kernelspec": {
   "display_name": "Python 3",
   "language": "python",
   "name": "python3"
  },
  "language_info": {
   "codemirror_mode": {
    "name": "ipython",
    "version": 3
   },
   "file_extension": ".py",
   "mimetype": "text/x-python",
   "name": "python",
   "nbconvert_exporter": "python",
   "pygments_lexer": "ipython3",
   "version": "3.7.2"
  }
 },
 "nbformat": 4,
 "nbformat_minor": 2
}
