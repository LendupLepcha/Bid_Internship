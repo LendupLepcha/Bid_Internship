{
 "cells": [
  {
   "cell_type": "code",
   "execution_count": 21,
   "metadata": {},
   "outputs": [],
   "source": [
    "from skyfield.api import load, wgs84, Angle\n",
    "import pickle\n",
    "import pandas as pd\n",
    "import numpy as np"
   ]
  },
  {
   "cell_type": "code",
   "execution_count": 11,
   "metadata": {},
   "outputs": [],
   "source": [
    "eph = load('de421.bsp')\n",
    "ts = load.timescale()\n",
    "time_p = ts.utc(2018, 1, range(1,365*3+2),12,20)"
   ]
  },
  {
   "cell_type": "code",
   "execution_count": 12,
   "metadata": {},
   "outputs": [],
   "source": [
    "sun = eph['sun']\n",
    "moon = eph['moon']\n",
    "earth = eph['earth']\n",
    "pluto = eph['pluto barycenter']\n",
    "g = earth + wgs84.latlon(27.3314 , 88.6138)"
   ]
  },
  {
   "cell_type": "code",
   "execution_count": 13,
   "metadata": {},
   "outputs": [],
   "source": [
    "gg = g.at(time_p)"
   ]
  },
  {
   "cell_type": "code",
   "execution_count": 16,
   "metadata": {},
   "outputs": [],
   "source": [
    "suns = gg.observe(sun).apparent()\n",
    "ras, decs, distances = suns.radec()"
   ]
  },
  {
   "cell_type": "code",
   "execution_count": 7,
   "metadata": {},
   "outputs": [
    {
     "data": {
      "text/plain": [
       "<Angle 1096 values from 250deg 26' 30.3\" to 250deg 25' 10.8\">"
      ]
     },
     "execution_count": 7,
     "metadata": {},
     "output_type": "execute_result"
    }
   ],
   "source": []
  },
  {
   "cell_type": "code",
   "execution_count": 17,
   "metadata": {},
   "outputs": [],
   "source": [
    "moons = gg.observe(moon).apparent()\n",
    "ram, decm, distancem = moons.radec()"
   ]
  },
  {
   "cell_type": "code",
   "execution_count": 18,
   "metadata": {},
   "outputs": [],
   "source": [
    "plutos = gg.observe(pluto).apparent()\n",
    "rap, decp, distancep = plutos.radec()"
   ]
  },
  {
   "cell_type": "code",
   "execution_count": 25,
   "metadata": {},
   "outputs": [],
   "source": [
    "rasun =[]\n",
    "ramoon =[]\n",
    "rapluto = []\n",
    "for i,j,k in zip(rap.hours,ras.hours,ram.hours):\n",
    "    rapluto.append(i* 360/24)\n",
    "    rasun.append(j* 360/24)\n",
    "    ramoon.append(k* 360/24)"
   ]
  },
  {
   "cell_type": "code",
   "execution_count": 29,
   "metadata": {},
   "outputs": [],
   "source": [
    "RA = { 'pluto':rapluto, 'sun': rasun, 'moon': ramoon }\n",
    "DEC = { 'pluto':decp.degrees, 'sun': decs.degrees, 'moon': decs.degrees}"
   ]
  },
  {
   "cell_type": "code",
   "execution_count": 30,
   "metadata": {},
   "outputs": [],
   "source": [
    "rapd = pd.DataFrame(RA, columns=['pluto','sun','moon'])\n",
    "decpd = pd.DataFrame(DEC, columns=['pluto','sun','moon'])"
   ]
  },
  {
   "cell_type": "code",
   "execution_count": 32,
   "metadata": {},
   "outputs": [
    {
     "data": {
      "text/html": [
       "<div>\n",
       "<style scoped>\n",
       "    .dataframe tbody tr th:only-of-type {\n",
       "        vertical-align: middle;\n",
       "    }\n",
       "\n",
       "    .dataframe tbody tr th {\n",
       "        vertical-align: top;\n",
       "    }\n",
       "\n",
       "    .dataframe thead th {\n",
       "        text-align: right;\n",
       "    }\n",
       "</style>\n",
       "<table border=\"1\" class=\"dataframe\">\n",
       "  <thead>\n",
       "    <tr style=\"text-align: right;\">\n",
       "      <th></th>\n",
       "      <th>pluto</th>\n",
       "      <th>sun</th>\n",
       "      <th>moon</th>\n",
       "    </tr>\n",
       "  </thead>\n",
       "  <tbody>\n",
       "    <tr>\n",
       "      <th>0</th>\n",
       "      <td>-21.705705</td>\n",
       "      <td>-23.000189</td>\n",
       "      <td>-23.000189</td>\n",
       "    </tr>\n",
       "    <tr>\n",
       "      <th>1</th>\n",
       "      <td>-21.702643</td>\n",
       "      <td>-22.913992</td>\n",
       "      <td>-22.913992</td>\n",
       "    </tr>\n",
       "    <tr>\n",
       "      <th>2</th>\n",
       "      <td>-21.699561</td>\n",
       "      <td>-22.820192</td>\n",
       "      <td>-22.820192</td>\n",
       "    </tr>\n",
       "    <tr>\n",
       "      <th>3</th>\n",
       "      <td>-21.696459</td>\n",
       "      <td>-22.718835</td>\n",
       "      <td>-22.718835</td>\n",
       "    </tr>\n",
       "    <tr>\n",
       "      <th>4</th>\n",
       "      <td>-21.693338</td>\n",
       "      <td>-22.609969</td>\n",
       "      <td>-22.609969</td>\n",
       "    </tr>\n",
       "    <tr>\n",
       "      <th>...</th>\n",
       "      <td>...</td>\n",
       "      <td>...</td>\n",
       "      <td>...</td>\n",
       "    </tr>\n",
       "    <tr>\n",
       "      <th>1091</th>\n",
       "      <td>-22.519972</td>\n",
       "      <td>-23.305258</td>\n",
       "      <td>-23.305258</td>\n",
       "    </tr>\n",
       "    <tr>\n",
       "      <th>1092</th>\n",
       "      <td>-22.515690</td>\n",
       "      <td>-23.255831</td>\n",
       "      <td>-23.255831</td>\n",
       "    </tr>\n",
       "    <tr>\n",
       "      <th>1093</th>\n",
       "      <td>-22.511387</td>\n",
       "      <td>-23.198640</td>\n",
       "      <td>-23.198640</td>\n",
       "    </tr>\n",
       "    <tr>\n",
       "      <th>1094</th>\n",
       "      <td>-22.507063</td>\n",
       "      <td>-23.133712</td>\n",
       "      <td>-23.133712</td>\n",
       "    </tr>\n",
       "    <tr>\n",
       "      <th>1095</th>\n",
       "      <td>-22.502721</td>\n",
       "      <td>-23.061082</td>\n",
       "      <td>-23.061082</td>\n",
       "    </tr>\n",
       "  </tbody>\n",
       "</table>\n",
       "<p>1096 rows × 3 columns</p>\n",
       "</div>"
      ],
      "text/plain": [
       "          pluto        sun       moon\n",
       "0    -21.705705 -23.000189 -23.000189\n",
       "1    -21.702643 -22.913992 -22.913992\n",
       "2    -21.699561 -22.820192 -22.820192\n",
       "3    -21.696459 -22.718835 -22.718835\n",
       "4    -21.693338 -22.609969 -22.609969\n",
       "...         ...        ...        ...\n",
       "1091 -22.519972 -23.305258 -23.305258\n",
       "1092 -22.515690 -23.255831 -23.255831\n",
       "1093 -22.511387 -23.198640 -23.198640\n",
       "1094 -22.507063 -23.133712 -23.133712\n",
       "1095 -22.502721 -23.061082 -23.061082\n",
       "\n",
       "[1096 rows x 3 columns]"
      ]
     },
     "execution_count": 32,
     "metadata": {},
     "output_type": "execute_result"
    }
   ],
   "source": [
    "decpd"
   ]
  },
  {
   "cell_type": "code",
   "execution_count": 33,
   "metadata": {},
   "outputs": [],
   "source": [
    "rapd.to_csv('RA_sun_moon_pluto.csv', index=None)\n",
    "decpd.to_csv('dec_sun_moon_pluto.csv', index=None)\n"
   ]
  },
  {
   "cell_type": "code",
   "execution_count": 8,
   "metadata": {},
   "outputs": [
    {
     "name": "stdout",
     "output_type": "stream",
     "text": [
      "Sun ra: 316.9989244029645\n",
      "Sun dec: -16deg 28' 49.8\"\n",
      "Moon ra: 3.870959509490717\n",
      "Moondec: -02deg 14' 33.7\"\n"
     ]
    }
   ],
   "source": [
    "t = ts.utc(1930,2,3,2,33)\n",
    "sunz = g.at(t).observe(sun).apparent()\n",
    "altsz, azsz, distancesz = sunz.radec()\n",
    "print('Sun ra:', altsz.hours*360/24)\n",
    "print('Sun dec:', azsz)\n",
    "moonz = g.at(t).observe(moon).apparent()\n",
    "altmz, azmz, distancemz = moonz.radec()\n",
    "print('Moon ra:', altmz.hours*360/24)\n",
    "print('Moondec:', azmz)"
   ]
  },
  {
   "cell_type": "code",
   "execution_count": 9,
   "metadata": {},
   "outputs": [
    {
     "name": "stdout",
     "output_type": "stream",
     "text": [
      "Moon ra: 222.5661041843808\n",
      "Moondec: -14deg 14' 51.0\"\n"
     ]
    }
   ],
   "source": [
    "moonz = sun.at(t).observe(moon).apparent()\n",
    "altmz, azmz, distancemz = moonz.radec()\n",
    "print('Moon ra:', altmz.hours*360/24)\n",
    "print('Moondec:', azmz)"
   ]
  },
  {
   "cell_type": "code",
   "execution_count": null,
   "metadata": {},
   "outputs": [],
   "source": []
  }
 ],
 "metadata": {
  "kernelspec": {
   "display_name": "Python 3",
   "language": "python",
   "name": "python3"
  },
  "language_info": {
   "codemirror_mode": {
    "name": "ipython",
    "version": 3
   },
   "file_extension": ".py",
   "mimetype": "text/x-python",
   "name": "python",
   "nbconvert_exporter": "python",
   "pygments_lexer": "ipython3",
   "version": "3.7.2"
  }
 },
 "nbformat": 4,
 "nbformat_minor": 2
}
