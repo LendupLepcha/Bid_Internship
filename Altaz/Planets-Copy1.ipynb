{
 "cells": [
  {
   "cell_type": "code",
   "execution_count": 1,
   "metadata": {},
   "outputs": [],
   "source": [
    "from skyfield.api import load, wgs84, Angle\n",
    "import pickle\n",
    "from skyfield.api import  Topos\n",
    "from skyfield.positionlib import ICRF\n",
    "from skyfield.data import mpc\n",
    "from skyfield.constants import GM_SUN_Pitjeva_2005_km3_s2 as GM_SUN\n",
    "import pandas as pd"
   ]
  },
  {
   "cell_type": "markdown",
   "metadata": {},
   "source": [
    "# Planets"
   ]
  },
  {
   "cell_type": "code",
   "execution_count": 2,
   "metadata": {},
   "outputs": [],
   "source": [
    "planets=[\n",
    "    'mercury barycenter',\n",
    "    'venus barycenter',\n",
    "    'mars barycenter',\n",
    "    'jupiter barycenter',\n",
    "    'saturn barycenter',\n",
    "    'uranus barycenter',\n",
    "    'neptune barycenter',\n",
    "    'pluto barycenter'\n",
    "]\n",
    "ts = load.timescale()\n",
    "time_p = ts.utc(2018, 1, range(1,365*3+2),12,20)"
   ]
  },
  {
   "cell_type": "code",
   "execution_count": 3,
   "metadata": {},
   "outputs": [
    {
     "data": {
      "text/plain": [
       "'A.D. 2020-Dec-31 12:20:00.0000 UTC'"
      ]
     },
     "execution_count": 3,
     "metadata": {},
     "output_type": "execute_result"
    }
   ],
   "source": [
    "time_p[365*3].utc_jpl()"
   ]
  },
  {
   "cell_type": "code",
   "execution_count": 5,
   "metadata": {},
   "outputs": [],
   "source": [
    "eph = load('de421.bsp')"
   ]
  },
  {
   "cell_type": "code",
   "execution_count": 6,
   "metadata": {},
   "outputs": [],
   "source": [
    "earth = eph['earth']\n",
    "#moon = eph['moon']\n",
    "gangtok = earth + wgs84.latlon( 27.3314 , 88.6138)\n",
    "gg = gangtok.at(time_p)\n",
    "P=[]\n",
    "for i in planets:\n",
    "    P.append(eph[i])"
   ]
  },
  {
   "cell_type": "code",
   "execution_count": 7,
   "metadata": {},
   "outputs": [],
   "source": [
    "astro = gg.observe(P[0]).apparent()\n",
    "alt, az, dist = astro.altaz()"
   ]
  },
  {
   "cell_type": "code",
   "execution_count": 8,
   "metadata": {},
   "outputs": [],
   "source": [
    "sun = eph['sun']"
   ]
  },
  {
   "cell_type": "code",
   "execution_count": 9,
   "metadata": {},
   "outputs": [
    {
     "data": {
      "text/plain": [
       "-32.840996851510724"
      ]
     },
     "execution_count": 9,
     "metadata": {},
     "output_type": "execute_result"
    }
   ],
   "source": [
    "alt.degrees[0]"
   ]
  },
  {
   "cell_type": "code",
   "execution_count": 10,
   "metadata": {},
   "outputs": [
    {
     "name": "stdout",
     "output_type": "stream",
     "text": [
      "mercury barycenter  done \n",
      "venus barycenter  done \n",
      "mars barycenter  done \n",
      "jupiter barycenter  done \n",
      "saturn barycenter  done \n",
      "uranus barycenter  done \n",
      "neptune barycenter  done \n",
      "pluto barycenter  done \n"
     ]
    }
   ],
   "source": [
    "planet_c_dist = {}\n",
    "\n",
    "for planet, p_name in zip(P, planets):\n",
    "    print(p_name,\" done \")\n",
    "    apparent = gg.observe(planet).apparent()\n",
    "    alt, az, dist = apparent.altaz()\n",
    "    eph_planet = {'alt' : alt,\n",
    "                  'az' : az,\n",
    "                 'distance' : dist}\n",
    "    planet_c_dist[p_name[:-11]]= eph_planet"
   ]
  },
  {
   "cell_type": "code",
   "execution_count": 11,
   "metadata": {},
   "outputs": [
    {
     "data": {
      "text/plain": [
       "{'alt': <Angle 1096 values from -05deg 07' 52.2\" to -00deg 01' 47.0\">,\n",
       " 'az': <Angle 1096 values from 248deg 13' 39.5\" to 244deg 33' 19.4\">,\n",
       " 'distance': <Distance [34.44992545 34.45276288 34.45531009 ... 35.13462316 35.13987256\n",
       "  35.14483876] au>}"
      ]
     },
     "execution_count": 11,
     "metadata": {},
     "output_type": "execute_result"
    }
   ],
   "source": [
    "planet_c_dist['pluto']"
   ]
  },
  {
   "cell_type": "code",
   "execution_count": 12,
   "metadata": {},
   "outputs": [],
   "source": [
    "planet_names=[\n",
    "    'mercury',\n",
    "    'venus',\n",
    "    'mars',\n",
    "    'jupiter',\n",
    "    'saturn',\n",
    "    'uranus',\n",
    "    'neptune',\n",
    "    'pluto'\n",
    "]"
   ]
  },
  {
   "cell_type": "code",
   "execution_count": 13,
   "metadata": {},
   "outputs": [],
   "source": [
    "Altitude={}\n",
    "Azimuth={}\n",
    "Distance={}\n",
    "for name in planet_names:\n",
    "    Altitude[name]=planet_c_dist[name]['alt'].degrees\n",
    "    Azimuth[name]=planet_c_dist[name]['az'].degrees\n",
    "    Distance[name]=planet_c_dist[name]['distance'].au"
   ]
  },
  {
   "cell_type": "code",
   "execution_count": 15,
   "metadata": {},
   "outputs": [],
   "source": [
    "time=time_p.utc_jpl()"
   ]
  },
  {
   "cell_type": "code",
   "execution_count": 16,
   "metadata": {},
   "outputs": [],
   "source": [
    "Altitude['time']=time\n",
    "Azimuth['time']=time\n",
    "Distance['time']=time"
   ]
  },
  {
   "cell_type": "code",
   "execution_count": 17,
   "metadata": {},
   "outputs": [
    {
     "data": {
      "text/plain": [
       "'A.D. 2020-Dec-31 12:20:00.0000 UTC'"
      ]
     },
     "execution_count": 17,
     "metadata": {},
     "output_type": "execute_result"
    }
   ],
   "source": [
    "time[365*3]"
   ]
  },
  {
   "cell_type": "markdown",
   "metadata": {},
   "source": [
    "# ceres"
   ]
  },
  {
   "cell_type": "code",
   "execution_count": 23,
   "metadata": {},
   "outputs": [
    {
     "name": "stdout",
     "output_type": "stream",
     "text": [
      "4 minor planets loaded\n"
     ]
    }
   ],
   "source": [
    "with load.open('MPCORB.excerpt.DAT') as f:\n",
    "    minor_planets = mpc.load_mpcorb_dataframe(f)\n",
    "\n",
    "print(minor_planets.shape[0], 'minor planets loaded')"
   ]
  },
  {
   "cell_type": "code",
   "execution_count": 24,
   "metadata": {},
   "outputs": [],
   "source": [
    "row_ceres=minor_planets.iloc[0]"
   ]
  },
  {
   "cell_type": "code",
   "execution_count": 27,
   "metadata": {},
   "outputs": [
    {
     "name": "stdout",
     "output_type": "stream",
     "text": [
      "1096 values from -16deg 30' 51.9\" to 39deg 31' 27.9\"\n",
      "1096 values from 47deg 39' 47.4\" to 214deg 32' 33.1\"\n",
      "[1.7195909  1.71187528 1.70437557 ... 3.26702094 3.27915719 3.29121405]\n"
     ]
    }
   ],
   "source": [
    "ceres = sun + mpc.mpcorb_orbit(row_ceres, ts, GM_SUN)\n",
    "alt, az, dis =gg.observe(ceres).apparent().altaz()\n",
    "print(alt)\n",
    "print(az)\n",
    "print(dis.au)"
   ]
  },
  {
   "cell_type": "code",
   "execution_count": 28,
   "metadata": {},
   "outputs": [],
   "source": [
    "Altitude['ceres']=alt.degrees\n",
    "Azimuth['ceres']=az.degrees\n",
    "Distance['ceres']=dis.au"
   ]
  },
  {
   "cell_type": "code",
   "execution_count": 30,
   "metadata": {},
   "outputs": [
    {
     "data": {
      "text/plain": [
       "array([-16.51440593, -15.71687632, -14.90824871, ...,  39.95992946,\n",
       "        39.74593744,  39.52442374])"
      ]
     },
     "execution_count": 30,
     "metadata": {},
     "output_type": "execute_result"
    }
   ],
   "source": [
    "Altitude['ceres']"
   ]
  },
  {
   "cell_type": "code",
   "execution_count": 31,
   "metadata": {},
   "outputs": [],
   "source": [
    "col_names=[\n",
    "    'time',\n",
    "    'mercury',\n",
    "    'venus',\n",
    "    'mars',\n",
    "    'jupiter',\n",
    "    'saturn',\n",
    "    'uranus',\n",
    "    'neptune',\n",
    "    'pluto',\n",
    "    'ceres'\n",
    "]"
   ]
  },
  {
   "cell_type": "code",
   "execution_count": 32,
   "metadata": {},
   "outputs": [],
   "source": [
    "alts = pd.DataFrame(Altitude, columns=col_names)\n",
    "azs = pd.DataFrame(Azimuth, columns=col_names)\n",
    "dists = pd.DataFrame(Distance, columns=col_names)"
   ]
  },
  {
   "cell_type": "code",
   "execution_count": 34,
   "metadata": {},
   "outputs": [
    {
     "data": {
      "text/html": [
       "<div>\n",
       "<style scoped>\n",
       "    .dataframe tbody tr th:only-of-type {\n",
       "        vertical-align: middle;\n",
       "    }\n",
       "\n",
       "    .dataframe tbody tr th {\n",
       "        vertical-align: top;\n",
       "    }\n",
       "\n",
       "    .dataframe thead th {\n",
       "        text-align: right;\n",
       "    }\n",
       "</style>\n",
       "<table border=\"1\" class=\"dataframe\">\n",
       "  <thead>\n",
       "    <tr style=\"text-align: right;\">\n",
       "      <th></th>\n",
       "      <th>time</th>\n",
       "      <th>mercury</th>\n",
       "      <th>venus</th>\n",
       "      <th>mars</th>\n",
       "      <th>jupiter</th>\n",
       "      <th>saturn</th>\n",
       "      <th>uranus</th>\n",
       "      <th>neptune</th>\n",
       "      <th>pluto</th>\n",
       "      <th>ceres</th>\n",
       "    </tr>\n",
       "  </thead>\n",
       "  <tbody>\n",
       "    <tr>\n",
       "      <th>0</th>\n",
       "      <td>A.D. 2018-Jan-01 12:20:00.0000 UTC</td>\n",
       "      <td>261.562742</td>\n",
       "      <td>250.618086</td>\n",
       "      <td>289.446186</td>\n",
       "      <td>285.980489</td>\n",
       "      <td>254.825931</td>\n",
       "      <td>155.424334</td>\n",
       "      <td>224.918122</td>\n",
       "      <td>248.227641</td>\n",
       "      <td>47.663171</td>\n",
       "    </tr>\n",
       "    <tr>\n",
       "      <th>1</th>\n",
       "      <td>A.D. 2018-Jan-02 12:20:00.0000 UTC</td>\n",
       "      <td>261.277342</td>\n",
       "      <td>250.522455</td>\n",
       "      <td>289.472231</td>\n",
       "      <td>286.631496</td>\n",
       "      <td>255.142453</td>\n",
       "      <td>158.118830</td>\n",
       "      <td>225.937191</td>\n",
       "      <td>248.636334</td>\n",
       "      <td>48.241056</td>\n",
       "    </tr>\n",
       "    <tr>\n",
       "      <th>2</th>\n",
       "      <td>A.D. 2018-Jan-03 12:20:00.0000 UTC</td>\n",
       "      <td>260.972223</td>\n",
       "      <td>250.438052</td>\n",
       "      <td>289.499528</td>\n",
       "      <td>287.308622</td>\n",
       "      <td>255.457894</td>\n",
       "      <td>160.895768</td>\n",
       "      <td>226.934011</td>\n",
       "      <td>249.041355</td>\n",
       "      <td>48.810133</td>\n",
       "    </tr>\n",
       "    <tr>\n",
       "      <th>3</th>\n",
       "      <td>A.D. 2018-Jan-04 12:20:00.0000 UTC</td>\n",
       "      <td>260.652686</td>\n",
       "      <td>250.364848</td>\n",
       "      <td>289.528171</td>\n",
       "      <td>288.013897</td>\n",
       "      <td>255.772347</td>\n",
       "      <td>163.748338</td>\n",
       "      <td>227.909125</td>\n",
       "      <td>249.442834</td>\n",
       "      <td>49.370473</td>\n",
       "    </tr>\n",
       "    <tr>\n",
       "      <th>4</th>\n",
       "      <td>A.D. 2018-Jan-05 12:20:00.0000 UTC</td>\n",
       "      <td>260.323403</td>\n",
       "      <td>250.302806</td>\n",
       "      <td>289.558264</td>\n",
       "      <td>288.749551</td>\n",
       "      <td>256.085907</td>\n",
       "      <td>166.668023</td>\n",
       "      <td>228.863090</td>\n",
       "      <td>249.840905</td>\n",
       "      <td>49.922152</td>\n",
       "    </tr>\n",
       "    <tr>\n",
       "      <th>...</th>\n",
       "      <td>...</td>\n",
       "      <td>...</td>\n",
       "      <td>...</td>\n",
       "      <td>...</td>\n",
       "      <td>...</td>\n",
       "      <td>...</td>\n",
       "      <td>...</td>\n",
       "      <td>...</td>\n",
       "      <td>...</td>\n",
       "      <td>...</td>\n",
       "    </tr>\n",
       "    <tr>\n",
       "      <th>1091</th>\n",
       "      <td>A.D. 2020-Dec-27 12:20:00.0000 UTC</td>\n",
       "      <td>246.951889</td>\n",
       "      <td>260.512111</td>\n",
       "      <td>140.776928</td>\n",
       "      <td>240.582919</td>\n",
       "      <td>240.920259</td>\n",
       "      <td>116.331239</td>\n",
       "      <td>213.838694</td>\n",
       "      <td>242.754339</td>\n",
       "      <td>211.030473</td>\n",
       "    </tr>\n",
       "    <tr>\n",
       "      <th>1092</th>\n",
       "      <td>A.D. 2020-Dec-28 12:20:00.0000 UTC</td>\n",
       "      <td>246.720430</td>\n",
       "      <td>260.189490</td>\n",
       "      <td>141.891759</td>\n",
       "      <td>241.027857</td>\n",
       "      <td>241.401765</td>\n",
       "      <td>117.606960</td>\n",
       "      <td>215.181211</td>\n",
       "      <td>243.212372</td>\n",
       "      <td>211.919883</td>\n",
       "    </tr>\n",
       "    <tr>\n",
       "      <th>1093</th>\n",
       "      <td>A.D. 2020-Dec-29 12:20:00.0000 UTC</td>\n",
       "      <td>246.507909</td>\n",
       "      <td>259.878862</td>\n",
       "      <td>143.038575</td>\n",
       "      <td>241.468925</td>\n",
       "      <td>241.877893</td>\n",
       "      <td>118.947102</td>\n",
       "      <td>216.493687</td>\n",
       "      <td>243.665125</td>\n",
       "      <td>212.801748</td>\n",
       "    </tr>\n",
       "    <tr>\n",
       "      <th>1094</th>\n",
       "      <td>A.D. 2020-Dec-30 12:20:00.0000 UTC</td>\n",
       "      <td>246.314503</td>\n",
       "      <td>259.580332</td>\n",
       "      <td>144.219039</td>\n",
       "      <td>241.906231</td>\n",
       "      <td>242.348794</td>\n",
       "      <td>120.356914</td>\n",
       "      <td>217.776374</td>\n",
       "      <td>244.112744</td>\n",
       "      <td>213.675987</td>\n",
       "    </tr>\n",
       "    <tr>\n",
       "      <th>1095</th>\n",
       "      <td>A.D. 2020-Dec-31 12:20:00.0000 UTC</td>\n",
       "      <td>246.140418</td>\n",
       "      <td>259.293995</td>\n",
       "      <td>145.434852</td>\n",
       "      <td>242.339882</td>\n",
       "      <td>242.814616</td>\n",
       "      <td>121.842067</td>\n",
       "      <td>219.029608</td>\n",
       "      <td>244.555375</td>\n",
       "      <td>214.542531</td>\n",
       "    </tr>\n",
       "  </tbody>\n",
       "</table>\n",
       "<p>1096 rows × 10 columns</p>\n",
       "</div>"
      ],
      "text/plain": [
       "                                    time     mercury       venus        mars  \\\n",
       "0     A.D. 2018-Jan-01 12:20:00.0000 UTC  261.562742  250.618086  289.446186   \n",
       "1     A.D. 2018-Jan-02 12:20:00.0000 UTC  261.277342  250.522455  289.472231   \n",
       "2     A.D. 2018-Jan-03 12:20:00.0000 UTC  260.972223  250.438052  289.499528   \n",
       "3     A.D. 2018-Jan-04 12:20:00.0000 UTC  260.652686  250.364848  289.528171   \n",
       "4     A.D. 2018-Jan-05 12:20:00.0000 UTC  260.323403  250.302806  289.558264   \n",
       "...                                  ...         ...         ...         ...   \n",
       "1091  A.D. 2020-Dec-27 12:20:00.0000 UTC  246.951889  260.512111  140.776928   \n",
       "1092  A.D. 2020-Dec-28 12:20:00.0000 UTC  246.720430  260.189490  141.891759   \n",
       "1093  A.D. 2020-Dec-29 12:20:00.0000 UTC  246.507909  259.878862  143.038575   \n",
       "1094  A.D. 2020-Dec-30 12:20:00.0000 UTC  246.314503  259.580332  144.219039   \n",
       "1095  A.D. 2020-Dec-31 12:20:00.0000 UTC  246.140418  259.293995  145.434852   \n",
       "\n",
       "         jupiter      saturn      uranus     neptune       pluto       ceres  \n",
       "0     285.980489  254.825931  155.424334  224.918122  248.227641   47.663171  \n",
       "1     286.631496  255.142453  158.118830  225.937191  248.636334   48.241056  \n",
       "2     287.308622  255.457894  160.895768  226.934011  249.041355   48.810133  \n",
       "3     288.013897  255.772347  163.748338  227.909125  249.442834   49.370473  \n",
       "4     288.749551  256.085907  166.668023  228.863090  249.840905   49.922152  \n",
       "...          ...         ...         ...         ...         ...         ...  \n",
       "1091  240.582919  240.920259  116.331239  213.838694  242.754339  211.030473  \n",
       "1092  241.027857  241.401765  117.606960  215.181211  243.212372  211.919883  \n",
       "1093  241.468925  241.877893  118.947102  216.493687  243.665125  212.801748  \n",
       "1094  241.906231  242.348794  120.356914  217.776374  244.112744  213.675987  \n",
       "1095  242.339882  242.814616  121.842067  219.029608  244.555375  214.542531  \n",
       "\n",
       "[1096 rows x 10 columns]"
      ]
     },
     "execution_count": 34,
     "metadata": {},
     "output_type": "execute_result"
    }
   ],
   "source": [
    "azs"
   ]
  },
  {
   "cell_type": "code",
   "execution_count": 81,
   "metadata": {},
   "outputs": [],
   "source": []
  },
  {
   "cell_type": "code",
   "execution_count": 35,
   "metadata": {},
   "outputs": [],
   "source": [
    "alts.to_csv('Altitudes.csv', index= False)\n",
    "azs.to_csv('Azimuths.csv', index= False)\n",
    "dists.to_csv('Distances.csv', index= False)"
   ]
  },
  {
   "cell_type": "code",
   "execution_count": 86,
   "metadata": {},
   "outputs": [],
   "source": [
    "from skyfield.jpllib import SpiceKernel\n",
    "#kernel = SpiceKernel('wld23593.15')"
   ]
  },
  {
   "cell_type": "code",
   "execution_count": 87,
   "metadata": {},
   "outputs": [
    {
     "data": {
      "text/plain": [
       "skyfield.jpllib.SpiceKernel"
      ]
     },
     "execution_count": 87,
     "metadata": {},
     "output_type": "execute_result"
    }
   ],
   "source": [
    "SpiceKernel"
   ]
  },
  {
   "cell_type": "code",
   "execution_count": null,
   "metadata": {},
   "outputs": [],
   "source": []
  }
 ],
 "metadata": {
  "kernelspec": {
   "display_name": "Python 3",
   "language": "python",
   "name": "python3"
  },
  "language_info": {
   "codemirror_mode": {
    "name": "ipython",
    "version": 3
   },
   "file_extension": ".py",
   "mimetype": "text/x-python",
   "name": "python",
   "nbconvert_exporter": "python",
   "pygments_lexer": "ipython3",
   "version": "3.7.2"
  }
 },
 "nbformat": 4,
 "nbformat_minor": 2
}
