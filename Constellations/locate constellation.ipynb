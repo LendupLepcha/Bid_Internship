{
 "cells": [
  {
   "cell_type": "code",
   "execution_count": 19,
   "metadata": {},
   "outputs": [],
   "source": [
    "from skyfield.api import position_of_radec, load_constellation_map, load, wgs84"
   ]
  },
  {
   "cell_type": "code",
   "execution_count": 3,
   "metadata": {},
   "outputs": [],
   "source": [
    "constellation_at = load_constellation_map()\n",
    "north_pole = position_of_radec(0, 90)\n",
    "Umi = constellation_at(north_pole)"
   ]
  },
  {
   "cell_type": "code",
   "execution_count": 4,
   "metadata": {},
   "outputs": [
    {
     "data": {
      "text/plain": [
       "'UMi'"
      ]
     },
     "execution_count": 4,
     "metadata": {},
     "output_type": "execute_result"
    }
   ],
   "source": [
    "Umi"
   ]
  },
  {
   "cell_type": "code",
   "execution_count": 6,
   "metadata": {},
   "outputs": [],
   "source": [
    "eph = load('de421.bsp')"
   ]
  },
  {
   "cell_type": "code",
   "execution_count": 7,
   "metadata": {},
   "outputs": [],
   "source": [
    "earth = eph['earth']"
   ]
  },
  {
   "cell_type": "code",
   "execution_count": 8,
   "metadata": {},
   "outputs": [],
   "source": [
    "g = earth + wgs84.latlon(27.3314, 88.6138)"
   ]
  },
  {
   "cell_type": "code",
   "execution_count": 9,
   "metadata": {},
   "outputs": [],
   "source": [
    "ts = load.timescale()"
   ]
  },
  {
   "cell_type": "code",
   "execution_count": 10,
   "metadata": {},
   "outputs": [],
   "source": [
    "t = ts.now()"
   ]
  },
  {
   "cell_type": "code",
   "execution_count": 11,
   "metadata": {},
   "outputs": [
    {
     "ename": "AttributeError",
     "evalue": "'numpy.str_' object has no attribute '_observe_from_bcrs'",
     "output_type": "error",
     "traceback": [
      "\u001b[1;31m---------------------------------------------------------------------------\u001b[0m",
      "\u001b[1;31mAttributeError\u001b[0m                            Traceback (most recent call last)",
      "\u001b[1;32m<ipython-input-11-9c138599ef43>\u001b[0m in \u001b[0;36m<module>\u001b[1;34m\u001b[0m\n\u001b[1;32m----> 1\u001b[1;33m \u001b[0mart\u001b[0m \u001b[1;33m=\u001b[0m \u001b[0mg\u001b[0m\u001b[1;33m.\u001b[0m\u001b[0mat\u001b[0m\u001b[1;33m(\u001b[0m\u001b[0mt\u001b[0m\u001b[1;33m)\u001b[0m\u001b[1;33m.\u001b[0m\u001b[0mobserve\u001b[0m\u001b[1;33m(\u001b[0m\u001b[0mUmi\u001b[0m\u001b[1;33m)\u001b[0m\u001b[1;33m\u001b[0m\u001b[1;33m\u001b[0m\u001b[0m\n\u001b[0m",
      "\u001b[1;32mc:\\python3\\lib\\site-packages\\skyfield\\positionlib.py\u001b[0m in \u001b[0;36mobserve\u001b[1;34m(self, body)\u001b[0m\n\u001b[0;32m    583\u001b[0m \u001b[1;33m\u001b[0m\u001b[0m\n\u001b[0;32m    584\u001b[0m         \"\"\"\n\u001b[1;32m--> 585\u001b[1;33m         \u001b[0mp\u001b[0m\u001b[1;33m,\u001b[0m \u001b[0mv\u001b[0m\u001b[1;33m,\u001b[0m \u001b[0mt\u001b[0m\u001b[1;33m,\u001b[0m \u001b[0mlight_time\u001b[0m \u001b[1;33m=\u001b[0m \u001b[0mbody\u001b[0m\u001b[1;33m.\u001b[0m\u001b[0m_observe_from_bcrs\u001b[0m\u001b[1;33m(\u001b[0m\u001b[0mself\u001b[0m\u001b[1;33m)\u001b[0m\u001b[1;33m\u001b[0m\u001b[1;33m\u001b[0m\u001b[0m\n\u001b[0m\u001b[0;32m    586\u001b[0m         \u001b[0mastrometric\u001b[0m \u001b[1;33m=\u001b[0m \u001b[0mAstrometric\u001b[0m\u001b[1;33m(\u001b[0m\u001b[0mp\u001b[0m\u001b[1;33m,\u001b[0m \u001b[0mv\u001b[0m\u001b[1;33m,\u001b[0m \u001b[0mt\u001b[0m\u001b[1;33m,\u001b[0m \u001b[0mself\u001b[0m\u001b[1;33m.\u001b[0m\u001b[0mtarget\u001b[0m\u001b[1;33m,\u001b[0m \u001b[0mbody\u001b[0m\u001b[1;33m.\u001b[0m\u001b[0mtarget\u001b[0m\u001b[1;33m)\u001b[0m\u001b[1;33m\u001b[0m\u001b[1;33m\u001b[0m\u001b[0m\n\u001b[0;32m    587\u001b[0m         \u001b[0mastrometric\u001b[0m\u001b[1;33m.\u001b[0m\u001b[0m_ephemeris\u001b[0m \u001b[1;33m=\u001b[0m \u001b[0mself\u001b[0m\u001b[1;33m.\u001b[0m\u001b[0m_ephemeris\u001b[0m\u001b[1;33m\u001b[0m\u001b[1;33m\u001b[0m\u001b[0m\n",
      "\u001b[1;31mAttributeError\u001b[0m: 'numpy.str_' object has no attribute '_observe_from_bcrs'"
     ]
    }
   ],
   "source": [
    "art = g.at(t).observe(Umi)"
   ]
  },
  {
   "cell_type": "code",
   "execution_count": 5,
   "metadata": {},
   "outputs": [
    {
     "name": "stderr",
     "output_type": "stream",
     "text": [
      "[#################################] 100% hip_main.dat.gz\n"
     ]
    }
   ],
   "source": [
    "from skyfield.api import Star, load\n",
    "from skyfield.data import hipparcos\n",
    "\n",
    "with load.open('ftp://dbc.nao.ac.jp/DBC/NASAADC/catalogs/1/1239/hip_main.dat.gz') as f:\n",
    "    df = hipparcos.load_dataframe(f)\n",
    "\n",
    "barnards_star = Star.from_dataframe(df.loc[87937])"
   ]
  },
  {
   "cell_type": "code",
   "execution_count": 3,
   "metadata": {},
   "outputs": [
    {
     "data": {
      "text/plain": [
       "'https://cdsarc.u-strasbg.fr/ftp/cats/I/239/hip_main.dat'"
      ]
     },
     "execution_count": 3,
     "metadata": {},
     "output_type": "execute_result"
    }
   ],
   "source": [
    "hipparcos.URL"
   ]
  },
  {
   "cell_type": "code",
   "execution_count": 6,
   "metadata": {},
   "outputs": [],
   "source": [
    "barnards_star = Star.from_dataframe(df.loc[87937])"
   ]
  },
  {
   "cell_type": "code",
   "execution_count": 30,
   "metadata": {},
   "outputs": [
    {
     "data": {
      "text/plain": [
       "<VectorSum of 3 vectors:\n",
       " 'de421.bsp' segment 0 SOLAR SYSTEM BARYCENTER -> 3 EARTH BARYCENTER\n",
       " 'de421.bsp' segment 3 EARTH BARYCENTER -> 399 EARTH\n",
       " Geodetic 399 EARTH -> WGS84 latitude 27deg 19' 53.0\" N longitude 88deg 36' 49.7\" E>"
      ]
     },
     "execution_count": 30,
     "metadata": {},
     "output_type": "execute_result"
    }
   ],
   "source": [
    "g"
   ]
  },
  {
   "cell_type": "code",
   "execution_count": 44,
   "metadata": {},
   "outputs": [],
   "source": [
    "aries = Star.from_dataframe(df.loc[16181])"
   ]
  },
  {
   "cell_type": "code",
   "execution_count": 31,
   "metadata": {},
   "outputs": [
    {
     "data": {
      "text/plain": [
       "magnitude              5.860000\n",
       "ra_degrees            27.045428\n",
       "dec_degrees           16.955631\n",
       "parallax_mas          11.370000\n",
       "ra_mas_per_year       55.870000\n",
       "dec_mas_per_year     -32.970000\n",
       "ra_hours               1.803029\n",
       "epoch_year          1991.250000\n",
       "Name: 8387, dtype: float64"
      ]
     },
     "execution_count": 31,
     "metadata": {},
     "output_type": "execute_result"
    }
   ],
   "source": [
    "df.loc[8387]"
   ]
  },
  {
   "cell_type": "code",
   "execution_count": 41,
   "metadata": {},
   "outputs": [
    {
     "name": "stdout",
     "output_type": "stream",
     "text": [
      "Altitude: 73deg 59' 07.8\"\n",
      "Azimuth: 256deg 24' 51.0\"\n",
      "Ra: 03h 28m 26.57s\n",
      "dec: +22deg 48' 22.2\"\n"
     ]
    }
   ],
   "source": [
    "planets = load('de421.bsp')\n",
    "earth = planets['earth']\n",
    "g = earth + wgs84.latlon(27.3314, 88.6138)\n",
    "ts = load.timescale()\n",
    "t = ts.utc(1930, 2, 2, 13, 49)\n",
    "astrometric = g.at(t).observe(aries)\n",
    "alt, az, distance = astrometric.apparent().altaz()\n",
    "ra, dec, distance = astrometric.radec()\n",
    "print('Altitude:',alt)\n",
    "print('Azimuth:',az)\n",
    "print('Ra:',ra)\n",
    "print('dec:',dec)"
   ]
  },
  {
   "cell_type": "code",
   "execution_count": null,
   "metadata": {},
   "outputs": [],
   "source": [
    "Altitude: 40deg 24' 43.7\"\n",
    "Azimuth: 263deg 25' 41.0\""
   ]
  },
  {
   "cell_type": "code",
   "execution_count": 33,
   "metadata": {},
   "outputs": [
    {
     "name": "stdout",
     "output_type": "stream",
     "text": [
      "Altitude: -52deg 27' 12.8\"\n",
      "Azimuth: 324deg 48' 20.0\"\n"
     ]
    }
   ],
   "source": [
    "g = earth + wgs84.latlon(27.3314, 88.6138)\n",
    "ts = load.timescale()\n",
    "t = ts.utc(1930, 2, 2, 13, 49)\n",
    "astrometric = g.at(t).observe(barnards_star)\n",
    "alt, az, distance = astrometric.apparent().altaz()\n",
    "print('Altitude:',alt)\n",
    "print('Azimuth:',az)"
   ]
  },
  {
   "cell_type": "code",
   "execution_count": 47,
   "metadata": {},
   "outputs": [],
   "source": [
    "leo = Star.from_dataframe(df.loc[55084])"
   ]
  },
  {
   "cell_type": "code",
   "execution_count": 48,
   "metadata": {},
   "outputs": [
    {
     "name": "stdout",
     "output_type": "stream",
     "text": [
      "Altitude: -10deg 39' 27.0\"\n",
      "Azimuth: 88deg 10' 10.7\"\n",
      "Ra: 11h 16m 40.21s\n",
      "dec: -03deg 39' 03.3\"\n"
     ]
    }
   ],
   "source": [
    "planets = load('de421.bsp')\n",
    "earth = planets['earth']\n",
    "g = earth + wgs84.latlon(27.3314, 88.6138)\n",
    "ts = load.timescale()\n",
    "t = ts.utc(1930, 2, 2, 13, 49)\n",
    "astrometric = g.at(t).observe(leo)\n",
    "alt, az, distance = astrometric.apparent().altaz()\n",
    "ra, dec, distance = astrometric.radec()\n",
    "print('Altitude:',alt)\n",
    "print('Azimuth:',az)\n",
    "print('Ra:',ra)\n",
    "print('dec:',dec)"
   ]
  },
  {
   "cell_type": "code",
   "execution_count": 50,
   "metadata": {},
   "outputs": [
    {
     "name": "stdout",
     "output_type": "stream",
     "text": [
      "Altitude: -41deg 05' 06.2\"\n",
      "Azimuth: 242deg 31' 47.0\"\n",
      "Ra: 20h 26m 54.45s\n",
      "dec: -37deg 24' 02.5\"\n"
     ]
    }
   ],
   "source": [
    "sag = Star.from_dataframe(df.loc[100852])\n",
    "planets = load('de421.bsp')\n",
    "earth = planets['earth']\n",
    "g = earth + wgs84.latlon(27.3314, 88.6138)\n",
    "ts = load.timescale()\n",
    "t = ts.utc(1930, 2, 2, 13, 49)\n",
    "astrometric = g.at(t).observe(sag)\n",
    "alt, az, distance = astrometric.apparent().altaz()\n",
    "ra, dec, distance = astrometric.radec()\n",
    "print('Altitude:',alt)\n",
    "print('Azimuth:',az)\n",
    "print('Ra:',ra)\n",
    "print('dec:',dec)"
   ]
  },
  {
   "cell_type": "code",
   "execution_count": null,
   "metadata": {},
   "outputs": [],
   "source": []
  }
 ],
 "metadata": {
  "kernelspec": {
   "display_name": "Python 3",
   "language": "python",
   "name": "python3"
  },
  "language_info": {
   "codemirror_mode": {
    "name": "ipython",
    "version": 3
   },
   "file_extension": ".py",
   "mimetype": "text/x-python",
   "name": "python",
   "nbconvert_exporter": "python",
   "pygments_lexer": "ipython3",
   "version": "3.7.2"
  }
 },
 "nbformat": 4,
 "nbformat_minor": 2
}
