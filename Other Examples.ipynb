{
 "cells": [
  {
   "cell_type": "markdown",
   "metadata": {},
   "source": [
    "## Seasons"
   ]
  },
  {
   "cell_type": "code",
   "execution_count": 1,
   "metadata": {},
   "outputs": [],
   "source": [
    "from skyfield import api\n",
    "ts = api.load.timescale()\n",
    "eph = api.load('de421.bsp')\n",
    "from skyfield import almanac\n",
    "from skyfield.framelib import itrs"
   ]
  },
  {
   "cell_type": "code",
   "execution_count": 2,
   "metadata": {},
   "outputs": [],
   "source": [
    "t0 = ts.utc(2021, 1, 1)\n",
    "t1 = ts.utc(2021, 12, 31)\n",
    "t, y = almanac.find_discrete(t0, t1, almanac.seasons(eph))"
   ]
  },
  {
   "cell_type": "code",
   "execution_count": 3,
   "metadata": {},
   "outputs": [
    {
     "name": "stdout",
     "output_type": "stream",
     "text": [
      "0 Vernal Equinox 2021-03-20 09:37:29Z\n",
      "1 Summer Solstice 2021-06-21 03:32:10Z\n",
      "2 Autumnal Equinox 2021-09-22 19:21:06Z\n",
      "3 Winter Solstice 2021-12-21 15:59:18Z\n"
     ]
    }
   ],
   "source": [
    "for yi, ti in zip(y, t):\n",
    "    print(yi, almanac.SEASON_EVENTS[yi], ti.utc_iso(' '))"
   ]
  },
  {
   "cell_type": "markdown",
   "metadata": {},
   "source": [
    "## Phases of moon"
   ]
  },
  {
   "cell_type": "code",
   "execution_count": 4,
   "metadata": {},
   "outputs": [],
   "source": [
    "t0 = ts.utc(2021, 1, 1)\n",
    "t1 = ts.utc(2021, 1, 31)\n",
    "t, y = almanac.find_discrete(t0, t1, almanac.moon_phases(eph))"
   ]
  },
  {
   "cell_type": "code",
   "execution_count": 5,
   "metadata": {},
   "outputs": [
    {
     "name": "stdout",
     "output_type": "stream",
     "text": [
      "['2021-01-06T09:37:13Z', '2021-01-13T05:00:11Z', '2021-01-20T21:01:37Z', '2021-01-28T19:16:14Z']\n",
      "[3 0 1 2]\n",
      "['Last Quarter', 'New Moon', 'First Quarter', 'Full Moon']\n"
     ]
    }
   ],
   "source": [
    "print(t.utc_iso())\n",
    "print(y)\n",
    "print([almanac.MOON_PHASES[yi] for yi in y])"
   ]
  },
  {
   "cell_type": "markdown",
   "metadata": {},
   "source": [
    "## Lunar nodes"
   ]
  },
  {
   "cell_type": "code",
   "execution_count": 6,
   "metadata": {},
   "outputs": [
    {
     "name": "stdout",
     "output_type": "stream",
     "text": [
      "['2021-01-10T20:15:17Z', '2021-01-24T21:47:04Z']\n",
      "[0 1]\n",
      "['descending', 'ascending']\n"
     ]
    }
   ],
   "source": [
    "\n",
    "t2, y2 = almanac.find_discrete(t0, t1, almanac.moon_nodes(eph))\n",
    "\n",
    "print(t2.utc_iso())\n",
    "print(y2)\n",
    "print([almanac.MOON_NODES[yi] for yi in y2])"
   ]
  },
  {
   "cell_type": "markdown",
   "metadata": {},
   "source": [
    "## Opposition and Conjuction"
   ]
  },
  {
   "cell_type": "code",
   "execution_count": 7,
   "metadata": {},
   "outputs": [
    {
     "name": "stdout",
     "output_type": "stream",
     "text": [
      "['2020-10-13T23:25:47Z', '2021-10-08T04:00:52Z', '2022-12-08T05:41:37Z', '2023-11-18T05:41:37Z']\n",
      "[1 0 1 0]\n"
     ]
    }
   ],
   "source": [
    "t00 = ts.utc(2020, 1, 1)\n",
    "t11 = ts.utc(2024, 1, 1)\n",
    "f = almanac.oppositions_conjunctions(eph, eph['mars'])\n",
    "t3, y3 = almanac.find_discrete(t00, t11, f)\n",
    "\n",
    "print(t3.utc_iso())\n",
    "print(y3)"
   ]
  },
  {
   "cell_type": "markdown",
   "metadata": {},
   "source": [
    "#### any planets outside earth's orbit; 0 means moment of conjunction and 1 means moment of opposition \n",
    "#### and its opposite for the moon"
   ]
  },
  {
   "cell_type": "markdown",
   "metadata": {},
   "source": [
    "## meridian transits"
   ]
  },
  {
   "cell_type": "code",
   "execution_count": 8,
   "metadata": {},
   "outputs": [],
   "source": [
    "bluffton = api.wgs84.latlon(+27.3314, +88.6138)\n",
    "\n",
    "t0 = ts.utc(2021, 1, 22)\n",
    "t1 = ts.utc(2021, 1, 23)\n"
   ]
  },
  {
   "cell_type": "code",
   "execution_count": 9,
   "metadata": {},
   "outputs": [],
   "source": [
    "f = almanac.meridian_transits(eph, eph['Mars'], bluffton)\n",
    "t, y = almanac.find_discrete(t0, t1, f)"
   ]
  },
  {
   "cell_type": "code",
   "execution_count": 10,
   "metadata": {},
   "outputs": [
    {
     "name": "stdout",
     "output_type": "stream",
     "text": [
      "['2021-01-22 00:18', '2021-01-22 12:17']\n",
      "[0 1]\n",
      "['Antimeridian transit', 'Meridian transit']\n"
     ]
    }
   ],
   "source": [
    "print(t.utc_strftime('%Y-%m-%d %H:%M'))\n",
    "print(y)\n",
    "print([almanac.MERIDIAN_TRANSITS[yi] for yi in y])"
   ]
  },
  {
   "cell_type": "code",
   "execution_count": null,
   "metadata": {},
   "outputs": [],
   "source": [
    "\n"
   ]
  },
  {
   "cell_type": "markdown",
   "metadata": {},
   "source": [
    "## Sunrise and Sunset"
   ]
  },
  {
   "cell_type": "code",
   "execution_count": 11,
   "metadata": {},
   "outputs": [
    {
     "name": "stdout",
     "output_type": "stream",
     "text": [
      "['2021-01-23T11:39:42Z', '2021-01-24T00:55:01Z']\n",
      "[0 1]\n"
     ]
    }
   ],
   "source": [
    "t0 = ts.utc(2021, 1, 23, 4)\n",
    "t1 = ts.utc(2021, 1, 24, 4)\n",
    "t, y = almanac.find_discrete(t0, t1, almanac.sunrise_sunset(eph, bluffton))\n",
    "\n",
    "print(t.utc_iso())\n",
    "print(y)"
   ]
  },
  {
   "cell_type": "markdown",
   "metadata": {},
   "source": [
    "## Sun up in polar regions"
   ]
  },
  {
   "cell_type": "code",
   "execution_count": 12,
   "metadata": {},
   "outputs": [],
   "source": [
    "far_north = api.wgs84.latlon(89, -80) #polar regions\n",
    "f = almanac.sunrise_sunset(eph, far_north)\n",
    "t0 = ts.utc(2021, 1, 1, 4)\n",
    "t1 = ts.utc(2021, 12, 31, 4)\n",
    "t, y = almanac.find_discrete(t0, t1, f)"
   ]
  },
  {
   "cell_type": "code",
   "execution_count": 13,
   "metadata": {},
   "outputs": [
    {
     "name": "stdout",
     "output_type": "stream",
     "text": [
      "['2021-03-16T14:18:01Z', '2021-03-16T21:12:12Z', '2021-03-17T12:39:25Z', '2021-03-17T22:56:56Z', '2021-03-18T11:12:48Z', '2021-03-19T00:34:26Z', '2021-03-19T09:43:59Z', '2021-03-20T02:29:37Z', '2021-03-20T07:53:58Z', '2021-09-23T02:16:11Z', '2021-09-23T08:40:35Z', '2021-09-24T00:35:41Z', '2021-09-24T10:26:31Z', '2021-09-24T23:09:38Z', '2021-09-25T12:01:58Z', '2021-09-25T21:43:17Z', '2021-09-26T13:49:19Z', '2021-09-26T20:01:13Z']\n",
      "[False False False  True  True  True  True  True  True False False False]\n",
      "polar night\n",
      "polar night\n",
      "polar night\n",
      "polar day\n",
      "polar day\n",
      "polar day\n",
      "polar day\n",
      "polar day\n",
      "polar day\n",
      "polar night\n",
      "polar night\n",
      "polar night\n"
     ]
    }
   ],
   "source": [
    "tr=ts.utc(2021, range(1,13), 1, 4)\n",
    "print(t.utc_iso())  # Empty list: no sunrise or sunset\n",
    "print(f(tr))        # But we can ask if the sun is up\n",
    "\n",
    "for i in range(len(tr)):\n",
    "    if f(tr[i]):\n",
    "        print('polar day')\n",
    "    else:\n",
    "        print('polar night')"
   ]
  },
  {
   "cell_type": "markdown",
   "metadata": {},
   "source": [
    "## Lunar eclipse"
   ]
  },
  {
   "cell_type": "code",
   "execution_count": 14,
   "metadata": {},
   "outputs": [],
   "source": [
    "from skyfield import eclipselib"
   ]
  },
  {
   "cell_type": "code",
   "execution_count": 15,
   "metadata": {},
   "outputs": [],
   "source": [
    "t0 = ts.utc(2021, 1, 1)\n",
    "t1 = ts.utc(2022, 1, 1)\n",
    "t, y, details = eclipselib.lunar_eclipses(t0, t1, eph)"
   ]
  },
  {
   "cell_type": "code",
   "execution_count": 16,
   "metadata": {},
   "outputs": [
    {
     "name": "stdout",
     "output_type": "stream",
     "text": [
      "2021-05-26 11:19 y=2 Total\n",
      "2021-11-19 09:03 y=1 Partial\n"
     ]
    }
   ],
   "source": [
    "for ti, yi in zip(t, y):\n",
    "    print(ti.utc_strftime('%Y-%m-%d %H:%M'),\n",
    "          'y={}'.format(yi),\n",
    "          eclipselib.LUNAR_ECLIPSES[yi])"
   ]
  },
  {
   "cell_type": "markdown",
   "metadata": {},
   "source": [
    "## Solar Eclipse"
   ]
  },
  {
   "cell_type": "code",
   "execution_count": 17,
   "metadata": {},
   "outputs": [],
   "source": [
    "t = ts.utc(2021, 1,1,0,range(365*1440))\n",
    "eph = api.load('de421.bsp')\n",
    "sun, moon, earth = eph['sun'], eph['moon'], eph['earth']\n",
    "e = earth.at(t)\n",
    "s = e.observe(sun).apparent()\n",
    "m = e.observe(moon).apparent()\n",
    "saps=s.separation_from(m)"
   ]
  },
  {
   "cell_type": "code",
   "execution_count": 18,
   "metadata": {
    "scrolled": true
   },
   "outputs": [
    {
     "name": "stdout",
     "output_type": "stream",
     "text": [
      "0.8485746965710017 A.D. 2021-Jun-10 10:16:00.0000 UTC\n",
      "0.8468223554892818 A.D. 2021-Jun-10 10:17:00.0000 UTC\n",
      "0.8451354974086399 A.D. 2021-Jun-10 10:18:00.0000 UTC\n",
      "0.8435145164222478 A.D. 2021-Jun-10 10:19:00.0000 UTC\n",
      "0.8419597942542035 A.D. 2021-Jun-10 10:20:00.0000 UTC\n",
      "0.84047169983082 A.D. 2021-Jun-10 10:21:00.0000 UTC\n",
      "0.8390505889095518 A.D. 2021-Jun-10 10:22:00.0000 UTC\n",
      "0.8376968036237101 A.D. 2021-Jun-10 10:23:00.0000 UTC\n",
      "0.8364106721342457 A.D. 2021-Jun-10 10:24:00.0000 UTC\n",
      "0.8351925082361025 A.D. 2021-Jun-10 10:25:00.0000 UTC\n",
      "0.8340426109803337 A.D. 2021-Jun-10 10:26:00.0000 UTC\n",
      "0.8329612643435625 A.D. 2021-Jun-10 10:27:00.0000 UTC\n",
      "0.8319487368843327 A.D. 2021-Jun-10 10:28:00.0000 UTC\n",
      "0.8310052814118298 A.D. 2021-Jun-10 10:29:00.0000 UTC\n",
      "0.8301311346779157 A.D. 2021-Jun-10 10:30:00.0000 UTC\n",
      "0.8293265171087493 A.D. 2021-Jun-10 10:31:00.0000 UTC\n",
      "0.8285916325182882 A.D. 2021-Jun-10 10:32:00.0000 UTC\n",
      "0.8279266678470177 A.D. 2021-Jun-10 10:33:00.0000 UTC\n",
      "0.8273317929552245 A.D. 2021-Jun-10 10:34:00.0000 UTC\n",
      "0.8268071603893326 A.D. 2021-Jun-10 10:35:00.0000 UTC\n",
      "0.8263529051951337 A.D. 2021-Jun-10 10:36:00.0000 UTC\n",
      "0.8259691447598103 A.D. 2021-Jun-10 10:37:00.0000 UTC\n",
      "0.8256559786382176 A.D. 2021-Jun-10 10:38:00.0000 UTC\n",
      "0.8254134884494747 A.D. 2021-Jun-10 10:39:00.0000 UTC\n",
      "0.8252417377612574 A.D. 2021-Jun-10 10:40:00.0000 UTC\n",
      "0.8251407720145885 A.D. 2021-Jun-10 10:41:00.0000 UTC\n",
      "0.8251106184660609 A.D. 2021-Jun-10 10:42:00.0000 UTC\n",
      "0.8251512861324388 A.D. 2021-Jun-10 10:43:00.0000 UTC\n",
      "0.8252627658261134 A.D. 2021-Jun-10 10:44:00.0000 UTC\n",
      "0.825445030120714 A.D. 2021-Jun-10 10:45:00.0000 UTC\n",
      "0.8256980334008581 A.D. 2021-Jun-10 10:46:00.0000 UTC\n",
      "0.8260217119412834 A.D. 2021-Jun-10 10:47:00.0000 UTC\n",
      "0.8264159839669729 A.D. 2021-Jun-10 10:48:00.0000 UTC\n",
      "0.8268807497551024 A.D. 2021-Jun-10 10:49:00.0000 UTC\n",
      "0.8274158917912057 A.D. 2021-Jun-10 10:50:00.0000 UTC\n",
      "0.8280212748840815 A.D. 2021-Jun-10 10:51:00.0000 UTC\n",
      "0.8286967463634123 A.D. 2021-Jun-10 10:52:00.0000 UTC\n",
      "0.8294421362604586 A.D. 2021-Jun-10 10:53:00.0000 UTC\n",
      "0.8302572575210672 A.D. 2021-Jun-10 10:54:00.0000 UTC\n",
      "0.8311419062493001 A.D. 2021-Jun-10 10:55:00.0000 UTC\n",
      "0.8320958619473349 A.D. 2021-Jun-10 10:56:00.0000 UTC\n",
      "0.8331188877978427 A.D. 2021-Jun-10 10:57:00.0000 UTC\n",
      "0.834210730948083 A.D. 2021-Jun-10 10:58:00.0000 UTC\n",
      "0.8353711228229 A.D. 2021-Jun-10 10:59:00.0000 UTC\n",
      "0.8365997794333184 A.D. 2021-Jun-10 11:00:00.0000 UTC\n",
      "0.8378964017383358 A.D. 2021-Jun-10 11:01:00.0000 UTC\n",
      "0.839260675976423 A.D. 2021-Jun-10 11:02:00.0000 UTC\n",
      "0.8406922740371398 A.D. 2021-Jun-10 11:03:00.0000 UTC\n",
      "0.8421908538523761 A.D. 2021-Jun-10 11:04:00.0000 UTC\n",
      "0.8437560597748992 A.D. 2021-Jun-10 11:05:00.0000 UTC\n",
      "0.8453875229755053 A.D. 2021-Jun-10 11:06:00.0000 UTC\n",
      "0.847084861875261 A.D. 2021-Jun-10 11:07:00.0000 UTC\n",
      "0.8488476825373203 A.D. 2021-Jun-10 11:08:00.0000 UTC\n"
     ]
    }
   ],
   "source": [
    "for i,ttr in zip(saps.degrees,t):\n",
    "     if i>=0 and i<=0.85:\n",
    "            print(i,ttr.utc_jpl())\n",
    "    "
   ]
  },
  {
   "cell_type": "code",
   "execution_count": 19,
   "metadata": {},
   "outputs": [],
   "source": [
    "#0.8353711228229 A.D. 2021-Jun-10 10:59:00.0000 UTC\n",
    "\n",
    "#0.9733651648249619 A.D. 2021-Dec-04 07:34:00.0000 UTC\n",
    "        "
   ]
  },
  {
   "cell_type": "code",
   "execution_count": 3,
   "metadata": {},
   "outputs": [
    {
     "name": "stdout",
     "output_type": "stream",
     "text": [
      "Sub-solar latitude: -21.9 degrees\n",
      "Sub-solar longitude: 17.1 degrees\n"
     ]
    }
   ],
   "source": [
    "\n",
    "t = ts.utc(2021,1,10,10,59)\n",
    "sun, earth =eph['sun'], eph['earth']\n",
    "p = earth.at(t).observe(sun).apparent()\n",
    "lat, lon, distance = p.frame_latlon(itrs)\n",
    "lon_degrees = (lon.degrees + 180.0) % 360.0 - 180.0\n",
    "print('Sub-solar latitude: {:.1f} degrees'.format(lat.degrees))\n",
    "print('Sub-solar longitude: {:.1f} degrees'.format(lon_degrees))"
   ]
  },
  {
   "cell_type": "code",
   "execution_count": 4,
   "metadata": {},
   "outputs": [
    {
     "name": "stdout",
     "output_type": "stream",
     "text": [
      "Sub-solar latitude: -22.3 degrees\n",
      "Sub-solar longitude: 64.0 degrees\n"
     ]
    }
   ],
   "source": [
    "\n",
    "t = ts.utc(2021,12,4,7,34)\n",
    "sun, earth =eph['sun'], eph['earth']\n",
    "p = earth.at(t).observe(sun).apparent()\n",
    "lat, lon, distance = p.frame_latlon(itrs)\n",
    "lon_degrees = (lon.degrees + 180.0) % 360.0 - 180.0\n",
    "print('Sub-solar latitude: {:.1f} degrees'.format(lat.degrees))\n",
    "print('Sub-solar longitude: {:.1f} degrees'.format(lon_degrees))"
   ]
  },
  {
   "cell_type": "code",
   "execution_count": null,
   "metadata": {},
   "outputs": [],
   "source": []
  }
 ],
 "metadata": {
  "kernelspec": {
   "display_name": "Python 3",
   "language": "python",
   "name": "python3"
  },
  "language_info": {
   "codemirror_mode": {
    "name": "ipython",
    "version": 3
   },
   "file_extension": ".py",
   "mimetype": "text/x-python",
   "name": "python",
   "nbconvert_exporter": "python",
   "pygments_lexer": "ipython3",
   "version": "3.7.2"
  }
 },
 "nbformat": 4,
 "nbformat_minor": 2
}
