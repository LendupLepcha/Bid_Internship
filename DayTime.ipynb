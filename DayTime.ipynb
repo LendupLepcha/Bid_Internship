{
 "cells": [
  {
   "cell_type": "code",
   "execution_count": 1,
   "metadata": {},
   "outputs": [],
   "source": [
    "import datetime as dt\n",
    "from pytz import timezone\n",
    "from skyfield import almanac\n",
    "from skyfield.api import E, N, W, wgs84, load"
   ]
  },
  {
   "cell_type": "markdown",
   "metadata": {},
   "source": [
    "# Set the timezone"
   ]
  },
  {
   "cell_type": "code",
   "execution_count": 2,
   "metadata": {},
   "outputs": [],
   "source": [
    "# Figure out local midnight.\n",
    "zone = timezone(\"Indian/Mahe\")# Indian/Mahe\n",
    "now = zone.localize(dt.datetime.now())\n",
    "midnight = now.replace(hour=0, minute=0, second=0, microsecond=0)\n",
    "next_midnight = midnight + dt.timedelta(days=1)"
   ]
  },
  {
   "cell_type": "code",
   "execution_count": 3,
   "metadata": {},
   "outputs": [
    {
     "data": {
      "text/plain": [
       "datetime.datetime(2021, 2, 11, 15, 55, 43, 136711, tzinfo=<DstTzInfo 'Indian/Mahe' +04+4:00:00 STD>)"
      ]
     },
     "execution_count": 3,
     "metadata": {},
     "output_type": "execute_result"
    }
   ],
   "source": [
    "now"
   ]
  },
  {
   "cell_type": "markdown",
   "metadata": {},
   "source": [
    "# Set the location from which you want to observe"
   ]
  },
  {
   "cell_type": "code",
   "execution_count": 4,
   "metadata": {},
   "outputs": [],
   "source": [
    "ts = load.timescale()\n",
    "t0 = ts.from_datetime(midnight)\n",
    "t1 = ts.from_datetime(next_midnight)\n",
    "eph = load('de421.bsp')\n",
    "bluffton = wgs84.latlon(27.3314 * N, 88.6138 * E)#Gangtok27.3314° N, 88.6138° E #bluffton40.8939 * N, 83.8917 * W\n",
    "f = almanac.dark_twilight_day(eph, bluffton)\n",
    "times, events = almanac.find_discrete(t0, t1, f)"
   ]
  },
  {
   "cell_type": "markdown",
   "metadata": {},
   "source": [
    "## Display O/P"
   ]
  },
  {
   "cell_type": "markdown",
   "metadata": {},
   "source": [
    "## Gangtok"
   ]
  },
  {
   "cell_type": "code",
   "execution_count": 5,
   "metadata": {},
   "outputs": [
    {
     "name": "stdout",
     "output_type": "stream",
     "text": [
      "2021-02-11 03:26   Astronomical twilight starts\n",
      "2021-02-11 03:54   Nautical twilight starts\n",
      "2021-02-11 04:21   Civil twilight starts\n",
      "2021-02-11 04:45   Day starts\n",
      "2021-02-11 15:54   Civil twilight starts\n",
      "2021-02-11 16:18   Nautical twilight starts\n",
      "2021-02-11 16:45   Astronomical twilight starts\n",
      "2021-02-11 17:13   Night starts\n"
     ]
    }
   ],
   "source": [
    "for t, e in zip(times, events):\n",
    "    tstr = str(t.astimezone(zone))[:16]\n",
    "    print(tstr, ' ', almanac.TWILIGHTS[e], 'starts')"
   ]
  },
  {
   "cell_type": "markdown",
   "metadata": {},
   "source": [
    "## Bluffton"
   ]
  },
  {
   "cell_type": "code",
   "execution_count": 30,
   "metadata": {},
   "outputs": [
    {
     "name": "stdout",
     "output_type": "stream",
     "text": [
      "2021-02-11 03:26   Astronomical twilight starts\n",
      "2021-02-11 03:54   Nautical twilight starts\n",
      "2021-02-11 04:21   Civil twilight starts\n",
      "2021-02-11 04:45   Day starts\n",
      "2021-02-11 15:54   Civil twilight starts\n",
      "2021-02-11 16:18   Nautical twilight starts\n",
      "2021-02-11 16:45   Astronomical twilight starts\n",
      "2021-02-11 17:13   Night starts\n"
     ]
    }
   ],
   "source": [
    "for t, e in zip(times, events):\n",
    "    tstr = str(t.astimezone(zone))[:16]\n",
    "    print(tstr, ' ', almanac.TWILIGHTS[e], 'starts')"
   ]
  },
  {
   "cell_type": "code",
   "execution_count": 31,
   "metadata": {},
   "outputs": [
    {
     "data": {
      "text/plain": [
       "<Time tt=[2459256.4776871996 ... 2459257.0516001508] len=8>"
      ]
     },
     "execution_count": 31,
     "metadata": {},
     "output_type": "execute_result"
    }
   ],
   "source": [
    "times"
   ]
  },
  {
   "cell_type": "code",
   "execution_count": 8,
   "metadata": {},
   "outputs": [
    {
     "data": {
      "text/plain": [
       "1.0"
      ]
     },
     "execution_count": 8,
     "metadata": {},
     "output_type": "execute_result"
    }
   ],
   "source": [
    "N"
   ]
  },
  {
   "cell_type": "code",
   "execution_count": 9,
   "metadata": {},
   "outputs": [
    {
     "data": {
      "text/plain": [
       "-1.0"
      ]
     },
     "execution_count": 9,
     "metadata": {},
     "output_type": "execute_result"
    }
   ],
   "source": [
    "W"
   ]
  },
  {
   "cell_type": "code",
   "execution_count": null,
   "metadata": {},
   "outputs": [],
   "source": []
  },
  {
   "cell_type": "code",
   "execution_count": 10,
   "metadata": {},
   "outputs": [],
   "source": [
    "eph=load('de421.bsp')"
   ]
  },
  {
   "cell_type": "code",
   "execution_count": 11,
   "metadata": {},
   "outputs": [
    {
     "name": "stdout",
     "output_type": "stream",
     "text": [
      "SPICE kernel file 'de421.bsp' has 15 segments\n",
      "  JD 2414864.50 - JD 2471184.50  (1899-07-28 through 2053-10-08)\n",
      "      0 -> 1    SOLAR SYSTEM BARYCENTER -> MERCURY BARYCENTER\n",
      "      0 -> 2    SOLAR SYSTEM BARYCENTER -> VENUS BARYCENTER\n",
      "      0 -> 3    SOLAR SYSTEM BARYCENTER -> EARTH BARYCENTER\n",
      "      0 -> 4    SOLAR SYSTEM BARYCENTER -> MARS BARYCENTER\n",
      "      0 -> 5    SOLAR SYSTEM BARYCENTER -> JUPITER BARYCENTER\n",
      "      0 -> 6    SOLAR SYSTEM BARYCENTER -> SATURN BARYCENTER\n",
      "      0 -> 7    SOLAR SYSTEM BARYCENTER -> URANUS BARYCENTER\n",
      "      0 -> 8    SOLAR SYSTEM BARYCENTER -> NEPTUNE BARYCENTER\n",
      "      0 -> 9    SOLAR SYSTEM BARYCENTER -> PLUTO BARYCENTER\n",
      "      0 -> 10   SOLAR SYSTEM BARYCENTER -> SUN\n",
      "      3 -> 301  EARTH BARYCENTER -> MOON\n",
      "      3 -> 399  EARTH BARYCENTER -> EARTH\n",
      "      1 -> 199  MERCURY BARYCENTER -> MERCURY\n",
      "      2 -> 299  VENUS BARYCENTER -> VENUS\n",
      "      4 -> 499  MARS BARYCENTER -> MARS\n"
     ]
    }
   ],
   "source": [
    "print(eph)"
   ]
  },
  {
   "cell_type": "code",
   "execution_count": 12,
   "metadata": {},
   "outputs": [],
   "source": [
    "ts=load.timescale()\n",
    "earth=eph['earth']\n",
    "gangtok = earth+wgs84.latlon(27.3314 * N, 88.6138 * E)"
   ]
  },
  {
   "cell_type": "code",
   "execution_count": 13,
   "metadata": {},
   "outputs": [],
   "source": [
    "t=ts.utc(2021, 1, 20, range(0, 24, 2))"
   ]
  },
  {
   "cell_type": "code",
   "execution_count": 14,
   "metadata": {},
   "outputs": [
    {
     "name": "stdout",
     "output_type": "stream",
     "text": [
      "[ True  True  True  True  True  True  True  True  True  True  True  True]\n"
     ]
    }
   ],
   "source": [
    "print(gangtok.at(t).is_sunlit(eph))"
   ]
  },
  {
   "cell_type": "code",
   "execution_count": 15,
   "metadata": {},
   "outputs": [],
   "source": [
    "gg=gangtok"
   ]
  },
  {
   "cell_type": "code",
   "execution_count": 16,
   "metadata": {},
   "outputs": [
    {
     "data": {
      "text/plain": [
       "array([ True,  True,  True,  True,  True,  True,  True,  True,  True,\n",
       "        True,  True,  True])"
      ]
     },
     "execution_count": 16,
     "metadata": {},
     "output_type": "execute_result"
    }
   ],
   "source": [
    "sun=eph['sun']\n",
    "p=(gangtok).at(t).observe(sun).apparent()\n",
    "sunlit=p.is_behind_earth()\n",
    "sunlit"
   ]
  },
  {
   "cell_type": "code",
   "execution_count": 17,
   "metadata": {},
   "outputs": [
    {
     "data": {
      "text/plain": [
       "array([1.47202359e+08, 1.47200618e+08, 1.47199504e+08, 1.47199574e+08,\n",
       "       1.47201072e+08, 1.47203860e+08, 1.47207454e+08, 1.47211157e+08,\n",
       "       1.47214244e+08, 1.47216156e+08, 1.47216648e+08, 1.47215861e+08])"
      ]
     },
     "execution_count": 17,
     "metadata": {},
     "output_type": "execute_result"
    }
   ],
   "source": [
    "p.distance().km"
   ]
  },
  {
   "cell_type": "code",
   "execution_count": 18,
   "metadata": {},
   "outputs": [
    {
     "data": {
      "text/plain": [
       "['A.D. 2021-Jan-20 00:00:00.0000 UTC',\n",
       " 'A.D. 2021-Jan-20 02:00:00.0000 UTC',\n",
       " 'A.D. 2021-Jan-20 04:00:00.0000 UTC',\n",
       " 'A.D. 2021-Jan-20 06:00:00.0000 UTC',\n",
       " 'A.D. 2021-Jan-20 08:00:00.0000 UTC',\n",
       " 'A.D. 2021-Jan-20 10:00:00.0000 UTC',\n",
       " 'A.D. 2021-Jan-20 12:00:00.0000 UTC',\n",
       " 'A.D. 2021-Jan-20 14:00:00.0000 UTC',\n",
       " 'A.D. 2021-Jan-20 16:00:00.0000 UTC',\n",
       " 'A.D. 2021-Jan-20 18:00:00.0000 UTC',\n",
       " 'A.D. 2021-Jan-20 20:00:00.0000 UTC',\n",
       " 'A.D. 2021-Jan-20 22:00:00.0000 UTC']"
      ]
     },
     "execution_count": 18,
     "metadata": {},
     "output_type": "execute_result"
    }
   ],
   "source": [
    "p.t.utc_jpl()"
   ]
  },
  {
   "cell_type": "code",
   "execution_count": 19,
   "metadata": {},
   "outputs": [
    {
     "data": {
      "text/plain": [
       "<Velocity [nan nan nan nan nan nan nan nan nan nan nan nan] au/day>"
      ]
     },
     "execution_count": 19,
     "metadata": {},
     "output_type": "execute_result"
    }
   ],
   "source": [
    "p.speed()"
   ]
  },
  {
   "cell_type": "code",
   "execution_count": 20,
   "metadata": {},
   "outputs": [
    {
     "data": {
      "text/plain": [
       "<Distance 0.983987 au>"
      ]
     },
     "execution_count": 20,
     "metadata": {},
     "output_type": "execute_result"
    }
   ],
   "source": [
    "p[0].distance()"
   ]
  },
  {
   "cell_type": "code",
   "execution_count": null,
   "metadata": {},
   "outputs": [],
   "source": []
  },
  {
   "cell_type": "code",
   "execution_count": 21,
   "metadata": {},
   "outputs": [],
   "source": [
    "from skyfield.api import load, wgs84, Angle"
   ]
  },
  {
   "cell_type": "code",
   "execution_count": 22,
   "metadata": {},
   "outputs": [],
   "source": [
    "ehp = load('de421.bsp')\n",
    "ts = load.timescale()"
   ]
  },
  {
   "cell_type": "code",
   "execution_count": 23,
   "metadata": {},
   "outputs": [],
   "source": [
    "t = ts.utc(1930,8,11,17,53,20)"
   ]
  },
  {
   "cell_type": "code",
   "execution_count": 24,
   "metadata": {},
   "outputs": [],
   "source": [
    "earth = ehp['earth']\n",
    "moon = ehp['moon']\n",
    "g = earth + wgs84.latlon(27.3314, 88.6138 )"
   ]
  },
  {
   "cell_type": "code",
   "execution_count": 25,
   "metadata": {},
   "outputs": [
    {
     "name": "stdout",
     "output_type": "stream",
     "text": [
      "23h 08m 55.59s\n",
      "-09deg 52' 55.9\"\n",
      "0.0026786 au\n"
     ]
    }
   ],
   "source": [
    "ast = g.at(t).observe(moon).apparent()\n",
    "r,dec,dist = ast.radec()\n",
    "print(r)\n",
    "print(dec)\n",
    "print(dist)"
   ]
  },
  {
   "cell_type": "code",
   "execution_count": 26,
   "metadata": {},
   "outputs": [
    {
     "data": {
      "text/plain": [
       "(<Angle -04deg 03' 46.7\">, <Angle 344deg 24' 45.5\">, <Distance 0.0026786 au>)"
      ]
     },
     "execution_count": 26,
     "metadata": {},
     "output_type": "execute_result"
    }
   ],
   "source": [
    "ast.ecliptic_latlon()"
   ]
  },
  {
   "cell_type": "code",
   "execution_count": 27,
   "metadata": {},
   "outputs": [
    {
     "data": {
      "text/plain": [
       "<Angle 347deg 13' 53.8\">"
      ]
     },
     "execution_count": 27,
     "metadata": {},
     "output_type": "execute_result"
    }
   ],
   "source": [
    "Angle(degrees=(r.hours*360)/24)\n"
   ]
  },
  {
   "cell_type": "code",
   "execution_count": 28,
   "metadata": {},
   "outputs": [
    {
     "data": {
      "text/plain": [
       "(<Angle 42deg 34' 23.5\">, <Angle 138deg 20' 09.8\">, <Distance 0.0026786 au>)"
      ]
     },
     "execution_count": 28,
     "metadata": {},
     "output_type": "execute_result"
    }
   ],
   "source": [
    "ast.altaz()"
   ]
  },
  {
   "cell_type": "code",
   "execution_count": 29,
   "metadata": {},
   "outputs": [],
   "source": [
    "ts = load.timescale()\n",
    "t=ts.now()\n",
    "eph=load('de421.bsp')\n",
    "earth=eph['earth']\n",
    "gangtok = earth+wgs84.latlon(27.3314 * N, 88.6138 * E)"
   ]
  },
  {
   "cell_type": "code",
   "execution_count": null,
   "metadata": {},
   "outputs": [],
   "source": []
  }
 ],
 "metadata": {
  "kernelspec": {
   "display_name": "Python 3",
   "language": "python",
   "name": "python3"
  },
  "language_info": {
   "codemirror_mode": {
    "name": "ipython",
    "version": 3
   },
   "file_extension": ".py",
   "mimetype": "text/x-python",
   "name": "python",
   "nbconvert_exporter": "python",
   "pygments_lexer": "ipython3",
   "version": "3.7.2"
  }
 },
 "nbformat": 4,
 "nbformat_minor": 2
}
