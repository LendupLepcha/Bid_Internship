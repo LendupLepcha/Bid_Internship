{
 "cells": [
  {
   "cell_type": "code",
   "execution_count": 1,
   "metadata": {},
   "outputs": [],
   "source": [
    "from skyfield.api import load, Angle\n",
    "from skyfield.data import mpc\n",
    "from skyfield.constants import GM_SUN_Pitjeva_2005_km3_s2 as GM_SUN\n",
    "import pickle\n",
    "import pandas as pd\n",
    "import numpy as np"
   ]
  },
  {
   "cell_type": "code",
   "execution_count": null,
   "metadata": {},
   "outputs": [],
   "source": [
    "earth = eph['earth']"
   ]
  },
  {
   "cell_type": "code",
   "execution_count": 3,
   "metadata": {},
   "outputs": [],
   "source": [
    "planets=[\n",
    "    'sun',\n",
    "    'moon',\n",
    "    'mercury barycenter',\n",
    "    'venus barycenter',\n",
    "    'mars barycenter',\n",
    "    'jupiter barycenter',\n",
    "    'saturn barycenter',\n",
    "    'uranus barycenter',\n",
    "    'neptune barycenter',\n",
    "    'pluto barycenter'\n",
    "]\n",
    "names = ['sun', 'moon', 'mercury', 'venus', 'mars', 'jupiter', 'saturn', 'uranus', 'neptune', 'pluto' ]\n",
    "ts = load.timescale()\n",
    "time_p = ts.utc(2018, 1, 1, 0, range(1,(365*3+2)*24*60))"
   ]
  },
  {
   "cell_type": "code",
   "execution_count": 5,
   "metadata": {},
   "outputs": [],
   "source": [
    "eph = load('de421.bsp')\n",
    "P = []\n",
    "for i in range(len(planets)):\n",
    "    P.append(eph[planets[i]])"
   ]
  },
  {
   "cell_type": "code",
   "execution_count": null,
   "metadata": {},
   "outputs": [],
   "source": [
    "planet_dist = {}\n",
    "for planet, p_name in zip(P, names):\n",
    "    print(p_name, \"  done \")\n",
    "    astronometric = gg.observe(planet)\n",
    "    ra, dec, dist = astronometric.radec()\n",
    "    eph_planet = {'ra' : ra, \n",
    "                  'dec' : dec,\n",
    "                 'distance' : dist}\n",
    "    planet_c_dist[p_name]= eph_planet"
   ]
  }
 ],
 "metadata": {
  "kernelspec": {
   "display_name": "Python 3",
   "language": "python",
   "name": "python3"
  },
  "language_info": {
   "codemirror_mode": {
    "name": "ipython",
    "version": 3
   },
   "file_extension": ".py",
   "mimetype": "text/x-python",
   "name": "python",
   "nbconvert_exporter": "python",
   "pygments_lexer": "ipython3",
   "version": "3.7.2"
  }
 },
 "nbformat": 4,
 "nbformat_minor": 2
}
