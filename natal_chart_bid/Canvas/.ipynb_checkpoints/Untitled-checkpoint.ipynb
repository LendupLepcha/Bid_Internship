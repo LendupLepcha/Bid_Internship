{
 "cells": [
  {
   "cell_type": "code",
   "execution_count": 27,
   "metadata": {},
   "outputs": [],
   "source": [
    "import tkinter\n",
    "from tkinter import *\n",
    "import math\n",
    "from PIL import Image, ImageTk"
   ]
  },
  {
   "cell_type": "code",
   "execution_count": 30,
   "metadata": {},
   "outputs": [],
   "source": [
    "zodiacs = {\n",
    "        'aries': [0, 30],\n",
    "        'taurus': [30, 60],\n",
    "        'gemini': [60, 90],\n",
    "        'cancer': [90, 120],\n",
    "        'leo': [120, 150],\n",
    "        'virgo': [150, 180],\n",
    "        'libra': [180, 210],\n",
    "        'scorpio': [210, 240],\n",
    "        'sagittarius': [240, 270],\n",
    "        'capricorn': [270, 300],\n",
    "        'aquarius': [300, 330],\n",
    "        'pisces': [330, 360]\n",
    "}"
   ]
  },
  {
   "cell_type": "code",
   "execution_count": 2,
   "metadata": {},
   "outputs": [],
   "source": [
    "def intersect_circle(angle,r):\n",
    "#     m = 3.14\n",
    "    signx = -1\n",
    "    signy = -1\n",
    "    quad = 1\n",
    "    if(angle == 360):\n",
    "        angle = 0\n",
    "        \n",
    "    if(angle>=270):\n",
    "        signy = 1\n",
    "        angle = angle - 270\n",
    "        quad = 4\n",
    "    elif(angle>=180):\n",
    "        signx = 1\n",
    "        signy = 1\n",
    "        angle = angle - 180\n",
    "        quad = 3\n",
    "    elif(angle>=90):\n",
    "        signx = 1\n",
    "        angle = angle - 90\n",
    "        quad = 2\n",
    "    m=math.tan(math.radians(angle))\n",
    "#     print(m)\n",
    "    x = math.sqrt((r*r)/(1+(m*m)))\n",
    "    y = m * x\n",
    "    if(quad % 2 ==0):\n",
    "        x, y = y, x\n",
    "#     print('x,y',x,y)\n",
    "    xx = signx * math.floor(x)\n",
    "    yy = signy * math.floor(y)\n",
    "    return xx,yy"
   ]
  },
  {
   "cell_type": "code",
   "execution_count": null,
   "metadata": {},
   "outputs": [],
   "source": []
  },
  {
   "cell_type": "code",
   "execution_count": 33,
   "metadata": {},
   "outputs": [],
   "source": [
    "root = Tk()\n",
    "root.geometry('700x700')\n",
    "\n",
    "my_canvas = Canvas(root, width=700, height=700, bg='white')\n",
    "my_canvas.pack()\n",
    "\n",
    "my_canvas.create_oval(49, 49, 649, 649) #(x1,y1,x2,y2,fill=\"color\")\n",
    "my_canvas.create_oval(99, 99, 599, 599)\n",
    "my_canvas.create_oval(199, 199, 499, 499)\n",
    "my_canvas.create_oval(347,347,351,351, fill = \"black\")\n",
    "\n",
    "for i in list([0,30,60,90,120,150,180,210,240,270,300,330]):\n",
    "    x0, y0 = intersect_circle(i, 250)\n",
    "    x, y = intersect_circle(i, 330)\n",
    "    my_canvas.create_line(x0+349, 349-y0, x+349, 349-y)\n",
    "\n",
    "for z in zodiacs:\n",
    "    x0, y0 = intersect_circle(zodiacs[z][0] + 15, 315)\n",
    "# Create a photoimage object of the image in the path\n",
    "    image1 = Image.open(\"../images/aries.jpg\")\n",
    "    width, height = image1.size\n",
    "\n",
    "    test = ImageTk.PhotoImage(image1)\n",
    "\n",
    "    label1 = tkinter.Label(image=test)\n",
    "    label1.image = test\n",
    "\n",
    "# Position image\n",
    "    label1.place(x = x0+349 - width, y = 349-y0 - height)\n",
    "\n",
    "root.mainloop()"
   ]
  },
  {
   "cell_type": "code",
   "execution_count": 16,
   "metadata": {},
   "outputs": [],
   "source": [
    "root = Tk()\n",
    "e=Entry(root, width=50)\n",
    "e.pack()\n",
    "\n",
    "f=Entry(root, width=50)\n",
    "f.pack()\n",
    "g=Entry(root, width=50)\n",
    "g.pack()\n",
    "\n",
    "def myClick():\n",
    "    global first, second, third\n",
    "    first = e.get()\n",
    "    second = f.get()\n",
    "    third = g.get()\n",
    "    myLabel = Label(root, text=first + second + third)\n",
    "    myLabel.pack()\n",
    "#     myLabel = Label(root, text=\"Hello \"+e.get())\n",
    "#     myLabel.pack()\n",
    "    \n",
    "myButton = Button(root, text=\"Enter Your Name\", command = myClick)\n",
    "myButton.pack()\n",
    "\n",
    "\n",
    "root.mainloop()"
   ]
  },
  {
   "cell_type": "code",
   "execution_count": null,
   "metadata": {},
   "outputs": [],
   "source": []
  }
 ],
 "metadata": {
  "kernelspec": {
   "display_name": "Python 3",
   "language": "python",
   "name": "python3"
  },
  "language_info": {
   "codemirror_mode": {
    "name": "ipython",
    "version": 3
   },
   "file_extension": ".py",
   "mimetype": "text/x-python",
   "name": "python",
   "nbconvert_exporter": "python",
   "pygments_lexer": "ipython3",
   "version": "3.7.2"
  }
 },
 "nbformat": 4,
 "nbformat_minor": 2
}
