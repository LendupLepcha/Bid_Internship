{
 "cells": [
  {
   "cell_type": "code",
   "execution_count": 1,
   "metadata": {},
   "outputs": [],
   "source": [
    "import cv2 as cv\n",
    "import numpy as np\n",
    "import pickle"
   ]
  },
  {
   "cell_type": "code",
   "execution_count": 3,
   "metadata": {},
   "outputs": [],
   "source": [
    "names = [\n",
    "    'sun',\n",
    "    'moon',\n",
    "    'mercury',\n",
    "    'venus',\n",
    "    'mars',\n",
    "    'jupiter',\n",
    "    'saturn',\n",
    "    'uranus',\n",
    "    'neptune',\n",
    "    'pluto',\n",
    "    'ceres',\n",
    "    'conjunction',\n",
    "    'opposition',\n",
    "    'square',\n",
    "    'sextile',\n",
    "    'trine',\n",
    "    'chart_frame_equal_house',\n",
    "    'aspect_grid_frame_withceres'\n",
    "]"
   ]
  },
  {
   "cell_type": "code",
   "execution_count": 5,
   "metadata": {},
   "outputs": [],
   "source": [
    "images = {}\n",
    "for i in names:\n",
    "    path = 'images/'+i+'.jpg'\n",
    "    images[i] = cv.imread(path, 0)"
   ]
  },
  {
   "cell_type": "code",
   "execution_count": 24,
   "metadata": {},
   "outputs": [
    {
     "data": {
      "text/plain": [
       "(24, 26)"
      ]
     },
     "execution_count": 24,
     "metadata": {},
     "output_type": "execute_result"
    }
   ],
   "source": [
    "images['sun'].shape"
   ]
  },
  {
   "cell_type": "code",
   "execution_count": 14,
   "metadata": {},
   "outputs": [],
   "source": [
    "a_dictionary = {\"a\": 1}\n",
    "file_to_write = open(\"images.pickle\", \"wb\")\n",
    "pickle.dump(images, file_to_write)"
   ]
  },
  {
   "cell_type": "code",
   "execution_count": 18,
   "metadata": {},
   "outputs": [],
   "source": [
    "file_to_write.close()"
   ]
  },
  {
   "cell_type": "code",
   "execution_count": 22,
   "metadata": {},
   "outputs": [
    {
     "name": "stdout",
     "output_type": "stream",
     "text": [
      "dict_keys(['sun', 'moon', 'mercury', 'venus', 'mars', 'jupiter', 'saturn', 'uranus', 'neptune', 'pluto', 'ceres', 'conjunction', 'opposition', 'square', 'sextile', 'trine', 'chart_frame_equal_house', 'aspect_grid_frame_withceres'])\n"
     ]
    }
   ],
   "source": [
    "file_to_read = open(\"images.pickle\", \"rb\")\n",
    "loaded_dictionary = pickle.load(file_to_read)\n",
    "print(loaded_dictionary.keys())"
   ]
  },
  {
   "cell_type": "code",
   "execution_count": 26,
   "metadata": {},
   "outputs": [
    {
     "name": "stdout",
     "output_type": "stream",
     "text": [
      "<class 'numpy.ndarray'>\n",
      "(737280,)\n",
      "(1024, 720)\n",
      "[[  0   1   2 ... 205 206 207]\n",
      " [208 209 210 ... 157 158 159]\n",
      " [160 161 162 ... 109 110 111]\n",
      " ...\n",
      " [144 145 146 ...  93  94  95]\n",
      " [ 96  97  98 ...  45  46  47]\n",
      " [ 48  49  50 ... 253 254 255]]\n",
      "<PIL.Image.Image image mode=L size=720x1024 at 0x1957F785668>\n"
     ]
    }
   ],
   "source": [
    "import numpy as np \n",
    "from PIL import Image as im  \n",
    "def main():\n",
    "    array = np.arange(0, 737280, 1, np.uint8)\n",
    "    print(type(array))\n",
    "    print(array.shape)\n",
    "    array = np.reshape(array, (1024, 720))      \n",
    "    print(array.shape)\n",
    "    print(array)\n",
    "    data = im.fromarray(array) \n",
    "    print(data)\n",
    "    data.save('gfg_dummy_pic.png')  \n",
    "# driver code \n",
    "if __name__ == \"__main__\": \n",
    "    \n",
    "  # function call \n",
    "  main() "
   ]
  },
  {
   "cell_type": "code",
   "execution_count": null,
   "metadata": {},
   "outputs": [],
   "source": []
  }
 ],
 "metadata": {
  "kernelspec": {
   "display_name": "Python 3",
   "language": "python",
   "name": "python3"
  },
  "language_info": {
   "codemirror_mode": {
    "name": "ipython",
    "version": 3
   },
   "file_extension": ".py",
   "mimetype": "text/x-python",
   "name": "python",
   "nbconvert_exporter": "python",
   "pygments_lexer": "ipython3",
   "version": "3.7.2"
  }
 },
 "nbformat": 4,
 "nbformat_minor": 2
}
