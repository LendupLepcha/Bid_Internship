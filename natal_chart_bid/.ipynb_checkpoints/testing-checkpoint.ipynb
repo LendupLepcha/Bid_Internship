{
 "cells": [
  {
   "cell_type": "code",
   "execution_count": 11,
   "metadata": {},
   "outputs": [],
   "source": [
    "from natal_package import natal as nt\n"
   ]
  },
  {
   "cell_type": "code",
   "execution_count": 13,
   "metadata": {},
   "outputs": [
    {
     "name": "stdout",
     "output_type": "stream",
     "text": [
      "Enter Date and Time\n",
      "Year: 2020\n",
      "month: 1\n",
      "day: 1\n",
      "hour: 1\n",
      "minute:1\n",
      "second: 1\n",
      "Date :  A.D. 2020-Jan-01 01:01:01.0000 UTC\n",
      "Enter Location\n",
      "Latitude:1\n",
      "Longitude:1\n",
      "...1\n",
      "...2\n",
      "...3\n",
      "...4\n",
      "...5\n",
      "        point     zodiac  zodiac_longitude house          RA\n",
      "0         sun  Capricorn          9.778554    12  279.778554\n",
      "1        moon     Pisces         15.735542        345.735542\n",
      "2     mercury  Capricorn          4.175825    12  274.175825\n",
      "3       venus   Aquarius         14.186001     2  314.186001\n",
      "4        mars    Scorpio         28.139174    11  238.139174\n",
      "5     jupiter  Capricorn          6.405376    12  276.405376\n",
      "6      saturn  Capricorn         21.125073     1  291.125073\n",
      "7      uranus     Taurus          2.418780     4   32.418780\n",
      "8     neptune     Pisces         15.990396        345.990396\n",
      "9       pluto  Capricorn         22.112113     1  292.112113\n",
      "10      ceres  Capricorn         17.663897     1  287.663897\n",
      "11  Ascendent  Capricorn         11.085094     1  281.085094\n",
      "      body1    body2  shape degree_type    degree\n",
      "0      moon      sun     60  Separating  5.956988\n",
      "1   mercury      sun      0  Separating  5.602729\n",
      "2   jupiter      sun      0  Separating  3.373177\n",
      "3   jupiter     moon     60  Separating  9.330165\n",
      "4   jupiter  mercury      0  Separating  2.229552\n",
      "5    saturn     moon     60    Applying  5.389532\n",
      "6    saturn     mars     60    Applying  7.014100\n",
      "7    uranus      sun    120  Separating  7.359774\n",
      "8    uranus  mercury    120  Separating  1.757045\n",
      "9    uranus  jupiter    120  Separating  3.986596\n",
      "10  neptune      sun     60  Separating  6.211842\n",
      "11  neptune     moon      0  Separating  0.254854\n",
      "12  neptune  jupiter     60  Separating  9.585020\n",
      "13  neptune   saturn     60    Applying  5.134677\n",
      "14    pluto     moon     60    Applying  6.376571\n",
      "15    pluto     mars     60    Applying  6.027061\n",
      "16    pluto   saturn      0  Separating  0.987039\n",
      "17    pluto  neptune     60    Applying  6.121717\n",
      "18    ceres      sun      0  Separating  7.885343\n",
      "19    ceres     moon     60    Applying  1.928355\n",
      "20    ceres   saturn      0  Separating  3.461177\n",
      "21    ceres  neptune     60    Applying  1.673500\n",
      "22    ceres    pluto      0  Separating  4.448216\n"
     ]
    },
    {
     "ename": "TypeError",
     "evalue": "cannot unpack non-iterable NoneType object",
     "output_type": "error",
     "traceback": [
      "\u001b[1;31m---------------------------------------------------------------------------\u001b[0m",
      "\u001b[1;31mTypeError\u001b[0m                                 Traceback (most recent call last)",
      "\u001b[1;32m<ipython-input-13-ea0cc12c3cf0>\u001b[0m in \u001b[0;36m<module>\u001b[1;34m\u001b[0m\n\u001b[0;32m      1\u001b[0m \u001b[0mt\u001b[0m\u001b[1;33m,\u001b[0m \u001b[0mrow\u001b[0m\u001b[1;33m,\u001b[0m \u001b[0mtsp\u001b[0m \u001b[1;33m=\u001b[0m\u001b[0mnt\u001b[0m\u001b[1;33m.\u001b[0m\u001b[0mget_angles\u001b[0m\u001b[1;33m(\u001b[0m\u001b[1;33m)\u001b[0m\u001b[1;33m\u001b[0m\u001b[1;33m\u001b[0m\u001b[0m\n\u001b[1;32m----> 2\u001b[1;33m \u001b[0mp\u001b[0m\u001b[1;33m,\u001b[0m\u001b[0ma\u001b[0m\u001b[1;33m,\u001b[0m\u001b[0mi1\u001b[0m\u001b[1;33m,\u001b[0m\u001b[0mi2\u001b[0m \u001b[1;33m=\u001b[0m \u001b[0mnt\u001b[0m\u001b[1;33m.\u001b[0m\u001b[0mdraw_chart\u001b[0m\u001b[1;33m(\u001b[0m\u001b[0mt\u001b[0m\u001b[1;33m,\u001b[0m \u001b[0mrow\u001b[0m\u001b[1;33m,\u001b[0m \u001b[0mtsp\u001b[0m\u001b[1;33m)\u001b[0m\u001b[1;33m\u001b[0m\u001b[1;33m\u001b[0m\u001b[0m\n\u001b[0m",
      "\u001b[1;31mTypeError\u001b[0m: cannot unpack non-iterable NoneType object"
     ]
    }
   ],
   "source": [
    "t, row, tsp =nt.get_angles()\n",
    "p,a = nt.draw_chart(t, row, tsp)"
   ]
  },
  {
   "cell_type": "markdown",
   "metadata": {},
   "source": [
    "# "
   ]
  }
 ],
 "metadata": {
  "kernelspec": {
   "display_name": "Python 3",
   "language": "python",
   "name": "python3"
  },
  "language_info": {
   "codemirror_mode": {
    "name": "ipython",
    "version": 3
   },
   "file_extension": ".py",
   "mimetype": "text/x-python",
   "name": "python",
   "nbconvert_exporter": "python",
   "pygments_lexer": "ipython3",
   "version": "3.7.2"
  }
 },
 "nbformat": 4,
 "nbformat_minor": 2
}
