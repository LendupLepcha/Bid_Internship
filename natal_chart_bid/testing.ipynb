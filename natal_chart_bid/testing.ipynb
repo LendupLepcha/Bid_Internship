{
 "cells": [
  {
   "cell_type": "code",
   "execution_count": 4,
   "metadata": {},
   "outputs": [],
   "source": [
    "from natal_package import natal as nt\n",
    "import cv2 as cv"
   ]
  },
  {
   "cell_type": "code",
   "execution_count": 2,
   "metadata": {},
   "outputs": [
    {
     "name": "stdout",
     "output_type": "stream",
     "text": [
      "Enter Date and Time\n",
      "Year: 2020\n",
      "month: 1\n",
      "day: 1\n",
      "hour: 1\n",
      "minute:1\n",
      "second: 1\n",
      "Date :  A.D. 2020-Jan-01 01:01:01.0000 UTC\n",
      "Enter Location\n",
      "Latitude:1\n",
      "Longitude:1\n",
      "...1\n",
      "...2\n",
      "...3\n",
      "...4\n",
      "...5\n"
     ]
    }
   ],
   "source": [
    "t, row, tsp =nt.get_angles()\n",
    "p,a, i, g = nt.draw_chart(t, row, tsp)"
   ]
  },
  {
   "cell_type": "code",
   "execution_count": 5,
   "metadata": {},
   "outputs": [],
   "source": [
    "cv.imshow('Aspect_grid',i)\n",
    "cv.imshow('Natal_Chart', g)\n",
    "cv.waitKey(0)\n",
    "cv.destroyAllWindows()"
   ]
  },
  {
   "cell_type": "code",
   "execution_count": 5,
   "metadata": {
    "scrolled": false
   },
   "outputs": [
    {
     "data": {
      "text/plain": [
       "[['moon', 'sun', 60, 'Separating', 6.887713017200042],\n",
       " ['mercury', 'sun', 0, 'Separating', 5.6032942066713645],\n",
       " ['jupiter', 'sun', 0, 'Separating', 3.37430930130688],\n",
       " ['jupiter', 'mercury', 0, 'Separating', 2.2289849053644843],\n",
       " ['saturn', 'moon', 60, 'Applying', 4.45762728531156],\n",
       " ['saturn', 'mars', 60, 'Applying', 7.013739406056658],\n",
       " ['uranus', 'sun', 120, 'Separating', 7.361208563251324],\n",
       " ['uranus', 'mercury', 120, 'Separating', 1.7579143565799598],\n",
       " ['uranus', 'jupiter', 120, 'Separating', 3.986899261944444],\n",
       " ['neptune', 'sun', 60, 'Separating', 6.210495677153631],\n",
       " ['neptune', 'moon', 0, 'Separating', 0.6772173400464112],\n",
       " ['neptune', 'jupiter', 60, 'Separating', 9.584804978460511],\n",
       " ['neptune', 'saturn', 60, 'Applying', 5.134844625357971],\n",
       " ['pluto', 'moon', 60, 'Applying', 5.444560113355806],\n",
       " ['pluto', 'mars', 60, 'Applying', 6.026806578012412],\n",
       " ['pluto', 'saturn', 0, 'Separating', 0.986932828044246],\n",
       " ['pluto', 'neptune', 60, 'Applying', 6.121777453402217],\n",
       " ['ceres', 'sun', 0, 'Separating', 7.884325513012982],\n",
       " ['ceres', 'moon', 60, 'Applying', 0.9966124958129399],\n",
       " ['ceres', 'saturn', 0, 'Separating', 3.46101478949862],\n",
       " ['ceres', 'neptune', 60, 'Applying', 1.673829835859351],\n",
       " ['ceres', 'pluto', 0, 'Separating', 4.447947617542866]]"
      ]
     },
     "execution_count": 5,
     "metadata": {},
     "output_type": "execute_result"
    }
   ],
   "source": [
    "a"
   ]
  },
  {
   "cell_type": "code",
   "execution_count": null,
   "metadata": {},
   "outputs": [],
   "source": [
    "df.insert(2, \"Age\", [21, 23, 24, 21], True) "
   ]
  }
 ],
 "metadata": {
  "kernelspec": {
   "display_name": "Python 3",
   "language": "python",
   "name": "python3"
  },
  "language_info": {
   "codemirror_mode": {
    "name": "ipython",
    "version": 3
   },
   "file_extension": ".py",
   "mimetype": "text/x-python",
   "name": "python",
   "nbconvert_exporter": "python",
   "pygments_lexer": "ipython3",
   "version": "3.7.2"
  }
 },
 "nbformat": 4,
 "nbformat_minor": 2
}
