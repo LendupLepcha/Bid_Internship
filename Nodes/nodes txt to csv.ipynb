{
 "cells": [
  {
   "cell_type": "code",
   "execution_count": 20,
   "metadata": {},
   "outputs": [],
   "source": [
    "import pandas as pd\n",
    "import numpy as np\n"
   ]
  },
  {
   "cell_type": "code",
   "execution_count": 23,
   "metadata": {},
   "outputs": [],
   "source": [
    "txt = pd.read_csv('nodes.txt', header=None, delimiter=r\"\\s+\")"
   ]
  },
  {
   "cell_type": "code",
   "execution_count": 24,
   "metadata": {},
   "outputs": [
    {
     "data": {
      "text/html": [
       "<div>\n",
       "<style scoped>\n",
       "    .dataframe tbody tr th:only-of-type {\n",
       "        vertical-align: middle;\n",
       "    }\n",
       "\n",
       "    .dataframe tbody tr th {\n",
       "        vertical-align: top;\n",
       "    }\n",
       "\n",
       "    .dataframe thead th {\n",
       "        text-align: right;\n",
       "    }\n",
       "</style>\n",
       "<table border=\"1\" class=\"dataframe\">\n",
       "  <thead>\n",
       "    <tr style=\"text-align: right;\">\n",
       "      <th></th>\n",
       "      <th>0</th>\n",
       "      <th>1</th>\n",
       "      <th>2</th>\n",
       "      <th>3</th>\n",
       "      <th>4</th>\n",
       "      <th>5</th>\n",
       "      <th>6</th>\n",
       "      <th>7</th>\n",
       "      <th>8</th>\n",
       "    </tr>\n",
       "  </thead>\n",
       "  <tbody>\n",
       "    <tr>\n",
       "      <th>0</th>\n",
       "      <td>1</td>\n",
       "      <td>Jan</td>\n",
       "      <td>2018</td>\n",
       "      <td>07:20:00</td>\n",
       "      <td>UT</td>\n",
       "      <td>|</td>\n",
       "      <td>135.048966</td>\n",
       "      <td>315.048966</td>\n",
       "      <td>|</td>\n",
       "    </tr>\n",
       "    <tr>\n",
       "      <th>1</th>\n",
       "      <td>2</td>\n",
       "      <td>Jan</td>\n",
       "      <td>2018</td>\n",
       "      <td>07:20:00</td>\n",
       "      <td>UT</td>\n",
       "      <td>|</td>\n",
       "      <td>134.990729</td>\n",
       "      <td>314.990729</td>\n",
       "      <td>|</td>\n",
       "    </tr>\n",
       "    <tr>\n",
       "      <th>2</th>\n",
       "      <td>3</td>\n",
       "      <td>Jan</td>\n",
       "      <td>2018</td>\n",
       "      <td>07:20:00</td>\n",
       "      <td>UT</td>\n",
       "      <td>|</td>\n",
       "      <td>134.944927</td>\n",
       "      <td>314.944927</td>\n",
       "      <td>|</td>\n",
       "    </tr>\n",
       "    <tr>\n",
       "      <th>3</th>\n",
       "      <td>4</td>\n",
       "      <td>Jan</td>\n",
       "      <td>2018</td>\n",
       "      <td>07:20:00</td>\n",
       "      <td>UT</td>\n",
       "      <td>|</td>\n",
       "      <td>134.915256</td>\n",
       "      <td>314.915256</td>\n",
       "      <td>|</td>\n",
       "    </tr>\n",
       "    <tr>\n",
       "      <th>4</th>\n",
       "      <td>5</td>\n",
       "      <td>Jan</td>\n",
       "      <td>2018</td>\n",
       "      <td>07:20:00</td>\n",
       "      <td>UT</td>\n",
       "      <td>|</td>\n",
       "      <td>134.902655</td>\n",
       "      <td>314.902655</td>\n",
       "      <td>|</td>\n",
       "    </tr>\n",
       "    <tr>\n",
       "      <th>...</th>\n",
       "      <td>...</td>\n",
       "      <td>...</td>\n",
       "      <td>...</td>\n",
       "      <td>...</td>\n",
       "      <td>...</td>\n",
       "      <td>...</td>\n",
       "      <td>...</td>\n",
       "      <td>...</td>\n",
       "      <td>...</td>\n",
       "    </tr>\n",
       "    <tr>\n",
       "      <th>1091</th>\n",
       "      <td>27</td>\n",
       "      <td>Dec</td>\n",
       "      <td>2020</td>\n",
       "      <td>07:20:00</td>\n",
       "      <td>UT</td>\n",
       "      <td>|</td>\n",
       "      <td>79.711156</td>\n",
       "      <td>259.711156</td>\n",
       "      <td>|</td>\n",
       "    </tr>\n",
       "    <tr>\n",
       "      <th>1092</th>\n",
       "      <td>28</td>\n",
       "      <td>Dec</td>\n",
       "      <td>2020</td>\n",
       "      <td>07:20:00</td>\n",
       "      <td>UT</td>\n",
       "      <td>|</td>\n",
       "      <td>79.730233</td>\n",
       "      <td>259.730233</td>\n",
       "      <td>|</td>\n",
       "    </tr>\n",
       "    <tr>\n",
       "      <th>1093</th>\n",
       "      <td>29</td>\n",
       "      <td>Dec</td>\n",
       "      <td>2020</td>\n",
       "      <td>07:20:00</td>\n",
       "      <td>UT</td>\n",
       "      <td>|</td>\n",
       "      <td>79.730868</td>\n",
       "      <td>259.730868</td>\n",
       "      <td>|</td>\n",
       "    </tr>\n",
       "    <tr>\n",
       "      <th>1094</th>\n",
       "      <td>30</td>\n",
       "      <td>Dec</td>\n",
       "      <td>2020</td>\n",
       "      <td>07:20:00</td>\n",
       "      <td>UT</td>\n",
       "      <td>|</td>\n",
       "      <td>79.704881</td>\n",
       "      <td>259.704881</td>\n",
       "      <td>|</td>\n",
       "    </tr>\n",
       "    <tr>\n",
       "      <th>1095</th>\n",
       "      <td>31</td>\n",
       "      <td>Dec</td>\n",
       "      <td>2020</td>\n",
       "      <td>07:20:00</td>\n",
       "      <td>UT</td>\n",
       "      <td>|</td>\n",
       "      <td>79.649130</td>\n",
       "      <td>259.649130</td>\n",
       "      <td>|</td>\n",
       "    </tr>\n",
       "  </tbody>\n",
       "</table>\n",
       "<p>1096 rows × 9 columns</p>\n",
       "</div>"
      ],
      "text/plain": [
       "       0    1     2         3   4  5           6           7  8\n",
       "0      1  Jan  2018  07:20:00  UT  |  135.048966  315.048966  |\n",
       "1      2  Jan  2018  07:20:00  UT  |  134.990729  314.990729  |\n",
       "2      3  Jan  2018  07:20:00  UT  |  134.944927  314.944927  |\n",
       "3      4  Jan  2018  07:20:00  UT  |  134.915256  314.915256  |\n",
       "4      5  Jan  2018  07:20:00  UT  |  134.902655  314.902655  |\n",
       "...   ..  ...   ...       ...  .. ..         ...         ... ..\n",
       "1091  27  Dec  2020  07:20:00  UT  |   79.711156  259.711156  |\n",
       "1092  28  Dec  2020  07:20:00  UT  |   79.730233  259.730233  |\n",
       "1093  29  Dec  2020  07:20:00  UT  |   79.730868  259.730868  |\n",
       "1094  30  Dec  2020  07:20:00  UT  |   79.704881  259.704881  |\n",
       "1095  31  Dec  2020  07:20:00  UT  |   79.649130  259.649130  |\n",
       "\n",
       "[1096 rows x 9 columns]"
      ]
     },
     "execution_count": 24,
     "metadata": {},
     "output_type": "execute_result"
    }
   ],
   "source": [
    "txt"
   ]
  },
  {
   "cell_type": "code",
   "execution_count": 32,
   "metadata": {},
   "outputs": [],
   "source": [
    "nn, sn = list(txt[6]), list(txt[7]) "
   ]
  },
  {
   "cell_type": "code",
   "execution_count": null,
   "metadata": {},
   "outputs": [],
   "source": []
  },
  {
   "cell_type": "code",
   "execution_count": 34,
   "metadata": {},
   "outputs": [],
   "source": [
    "Nodes = {\n",
    "    'north_node' : nn,\n",
    "    'south_node' : sn\n",
    "}"
   ]
  },
  {
   "cell_type": "code",
   "execution_count": 35,
   "metadata": {},
   "outputs": [],
   "source": [
    "nodepd = pd.DataFrame(Nodes, columns = ['north_node', 'south_node'])"
   ]
  },
  {
   "cell_type": "code",
   "execution_count": 37,
   "metadata": {},
   "outputs": [],
   "source": [
    "nodepd.to_csv('Nodes.csv', index = None)"
   ]
  },
  {
   "cell_type": "markdown",
   "metadata": {},
   "source": [
    "## Build a star"
   ]
  },
  {
   "cell_type": "code",
   "execution_count": 39,
   "metadata": {},
   "outputs": [],
   "source": [
    "from skyfield.api import N, Star, W, load, wgs84\n",
    "\n",
    "ts = load.timescale()\n",
    "t = ts.now()\n",
    "eph = load('de421.bsp')\n",
    "earth = eph['earth']\n",
    "boston = earth + wgs84.latlon(42.3583 * N, 71.0603 * W, elevation_m=43)\n",
    "barnard = Star(ra_hours=(17, 57, 48.49803),\n",
    "               dec_degrees=(4, 41, 36.2072))"
   ]
  },
  {
   "cell_type": "code",
   "execution_count": 40,
   "metadata": {},
   "outputs": [
    {
     "data": {
      "text/plain": [
       "Star(ra=269.4520751250001, dec=4.69339088888889, epoch=2451545.0)"
      ]
     },
     "execution_count": 40,
     "metadata": {},
     "output_type": "execute_result"
    }
   ],
   "source": [
    "barnard"
   ]
  },
  {
   "cell_type": "code",
   "execution_count": 54,
   "metadata": {},
   "outputs": [
    {
     "name": "stdout",
     "output_type": "stream",
     "text": [
      "323.3965729553894\n",
      "+00deg 00' 19.9\"\n"
     ]
    }
   ],
   "source": [
    "from skyfield import api\n",
    "from skyfield.api import wgs84\n",
    "\n",
    "ts = api.load.timescale()\n",
    "planets = api.load('de421.bsp')\n",
    "earth = planets['earth']\n",
    "\n",
    "antenna = earth + wgs84.latlon(27.3314,88.6138)\n",
    "\n",
    "t = ts.utc(1998, 8, 11, 12,20)\n",
    "direction = antenna.at(t).from_altaz(alt_degrees=0, az_degrees=90)\n",
    "\n",
    "ra, dec, distance = direction.radec()\n",
    "print(ra.hours*360/24)\n",
    "print(dec)"
   ]
  },
  {
   "cell_type": "code",
   "execution_count": null,
   "metadata": {},
   "outputs": [],
   "source": []
  }
 ],
 "metadata": {
  "kernelspec": {
   "display_name": "Python 3",
   "language": "python",
   "name": "python3"
  },
  "language_info": {
   "codemirror_mode": {
    "name": "ipython",
    "version": 3
   },
   "file_extension": ".py",
   "mimetype": "text/x-python",
   "name": "python",
   "nbconvert_exporter": "python",
   "pygments_lexer": "ipython3",
   "version": "3.7.2"
  }
 },
 "nbformat": 4,
 "nbformat_minor": 2
}
